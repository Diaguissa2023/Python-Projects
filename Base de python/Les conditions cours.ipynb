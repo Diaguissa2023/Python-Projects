{
 "cells": [
  {
   "cell_type": "markdown",
   "metadata": {},
   "source": [
    "<b>Objectifs</b>\n",
    "- comprendre ce qu'est une condition\n",
    "- apprendre une nouveau type de variable : le booleen\n",
    "- Les conditions logiques\n",
    "- Construire une condition\n",
    "- les unions et les intersections\n",
    "- Les conditions imbriqués\n",
    "- Exercices + corrections"
   ]
  },
  {
   "cell_type": "markdown",
   "metadata": {},
   "source": [
    "<b>Les booleens</b>\n",
    "- montrer les schémas\n",
    "- chaque test retourne une valeur qui peut être gérée par une variable : les booleens"
   ]
  },
  {
   "cell_type": "code",
   "execution_count": null,
   "metadata": {},
   "outputs": [],
   "source": [
    "test1 = True\n",
    "print(test1)\n",
    "print(type(test1))\n",
    "test2 = False\n",
    "print(test2)\n",
    "print(type(test2))"
   ]
  },
  {
   "cell_type": "markdown",
   "metadata": {},
   "source": [
    "- les conditions logiques"
   ]
  },
  {
   "cell_type": "code",
   "execution_count": null,
   "metadata": {},
   "outputs": [],
   "source": [
    "text1 = 'data'\n",
    "text2 = 'data'\n",
    "test = text1 == text2\n",
    "print(test)"
   ]
  },
  {
   "cell_type": "code",
   "execution_count": null,
   "metadata": {},
   "outputs": [],
   "source": [
    "text1 = 'data'\n",
    "text2 = 'datas'\n",
    "test = text1 == text2\n",
    "print(test)"
   ]
  },
  {
   "cell_type": "code",
   "execution_count": null,
   "metadata": {},
   "outputs": [],
   "source": [
    "text1 = 'data'\n",
    "text2 = 'Data'\n",
    "test = text1 == text2\n",
    "print(test)"
   ]
  },
  {
   "cell_type": "code",
   "execution_count": null,
   "metadata": {},
   "outputs": [],
   "source": [
    "test = text1 != text2\n",
    "print(test)"
   ]
  },
  {
   "cell_type": "code",
   "execution_count": null,
   "metadata": {},
   "outputs": [],
   "source": [
    "A = 45\n",
    "B = 70\n",
    "test = A == B\n",
    "print(test)"
   ]
  },
  {
   "cell_type": "code",
   "execution_count": null,
   "metadata": {},
   "outputs": [],
   "source": [
    "test = A > B\n",
    "print(test)"
   ]
  },
  {
   "cell_type": "code",
   "execution_count": null,
   "metadata": {},
   "outputs": [],
   "source": [
    "test = A < B\n",
    "print(test)"
   ]
  },
  {
   "cell_type": "code",
   "execution_count": null,
   "metadata": {},
   "outputs": [],
   "source": [
    "test = A >= B\n",
    "print(test)"
   ]
  },
  {
   "cell_type": "code",
   "execution_count": null,
   "metadata": {},
   "outputs": [],
   "source": [
    "test = A <= B\n",
    "print(test)"
   ]
  },
  {
   "cell_type": "markdown",
   "metadata": {},
   "source": [
    "<b> La structure des conditions </b>"
   ]
  },
  {
   "cell_type": "code",
   "execution_count": null,
   "metadata": {},
   "outputs": [],
   "source": [
    "A = 45\n",
    "B = 70\n",
    "test = A > B\n",
    "\n",
    "if test == True:\n",
    "    print('A plus grand que B')\n",
    "else:\n",
    "    print('A plus petit que B')"
   ]
  },
  {
   "cell_type": "code",
   "execution_count": null,
   "metadata": {},
   "outputs": [],
   "source": [
    "A = 45\n",
    "B = 70\n",
    "\n",
    "if A > B :\n",
    "    print('A plus grand que B')\n",
    "else:\n",
    "    print('A plus petit que B')"
   ]
  },
  {
   "cell_type": "markdown",
   "metadata": {},
   "source": [
    "elif"
   ]
  },
  {
   "cell_type": "code",
   "execution_count": null,
   "metadata": {},
   "outputs": [],
   "source": [
    "A = 70\n",
    "B = 70\n",
    "\n",
    "if A > B :\n",
    "    print('A plus grand que B')\n",
    "else:\n",
    "    print('A plus petit que B')"
   ]
  },
  {
   "cell_type": "code",
   "execution_count": null,
   "metadata": {},
   "outputs": [],
   "source": [
    "if A > B :\n",
    "    print('A plus grand que B')\n",
    "elif A == B :\n",
    "    print('A égal à B')\n",
    "else:\n",
    "    print('A plus petit que B')"
   ]
  },
  {
   "cell_type": "code",
   "execution_count": null,
   "metadata": {},
   "outputs": [],
   "source": [
    "a = 1\n",
    "b = 2\n",
    "c = 3\n",
    "d = 4\n",
    "\n",
    "if a<b and d>c:\n",
    "    print('double conditions en intersection')"
   ]
  },
  {
   "cell_type": "code",
   "execution_count": null,
   "metadata": {},
   "outputs": [],
   "source": [
    "if a<b or d<c:\n",
    "    print('double conditions en union')"
   ]
  },
  {
   "cell_type": "code",
   "execution_count": null,
   "metadata": {},
   "outputs": [],
   "source": [
    "if a<b:\n",
    "    if d>c:\n",
    "        print('conditions imbriquées')"
   ]
  }
 ],
 "metadata": {
  "kernelspec": {
   "display_name": "Python 3",
   "language": "python",
   "name": "python3"
  },
  "language_info": {
   "codemirror_mode": {
    "name": "ipython",
    "version": 3
   },
   "file_extension": ".py",
   "mimetype": "text/x-python",
   "name": "python",
   "nbconvert_exporter": "python",
   "pygments_lexer": "ipython3",
   "version": "3.7.1"
  }
 },
 "nbformat": 4,
 "nbformat_minor": 2
}
