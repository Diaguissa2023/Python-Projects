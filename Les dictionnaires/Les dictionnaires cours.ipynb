{
 "cells": [
  {
   "cell_type": "markdown",
   "metadata": {},
   "source": [
    "<b>Objectifs</b>\n",
    "- Comprendre ce qu'est un dictionnaire\n",
    "- Savoir consulter et analyser un dictonnaire\n",
    "- Savoir manipulier un dictionnaire\n",
    "- créer un dictionnaire multi-propriétés"
   ]
  },
  {
   "cell_type": "markdown",
   "metadata": {},
   "source": [
    "<b>Concept et déclaration d'un dictionnaire en Python</b>\n",
    "- Reprenons notre exemple précédent. Quel est le prix des chaussures ?"
   ]
  },
  {
   "cell_type": "code",
   "execution_count": null,
   "metadata": {},
   "outputs": [],
   "source": [
    "produitsPrix = [['smartphone',1000],['chaussures',100],['console',400]]\n",
    "print(produitsPrix[1][1])        "
   ]
  },
  {
   "cell_type": "markdown",
   "metadata": {},
   "source": [
    "Et si un des produits est supprimé ? Ou si l'ordre est différent la fois suivante ? <br>\n",
    "ça n'est pas optimal. Un stockage sous la forme d'un dictionnaire est beaucoup plus adapté :"
   ]
  },
  {
   "cell_type": "code",
   "execution_count": null,
   "metadata": {},
   "outputs": [],
   "source": [
    "produitsDict = {'smartphone':1000,'chaussures':100,'console':400}\n",
    "print(produitsDict)"
   ]
  },
  {
   "cell_type": "markdown",
   "metadata": {},
   "source": [
    "<b>Consultation et analyse d'un dictionnaire</b>"
   ]
  },
  {
   "cell_type": "code",
   "execution_count": null,
   "metadata": {},
   "outputs": [],
   "source": [
    "#trouver la valeur d'un item\n",
    "print(produitsDict['console'])"
   ]
  },
  {
   "cell_type": "code",
   "execution_count": null,
   "metadata": {},
   "outputs": [],
   "source": [
    "#vérifier si un item est présent\n",
    "print('smartphone' in produitsDict)"
   ]
  },
  {
   "cell_type": "code",
   "execution_count": null,
   "metadata": {},
   "outputs": [],
   "source": [
    "#vérifier la longueur d'un dictionnaire\n",
    "print(len(produitsDict))"
   ]
  },
  {
   "cell_type": "code",
   "execution_count": null,
   "metadata": {},
   "outputs": [],
   "source": [
    "#obtenir à nouveau une liste d'items\n",
    "print(produitsDict.keys())\n",
    "print(list(produitsDict.keys()))"
   ]
  },
  {
   "cell_type": "code",
   "execution_count": null,
   "metadata": {},
   "outputs": [],
   "source": [
    "#obtenir à nouveau une liste de valeurs\n",
    "print(produitsDict.values())\n",
    "print(list(produitsDict.values()))"
   ]
  },
  {
   "cell_type": "code",
   "execution_count": null,
   "metadata": {},
   "outputs": [],
   "source": [
    "#Changer la valeur d'un item\n",
    "print(produitsDict)\n",
    "produitsDict['console'] = 200\n",
    "print(produitsDict)"
   ]
  },
  {
   "cell_type": "code",
   "execution_count": null,
   "metadata": {},
   "outputs": [],
   "source": [
    "#Ajouter un item\n",
    "print(produitsDict)\n",
    "produitsDict['sac'] = 80\n",
    "print(produitsDict)"
   ]
  },
  {
   "cell_type": "code",
   "execution_count": null,
   "metadata": {},
   "outputs": [],
   "source": [
    "#Supprimer un item\n",
    "print(produitsDict)\n",
    "produitsDict.pop(\"smartphone\")\n",
    "print(produitsDict)"
   ]
  },
  {
   "cell_type": "code",
   "execution_count": null,
   "metadata": {},
   "outputs": [],
   "source": [
    "#vider un dictionnaire\n",
    "print(produitsDict)\n",
    "produitsDict.clear()\n",
    "print(produitsDict)"
   ]
  },
  {
   "cell_type": "markdown",
   "metadata": {},
   "source": [
    "<b>créer un dictionnaire multi-propriétés</b><br>\n",
    "En plus du produit, je veux savoir s'il est en stock ou non."
   ]
  },
  {
   "cell_type": "code",
   "execution_count": null,
   "metadata": {},
   "outputs": [],
   "source": [
    "produitsDictPrix = {'smartphone':1000,'chaussures':100,'console':400}\n",
    "produitsDictStock = {'smartphone':True,'chaussures':False,'console':True}\n",
    "print(produitsDictPrix)\n",
    "print(produitsDictStock)"
   ]
  },
  {
   "cell_type": "code",
   "execution_count": null,
   "metadata": {},
   "outputs": [],
   "source": [
    "produitsDict = {\n",
    "    'smartphone':{'prix':1000,'enStock':True},\n",
    "    'chaussures':{'prix':100,'enStock':False},\n",
    "    'console':{'prix':400,'enStock':True}\n",
    "}\n",
    "print(produitsDict)"
   ]
  },
  {
   "cell_type": "code",
   "execution_count": null,
   "metadata": {},
   "outputs": [],
   "source": [
    "print(produitsDict['smartphone']['prix'])\n",
    "print(produitsDict['console']['enStock'])"
   ]
  }
 ],
 "metadata": {
  "kernelspec": {
   "display_name": "Python 3",
   "language": "python",
   "name": "python3"
  },
  "language_info": {
   "codemirror_mode": {
    "name": "ipython",
    "version": 3
   },
   "file_extension": ".py",
   "mimetype": "text/x-python",
   "name": "python",
   "nbconvert_exporter": "python",
   "pygments_lexer": "ipython3",
   "version": "3.6.2"
  }
 },
 "nbformat": 4,
 "nbformat_minor": 2
}
