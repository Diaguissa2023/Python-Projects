{
 "cells": [
  {
   "cell_type": "markdown",
   "metadata": {},
   "source": [
    "<b> entrainement au webscraping </b> <br>\n",
    "Nous allons nous entrainer ici à récupérer le nom et le prix des produits à partir d'une liste. <br>\n",
    "\n",
    "1) choisissez une liste de produits de votre choix et placer l'url dans la variable url. Exemple : <br> https://www.maisonsdumonde.com/FR/fr/c/meubles-0efb00bec42f8fb7b942b4b76ad5c077 <br>\n",
    "\n",
    "2) A l'aide de requests.get, recupérer dans la variable 'page' le code html de la page <br>\n",
    "3) Passer le code dans BeautifulSoup et enregistrer le resultat dans la variable 'html' <br>\n",
    "4) Consulter le code source de la page pour repérer comment isoler le nom de chaque produit. A l'aide de find_all, lister dans la variable nomsProduits tous les produits présent sur la page <br>\n",
    "5) Concerver uniquement le texte des noms de produit à l'aide de getText() <br>\n",
    "6) Faites le même exercice avec le prix du produit et enregistrez le résultat dans la variable prix <br>\n",
    "7) à l'aide des méthode .split(), .replace et float(), tentez de ne conserver que le chiffre pour chaque valeur de la liste prix <br>\n",
    "8) A l'aide de la méthode expliqué sur cette page, déclarez un tableau pandas avec 2 colonnes : le nom du produit et son prix <br>\n",
    "https://pandas.pydata.org/pandas-docs/version/0.23.4/generated/pandas.DataFrame.html"
   ]
  }
 ],
 "metadata": {
  "kernelspec": {
   "display_name": "Python 3",
   "language": "python",
   "name": "python3"
  },
  "language_info": {
   "codemirror_mode": {
    "name": "ipython",
    "version": 3
   },
   "file_extension": ".py",
   "mimetype": "text/x-python",
   "name": "python",
   "nbconvert_exporter": "python",
   "pygments_lexer": "ipython3",
   "version": "3.6.2"
  }
 },
 "nbformat": 4,
 "nbformat_minor": 2
}
