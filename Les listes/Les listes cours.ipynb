{
 "cells": [
  {
   "cell_type": "markdown",
   "metadata": {},
   "source": [
    "<b>Objectifs</b>\n",
    "- Comprendre ce qu'est une liste\n",
    "- Savoir consulter et analyser une liste\n",
    "- Savoir manipulier une liste"
   ]
  },
  {
   "cell_type": "markdown",
   "metadata": {},
   "source": [
    "<b>Concept et déclaration d'une liste en Python</b>\n",
    "\n",
    "- Cas 1 : on souhaite stocker les produits vendus sur un site e-commerce \n",
    "- Cas 2 : on souhaite stocker le chiffre d'affaires d'un site e-commerce pour chaque jour de l'année passée..."
   ]
  },
  {
   "cell_type": "code",
   "execution_count": null,
   "metadata": {
    "collapsed": true
   },
   "outputs": [],
   "source": [
    "produit1 = 'iPhone'\n",
    "produit2 = 'chaussures'\n",
    "produit3 = 'console'\n",
    "\n",
    "jour1 = 10000\n",
    "jour2 = 15000\n",
    "jour3 = 12000"
   ]
  },
  {
   "cell_type": "markdown",
   "metadata": {},
   "source": [
    "Une méthode plus simple serait de déclarer une liste de ces élements"
   ]
  },
  {
   "cell_type": "code",
   "execution_count": null,
   "metadata": {},
   "outputs": [],
   "source": [
    "produits = ['smartphone','chaussures','console']\n",
    "caParJour = [10000,15000,12000]\n",
    "print(produits)\n",
    "print(caParJour)"
   ]
  },
  {
   "cell_type": "markdown",
   "metadata": {},
   "source": [
    "ou encore de stocker des listes dans des listes avec une série d'informations, comme le nom du produit et son prix : "
   ]
  },
  {
   "cell_type": "code",
   "execution_count": null,
   "metadata": {},
   "outputs": [],
   "source": [
    "produitsPrix = [['smartphone',1000],['chaussures',1000],['console',400]]\n",
    "print(produitsPrix)"
   ]
  },
  {
   "cell_type": "markdown",
   "metadata": {},
   "source": [
    "<b>Consultation et analyse d'une liste</b>"
   ]
  },
  {
   "cell_type": "code",
   "execution_count": null,
   "metadata": {},
   "outputs": [],
   "source": [
    "#acceder à un élément d'une liste (attention cela commence à 0)\n",
    "print(produits[0])\n",
    "print(caParJour[1])\n",
    "print(produitsPrix[2])\n",
    "print(produitsPrix[2][0])\n",
    "print(produitsPrix[2][1])\n",
    "print(produits[0:2])"
   ]
  },
  {
   "cell_type": "code",
   "execution_count": null,
   "metadata": {},
   "outputs": [],
   "source": [
    "#vérifier si un élement est dans une liste\n",
    "print('smartphone' in produits)\n",
    "\n",
    "if 'smartphone' in produits:\n",
    "    print('il y a bien un smartphone dans la liste')"
   ]
  },
  {
   "cell_type": "code",
   "execution_count": null,
   "metadata": {},
   "outputs": [],
   "source": [
    "#connaitre la longueur d'une liste\n",
    "print(len(caParJour))"
   ]
  },
  {
   "cell_type": "code",
   "execution_count": null,
   "metadata": {},
   "outputs": [],
   "source": [
    "#connaitre le nombre d'élements d'un élément spécifique\n",
    "countDemo = ['A','B','C','A','A']\n",
    "countDemo.count('A')"
   ]
  },
  {
   "cell_type": "code",
   "execution_count": null,
   "metadata": {},
   "outputs": [],
   "source": [
    "#connaitre la position d'un élément spécifique\n",
    "countDemo.index('C')"
   ]
  },
  {
   "cell_type": "code",
   "execution_count": null,
   "metadata": {},
   "outputs": [],
   "source": [
    "#trier une liste\n",
    "caParJour.sort()\n",
    "print(caParJour)"
   ]
  },
  {
   "cell_type": "code",
   "execution_count": null,
   "metadata": {},
   "outputs": [],
   "source": [
    "#faire la somme d'une liste\n",
    "sum(caParJour)"
   ]
  },
  {
   "cell_type": "markdown",
   "metadata": {},
   "source": [
    "<b>Manipulations d'une liste</b>"
   ]
  },
  {
   "cell_type": "code",
   "execution_count": null,
   "metadata": {},
   "outputs": [],
   "source": [
    "#Changer la valeur d'un item\n",
    "countDemo = ['A','B','C','A','A']\n",
    "countDemo[2] = 'E'\n",
    "print(countDemo)"
   ]
  },
  {
   "cell_type": "code",
   "execution_count": null,
   "metadata": {},
   "outputs": [],
   "source": [
    "#Ajouter un item\n",
    "countDemo = ['A','B','C','A','A']\n",
    "countDemo.append('F')\n",
    "print(countDemo)"
   ]
  },
  {
   "cell_type": "code",
   "execution_count": null,
   "metadata": {},
   "outputs": [],
   "source": [
    "#inserer un item dans une position précise\n",
    "countDemo = ['A','B','C','A','A']\n",
    "countDemo.insert(0,'G')\n",
    "print(countDemo)"
   ]
  },
  {
   "cell_type": "code",
   "execution_count": null,
   "metadata": {},
   "outputs": [],
   "source": [
    "#suppprimer un item spécifique\n",
    "countDemo = ['A','B','C','A','A']\n",
    "countDemo.remove('B')\n",
    "print(countDemo)"
   ]
  },
  {
   "cell_type": "code",
   "execution_count": null,
   "metadata": {},
   "outputs": [],
   "source": [
    "#supprimer un item d'une position spécifique\n",
    "countDemo = ['A','B','C','A','A']\n",
    "countDemo.pop(1)\n",
    "print(countDemo)"
   ]
  },
  {
   "cell_type": "code",
   "execution_count": null,
   "metadata": {},
   "outputs": [],
   "source": [
    "#vider une list\n",
    "countDemo = ['A','B','C','A','A']\n",
    "countDemo.clear\n",
    "print(countDemo)"
   ]
  },
  {
   "cell_type": "code",
   "execution_count": null,
   "metadata": {
    "collapsed": true
   },
   "outputs": [],
   "source": []
  }
 ],
 "metadata": {
  "kernelspec": {
   "display_name": "Python 3",
   "language": "python",
   "name": "python3"
  },
  "language_info": {
   "codemirror_mode": {
    "name": "ipython",
    "version": 3
   },
   "file_extension": ".py",
   "mimetype": "text/x-python",
   "name": "python",
   "nbconvert_exporter": "python",
   "pygments_lexer": "ipython3",
   "version": "3.6.2"
  }
 },
 "nbformat": 4,
 "nbformat_minor": 2
}
