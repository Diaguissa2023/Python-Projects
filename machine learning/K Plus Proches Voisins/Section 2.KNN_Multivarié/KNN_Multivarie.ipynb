{
 "cells": [
  {
   "cell_type": "code",
   "execution_count": 1,
   "id": "e188b5a1",
   "metadata": {},
   "outputs": [],
   "source": [
    "from scipy.spatial import distance \n",
    "import pandas as pd\n",
    "import numpy as np\n"
   ]
  },
  {
   "cell_type": "code",
   "execution_count": 2,
   "id": "38cbde94",
   "metadata": {},
   "outputs": [],
   "source": [
    " # Dans cette section, on se concentrera sur l'impact de l'augmentation de la valeur K (de nombre plus proche voisin que le\n",
    "#    modele utilise pour faire de la prédiction)"
   ]
  },
  {
   "cell_type": "code",
   "execution_count": 3,
   "id": "e1456cac",
   "metadata": {},
   "outputs": [],
   "source": [
    "# Importation de la base de données\n",
    "#train_df = pd.read_csv(\"paris_airbnb.csv\")\n",
    "#test_df = pd.read_csv(\"paris_airbnb.csv\")\n",
    "paris_listings = pd.read_csv(\"paris_airbnb.csv\")"
   ]
  },
  {
   "cell_type": "code",
   "execution_count": 4,
   "id": "eb327f62",
   "metadata": {},
   "outputs": [
    {
     "name": "stdout",
     "output_type": "stream",
     "text": [
      "<class 'pandas.core.frame.DataFrame'>\n",
      "RangeIndex: 8000 entries, 0 to 7999\n",
      "Data columns (total 19 columns):\n",
      " #   Column                Non-Null Count  Dtype  \n",
      "---  ------                --------------  -----  \n",
      " 0   host_response_rate    5000 non-null   object \n",
      " 1   host_acceptance_rate  0 non-null      float64\n",
      " 2   host_listings_count   7999 non-null   float64\n",
      " 3   latitude              8000 non-null   float64\n",
      " 4   longitude             8000 non-null   float64\n",
      " 5   city                  7997 non-null   object \n",
      " 6   zipcode               7930 non-null   object \n",
      " 7   state                 7977 non-null   object \n",
      " 8   accommodates          8000 non-null   int64  \n",
      " 9   room_type             8000 non-null   object \n",
      " 10  bedrooms              7976 non-null   float64\n",
      " 11  bathrooms             7942 non-null   float64\n",
      " 12  beds                  7986 non-null   float64\n",
      " 13  price                 8000 non-null   object \n",
      " 14  cleaning_fee          6250 non-null   object \n",
      " 15  security_deposit      6320 non-null   object \n",
      " 16  minimum_nights        8000 non-null   int64  \n",
      " 17  maximum_nights        8000 non-null   int64  \n",
      " 18  number_of_reviews     8000 non-null   int64  \n",
      "dtypes: float64(7), int64(4), object(8)\n",
      "memory usage: 1.2+ MB\n"
     ]
    }
   ],
   "source": [
    "paris_listings.info()"
   ]
  },
  {
   "cell_type": "code",
   "execution_count": 5,
   "id": "98543bdb",
   "metadata": {},
   "outputs": [],
   "source": [
    "paris_listings[\"price\"]=paris_listings[\"price\"].apply(lambda x: x.replace(\",\", \"\"))\n",
    "paris_listings[\"price\"]=paris_listings[\"price\"].apply(lambda x: x.replace(\"$\", \"\"))\n",
    "paris_listings[\"price\"]=paris_listings[\"price\"].apply(lambda x: float(x))"
   ]
  },
  {
   "cell_type": "markdown",
   "id": "2be12ee0",
   "metadata": {},
   "source": [
    "*Dans cette section on ne souhaite pas garder les colonnes qui ne contiennent pas de valeurs non numériques, et des \n",
    "valeurs numériques mais non ordinales*\n",
    "\n",
    "### Les colonnes de valeurs non numériques:\n",
    "\n",
    "**room_type**,\n",
    "**city**,\n",
    "**state**,\n",
    "\n",
    "### Colonnes de valeurs non ordinanles:\n",
    "\n",
    "**latitude**,\n",
    "**longitude**,\n",
    "**zipcode**\n",
    "\n",
    "### Colonnes ne décrivant pas de logement:\n",
    "\n",
    "**host_reponse_rate**,\n",
    "**host_acceptance_rate**,\n",
    "**host_listings_count**,"
   ]
  },
  {
   "cell_type": "markdown",
   "id": "645ecb89",
   "metadata": {},
   "source": [
    "**Suppression des caractéristiques, les 9 colonnes citées ci-dessus**"
   ]
  },
  {
   "cell_type": "code",
   "execution_count": 6,
   "id": "86a5888a",
   "metadata": {},
   "outputs": [],
   "source": [
    "drop_columns = ['room_type','city', 'state', 'latitude', 'longitude', 'zipcode', 'host_response_rate', 'host_acceptance_rate','host_listings_count']"
   ]
  },
  {
   "cell_type": "code",
   "execution_count": 7,
   "id": "dc5b5d52",
   "metadata": {},
   "outputs": [
    {
     "name": "stdout",
     "output_type": "stream",
     "text": [
      "accommodates            0\n",
      "bedrooms               24\n",
      "bathrooms              58\n",
      "beds                   14\n",
      "price                   0\n",
      "cleaning_fee         1750\n",
      "security_deposit     1680\n",
      "minimum_nights          0\n",
      "maximum_nights          0\n",
      "number_of_reviews       0\n",
      "dtype: int64\n"
     ]
    }
   ],
   "source": [
    "paris_listings = paris_listings.drop(drop_columns, axis=1)\n",
    "print(paris_listings.isnull().sum())"
   ]
  },
  {
   "cell_type": "markdown",
   "id": "272d304c",
   "metadata": {},
   "source": [
    "#### Gestion des valeurs manquantes. On peut supprimer les valeurs manquantes de ces trois colonnes car ces valeurs est faible\n",
    "\n",
    "bedrooms 24;\n",
    "bathrooms 58;\n",
    "beds 14;\n",
    "cleaning_fee    1750;\n",
    "security_deposit    1680;"
   ]
  },
  {
   "cell_type": "code",
   "execution_count": 8,
   "id": "71b2bd36",
   "metadata": {},
   "outputs": [
    {
     "name": "stdout",
     "output_type": "stream",
     "text": [
      "accommodates         0\n",
      "bedrooms             0\n",
      "bathrooms            0\n",
      "beds                 0\n",
      "price                0\n",
      "minimum_nights       0\n",
      "maximum_nights       0\n",
      "number_of_reviews    0\n",
      "dtype: int64\n"
     ]
    }
   ],
   "source": [
    "paris_listings = paris_listings.drop(['security_deposit', 'cleaning_fee'], axis=1) # ça supp les colonnes\n",
    "paris_listings = paris_listings.dropna(axis=0) # ça va supp toutes les lignes qui contiennet des valeurs manquantes\n",
    "print(paris_listings.isnull().sum())"
   ]
  },
  {
   "cell_type": "code",
   "execution_count": 9,
   "id": "011d5c29",
   "metadata": {},
   "outputs": [],
   "source": [
    "# Ces 8 colonnes vont nous être utiles pour notre modele maintenant. "
   ]
  },
  {
   "cell_type": "code",
   "execution_count": 10,
   "id": "3c6883b1",
   "metadata": {},
   "outputs": [
    {
     "data": {
      "text/html": [
       "<div>\n",
       "<style scoped>\n",
       "    .dataframe tbody tr th:only-of-type {\n",
       "        vertical-align: middle;\n",
       "    }\n",
       "\n",
       "    .dataframe tbody tr th {\n",
       "        vertical-align: top;\n",
       "    }\n",
       "\n",
       "    .dataframe thead th {\n",
       "        text-align: right;\n",
       "    }\n",
       "</style>\n",
       "<table border=\"1\" class=\"dataframe\">\n",
       "  <thead>\n",
       "    <tr style=\"text-align: right;\">\n",
       "      <th></th>\n",
       "      <th>accommodates</th>\n",
       "      <th>bedrooms</th>\n",
       "      <th>bathrooms</th>\n",
       "      <th>beds</th>\n",
       "      <th>price</th>\n",
       "      <th>minimum_nights</th>\n",
       "      <th>maximum_nights</th>\n",
       "      <th>number_of_reviews</th>\n",
       "    </tr>\n",
       "  </thead>\n",
       "  <tbody>\n",
       "    <tr>\n",
       "      <th>0</th>\n",
       "      <td>2</td>\n",
       "      <td>0.0</td>\n",
       "      <td>1.0</td>\n",
       "      <td>0.0</td>\n",
       "      <td>75.0</td>\n",
       "      <td>3</td>\n",
       "      <td>15</td>\n",
       "      <td>8</td>\n",
       "    </tr>\n",
       "    <tr>\n",
       "      <th>1</th>\n",
       "      <td>2</td>\n",
       "      <td>0.0</td>\n",
       "      <td>1.0</td>\n",
       "      <td>1.0</td>\n",
       "      <td>115.0</td>\n",
       "      <td>1</td>\n",
       "      <td>90</td>\n",
       "      <td>173</td>\n",
       "    </tr>\n",
       "    <tr>\n",
       "      <th>2</th>\n",
       "      <td>4</td>\n",
       "      <td>2.0</td>\n",
       "      <td>1.0</td>\n",
       "      <td>2.0</td>\n",
       "      <td>115.0</td>\n",
       "      <td>10</td>\n",
       "      <td>23</td>\n",
       "      <td>243</td>\n",
       "    </tr>\n",
       "    <tr>\n",
       "      <th>3</th>\n",
       "      <td>3</td>\n",
       "      <td>1.0</td>\n",
       "      <td>1.0</td>\n",
       "      <td>1.0</td>\n",
       "      <td>90.0</td>\n",
       "      <td>3</td>\n",
       "      <td>365</td>\n",
       "      <td>1</td>\n",
       "    </tr>\n",
       "    <tr>\n",
       "      <th>4</th>\n",
       "      <td>2</td>\n",
       "      <td>1.0</td>\n",
       "      <td>1.0</td>\n",
       "      <td>1.0</td>\n",
       "      <td>75.0</td>\n",
       "      <td>180</td>\n",
       "      <td>365</td>\n",
       "      <td>0</td>\n",
       "    </tr>\n",
       "    <tr>\n",
       "      <th>5</th>\n",
       "      <td>2</td>\n",
       "      <td>1.0</td>\n",
       "      <td>1.0</td>\n",
       "      <td>1.0</td>\n",
       "      <td>75.0</td>\n",
       "      <td>5</td>\n",
       "      <td>120</td>\n",
       "      <td>17</td>\n",
       "    </tr>\n",
       "  </tbody>\n",
       "</table>\n",
       "</div>"
      ],
      "text/plain": [
       "   accommodates  bedrooms  bathrooms  beds  price  minimum_nights  \\\n",
       "0             2       0.0        1.0   0.0   75.0               3   \n",
       "1             2       0.0        1.0   1.0  115.0               1   \n",
       "2             4       2.0        1.0   2.0  115.0              10   \n",
       "3             3       1.0        1.0   1.0   90.0               3   \n",
       "4             2       1.0        1.0   1.0   75.0             180   \n",
       "5             2       1.0        1.0   1.0   75.0               5   \n",
       "\n",
       "   maximum_nights  number_of_reviews  \n",
       "0              15                  8  \n",
       "1              90                173  \n",
       "2              23                243  \n",
       "3             365                  1  \n",
       "4             365                  0  \n",
       "5             120                 17  "
      ]
     },
     "execution_count": 10,
     "metadata": {},
     "output_type": "execute_result"
    }
   ],
   "source": [
    "paris_listings.head(6)"
   ]
  },
  {
   "cell_type": "markdown",
   "id": "e14e41f1",
   "metadata": {},
   "source": [
    "### On va normaliser toutes les colonnes pour éviter l'effet demesurer de la distance euclidienne. Ramener toutes les colonnes \n",
    "à la même echelle pour avoir une moyenne de 0 et un écartype de 1. C'est qui est la distribution normale standard.\n",
    "Normaliser les valeurs de chanque colonnes en suivant cette distribution standard preserve la distribution de chaque colonne\n",
    "par rapport à leur echelle. Pour cela on a besoin pour chaque valeur, la soustraire à la moyenne de chaque colonne et diviser\n",
    "chaque par la déviation standard de la colonne. La formule mathematique qui décrit cette transformation est la suivante:\n",
    "x = (x-£)/sigma\n",
    "x: est une valeur spécifique; mi: est la moyenne de la valeur de toutes les colonnes et sigma c'est l'écart type de toute\n",
    "        la colonne\n",
    "."
   ]
  },
  {
   "cell_type": "code",
   "execution_count": 11,
   "id": "95229554",
   "metadata": {},
   "outputs": [],
   "source": [
    "# 1) soustraire chaque valeur dans la colonne par moyenne\n",
    "first_transformation = paris_listings['maximum_nights'] - paris_listings['maximum_nights'].mean()\n",
    "\n",
    "# 2) Diviser chaque valeur dans la colonne par l'ecart type\n",
    "normalized_col = first_transformation / first_transformation.std()"
   ]
  },
  {
   "cell_type": "code",
   "execution_count": 12,
   "id": "a8315fca",
   "metadata": {},
   "outputs": [
    {
     "name": "stdout",
     "output_type": "stream",
     "text": [
      "Voilà nos valeurs normalisées selon la distribution normale standard pour les 3 1ère lignes\n",
      "\n",
      "   accommodates  bedrooms  bathrooms     beds  price  minimum_nights  \\\n",
      "0     -0.767566 -1.486372  -0.293537 -1.49583   75.0       -0.156795   \n",
      "1     -0.767566 -1.486372  -0.293537 -0.64526  115.0       -0.212407   \n",
      "2      0.503868  0.892605  -0.293537  0.20531  115.0        0.037847   \n",
      "\n",
      "   maximum_nights  number_of_reviews  \n",
      "0       -0.979751          -0.535593  \n",
      "1       -0.841737           1.852943  \n",
      "2       -0.965029           2.866261  \n",
      "\n",
      "On remarque sur la colonne price, on a nos valeurs non normalisées\n"
     ]
    }
   ],
   "source": [
    "normalized_listings = (paris_listings - paris_listings.mean()) / paris_listings.std()\n",
    "normalized_listings['price'] = paris_listings['price']\n",
    "print('Voilà nos valeurs normalisées selon la distribution normale standard pour les 3 1ère lignes')\n",
    "print()\n",
    "print(normalized_listings.head(3))\n",
    "print()\n",
    "print('On remarque sur la colonne price, on a nos valeurs non normalisées')"
   ]
  },
  {
   "cell_type": "code",
   "execution_count": null,
   "id": "ffc9904c",
   "metadata": {},
   "outputs": [],
   "source": []
  },
  {
   "cell_type": "markdown",
   "id": "32809a32",
   "metadata": {},
   "source": [
    "#### Distance euclidienne pour le cas multivarié"
   ]
  },
  {
   "cell_type": "code",
   "execution_count": 13,
   "id": "98dd3d9a",
   "metadata": {},
   "outputs": [],
   "source": [
    "# bibliothèque de la distance euclidienne\n",
    "from scipy.spatial import distance "
   ]
  },
  {
   "cell_type": "code",
   "execution_count": 14,
   "id": "e1b1e558",
   "metadata": {},
   "outputs": [
    {
     "data": {
      "text/plain": [
       "1.3487105639128063"
      ]
     },
     "execution_count": 14,
     "metadata": {},
     "output_type": "execute_result"
    }
   ],
   "source": [
    "# exemple de calcul de la distance euclidienne\n",
    "l1 = [0.503868, -0.296884]\n",
    "l2 = [-0.131849, 0.892605]\n",
    "\n",
    "distance = distance.euclidean(l1,l2)\n",
    "distance"
   ]
  },
  {
   "cell_type": "code",
   "execution_count": 15,
   "id": "c762eab6",
   "metadata": {},
   "outputs": [
    {
     "ename": "AttributeError",
     "evalue": "'float' object has no attribute 'euclidean'",
     "output_type": "error",
     "traceback": [
      "\u001b[1;31m---------------------------------------------------------------------------\u001b[0m",
      "\u001b[1;31mAttributeError\u001b[0m                            Traceback (most recent call last)",
      "Input \u001b[1;32mIn [15]\u001b[0m, in \u001b[0;36m<cell line: 5>\u001b[1;34m()\u001b[0m\n\u001b[0;32m      3\u001b[0m firs_listing \u001b[38;5;241m=\u001b[39m normalized_listings\u001b[38;5;241m.\u001b[39miloc[\u001b[38;5;241m0\u001b[39m][[\u001b[38;5;124m\"\u001b[39m\u001b[38;5;124maccommodates\u001b[39m\u001b[38;5;124m\"\u001b[39m, \u001b[38;5;124m\"\u001b[39m\u001b[38;5;124mbedrooms\u001b[39m\u001b[38;5;124m\"\u001b[39m]]\n\u001b[0;32m      4\u001b[0m second_listing \u001b[38;5;241m=\u001b[39m normalized_listings\u001b[38;5;241m.\u001b[39miloc[\u001b[38;5;241m4\u001b[39m][[\u001b[38;5;124m\"\u001b[39m\u001b[38;5;124maccommodates\u001b[39m\u001b[38;5;124m\"\u001b[39m, \u001b[38;5;124m\"\u001b[39m\u001b[38;5;124mbedrooms\u001b[39m\u001b[38;5;124m\"\u001b[39m]]\n\u001b[1;32m----> 5\u001b[0m distance_accommod_bedroom \u001b[38;5;241m=\u001b[39m \u001b[43mdistance\u001b[49m\u001b[38;5;241;43m.\u001b[39;49m\u001b[43meuclidean\u001b[49m(firs_listing,second_listing)\n\u001b[0;32m      6\u001b[0m \u001b[38;5;28mprint\u001b[39m(distance_accommod_bedroom)\n",
      "\u001b[1;31mAttributeError\u001b[0m: 'float' object has no attribute 'euclidean'"
     ]
    }
   ],
   "source": [
    "# Calcul de la distance euclidienne de la colonne 'accommodated et bedrooms'\n",
    "\n",
    "firs_listing = normalized_listings.iloc[0][[\"accommodates\", \"bedrooms\"]]\n",
    "second_listing = normalized_listings.iloc[4][[\"accommodates\", \"bedrooms\"]]\n",
    "distance_accommod_bedroom = distance.euclidean(firs_listing,second_listing)\n",
    "print(distance_accommod_bedroom)"
   ]
  },
  {
   "cell_type": "markdown",
   "id": "9ea69c3f",
   "metadata": {},
   "source": [
    "## Utilisation de la bibliothèque Scikit-Learn pour KNN Multivarié"
   ]
  },
  {
   "cell_type": "markdown",
   "id": "654b813f",
   "metadata": {},
   "source": [
    "****Classe KNeighborsRegressor :**** La regression de K plus proches voisins de regression\n"
   ]
  },
  {
   "cell_type": "markdown",
   "id": "403aa3ee",
   "metadata": {},
   "source": [
    "Syntaxe:\n",
    "- **n_neighborsint, default=5 :**(Nombre de voisins à utiliser par défaut pour kneighborsles requêtes, par defaut K = 5)\n",
    "- **algorithm{‘auto’, ‘ball_tree’, ‘kd_tree’, ‘brute’}, default=’auto’**\n",
    "- **p entier, par défaut=2**"
   ]
  },
  {
   "cell_type": "code",
   "execution_count": 16,
   "id": "c8f3ce90",
   "metadata": {},
   "outputs": [],
   "source": [
    "from sklearn.neighbors import KNeighborsRegressor\n",
    "knn = KNeighborsRegressor(algorithm='brut')"
   ]
  },
  {
   "cell_type": "markdown",
   "id": "726db863",
   "metadata": {},
   "source": [
    "*Adapter notre modèle pour faire des prédictions*"
   ]
  },
  {
   "cell_type": "code",
   "execution_count": 17,
   "id": "be228202",
   "metadata": {
    "collapsed": true
   },
   "outputs": [
    {
     "ename": "NameError",
     "evalue": "name 'train_def' is not defined",
     "output_type": "error",
     "traceback": [
      "\u001b[1;31m---------------------------------------------------------------------------\u001b[0m",
      "\u001b[1;31mNameError\u001b[0m                                 Traceback (most recent call last)",
      "Input \u001b[1;32mIn [17]\u001b[0m, in \u001b[0;36m<cell line: 9>\u001b[1;34m()\u001b[0m\n\u001b[0;32m      6\u001b[0m train_features \u001b[38;5;241m=\u001b[39m train_df[[\u001b[38;5;124m'\u001b[39m\u001b[38;5;124maccommodates\u001b[39m\u001b[38;5;124m'\u001b[39m, \u001b[38;5;124m'\u001b[39m\u001b[38;5;124mbedrooms\u001b[39m\u001b[38;5;124m'\u001b[39m]]\n\u001b[0;32m      8\u001b[0m \u001b[38;5;66;03m# 3) Objet de type liste contenant juste la colonne cible 'price'\u001b[39;00m\n\u001b[1;32m----> 9\u001b[0m train_target \u001b[38;5;241m=\u001b[39m \u001b[43mtrain_def\u001b[49m[\u001b[38;5;124m'\u001b[39m\u001b[38;5;124mprice\u001b[39m\u001b[38;5;124m'\u001b[39m]\n\u001b[0;32m     11\u001b[0m \u001b[38;5;66;03m# 4) Passer tous ces objets dans la méthode fit\u001b[39;00m\n\u001b[0;32m     12\u001b[0m knn\u001b[38;5;241m.\u001b[39mfit(train_features, train_target)\n",
      "\u001b[1;31mNameError\u001b[0m: name 'train_def' is not defined"
     ]
    }
   ],
   "source": [
    "# 1)Diviser le dataset en deux partie\n",
    "train_df = normalized_listings.iloc[0:6000]\n",
    "test_df = normalized_listings.iloc[6000:]\n",
    "\n",
    "# 2) Seule l'objet de type matrice contenu les 2 colonnes de notre set de training qui nous intéressent\n",
    "train_features = train_df[['accommodates', 'bedrooms']]\n",
    "\n",
    "# 3) Objet de type liste contenant juste la colonne cible 'price'\n",
    "train_target = train_def['price']\n",
    "\n",
    "# 4) Passer tous ces objets dans la méthode fit\n",
    "knn.fit(train_features, train_target)\n",
    "\n",
    "# 5) Utilisation de la méthode prdict(). Cette méthode prend qu'un seul parametre. Un objet matrice contenant les caractéristique\n",
    "  #du set de test\n",
    "    \n",
    "predictions = knn.predict(test_df[['accommodates', 'bedrooms']])"
   ]
  },
  {
   "cell_type": "code",
   "execution_count": null,
   "id": "f62d3324",
   "metadata": {},
   "outputs": [],
   "source": []
  },
  {
   "cell_type": "markdown",
   "id": "fb15bce8",
   "metadata": {},
   "source": []
  },
  {
   "cell_type": "code",
   "execution_count": 19,
   "id": "71e7f524",
   "metadata": {},
   "outputs": [],
   "source": []
  },
  {
   "cell_type": "code",
   "execution_count": 20,
   "id": "676fb1f0",
   "metadata": {},
   "outputs": [],
   "source": []
  },
  {
   "cell_type": "code",
   "execution_count": 21,
   "id": "9e3f2231",
   "metadata": {},
   "outputs": [],
   "source": []
  },
  {
   "cell_type": "code",
   "execution_count": null,
   "id": "35bd7c91",
   "metadata": {
    "scrolled": true
   },
   "outputs": [],
   "source": []
  },
  {
   "cell_type": "code",
   "execution_count": null,
   "id": "57dc1aee",
   "metadata": {},
   "outputs": [],
   "source": []
  },
  {
   "cell_type": "code",
   "execution_count": null,
   "id": "5693059f",
   "metadata": {},
   "outputs": [],
   "source": []
  },
  {
   "cell_type": "code",
   "execution_count": null,
   "id": "47027fa5",
   "metadata": {},
   "outputs": [],
   "source": []
  },
  {
   "cell_type": "code",
   "execution_count": null,
   "id": "efd6da6d",
   "metadata": {},
   "outputs": [],
   "source": []
  }
 ],
 "metadata": {
  "kernelspec": {
   "display_name": "Python 3 (ipykernel)",
   "language": "python",
   "name": "python3"
  },
  "language_info": {
   "codemirror_mode": {
    "name": "ipython",
    "version": 3
   },
   "file_extension": ".py",
   "mimetype": "text/x-python",
   "name": "python",
   "nbconvert_exporter": "python",
   "pygments_lexer": "ipython3",
   "version": "3.9.12"
  }
 },
 "nbformat": 4,
 "nbformat_minor": 5
}
