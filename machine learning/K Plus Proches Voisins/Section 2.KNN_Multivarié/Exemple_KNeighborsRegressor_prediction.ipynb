{
 "cells": [
  {
   "cell_type": "code",
   "execution_count": 58,
   "id": "3f604009",
   "metadata": {},
   "outputs": [],
   "source": [
    "from sklearn.neighbors import KNeighborsRegressor\n",
    "knn = KNeighborsRegressor(n_neighbors = 5, algorithm='brute') # Instancier le modele de Machine Learning\n",
    "from sklearn.metrics import mean_squared_error\n",
    "from scipy.spatial import distance \n",
    "import pandas as pd\n",
    "import numpy as np"
   ]
  },
  {
   "cell_type": "code",
   "execution_count": 59,
   "id": "1b0e7c42",
   "metadata": {},
   "outputs": [],
   "source": [
    "paris_listings = pd.read_csv(\"paris_airbnb.csv\")"
   ]
  },
  {
   "cell_type": "code",
   "execution_count": 60,
   "id": "6f346cd9",
   "metadata": {},
   "outputs": [
    {
     "data": {
      "text/html": [
       "<div>\n",
       "<style scoped>\n",
       "    .dataframe tbody tr th:only-of-type {\n",
       "        vertical-align: middle;\n",
       "    }\n",
       "\n",
       "    .dataframe tbody tr th {\n",
       "        vertical-align: top;\n",
       "    }\n",
       "\n",
       "    .dataframe thead th {\n",
       "        text-align: right;\n",
       "    }\n",
       "</style>\n",
       "<table border=\"1\" class=\"dataframe\">\n",
       "  <thead>\n",
       "    <tr style=\"text-align: right;\">\n",
       "      <th></th>\n",
       "      <th>host_response_rate</th>\n",
       "      <th>host_acceptance_rate</th>\n",
       "      <th>host_listings_count</th>\n",
       "      <th>latitude</th>\n",
       "      <th>longitude</th>\n",
       "      <th>city</th>\n",
       "      <th>zipcode</th>\n",
       "      <th>state</th>\n",
       "      <th>accommodates</th>\n",
       "      <th>room_type</th>\n",
       "      <th>bedrooms</th>\n",
       "      <th>bathrooms</th>\n",
       "      <th>beds</th>\n",
       "      <th>price</th>\n",
       "      <th>cleaning_fee</th>\n",
       "      <th>security_deposit</th>\n",
       "      <th>minimum_nights</th>\n",
       "      <th>maximum_nights</th>\n",
       "      <th>number_of_reviews</th>\n",
       "    </tr>\n",
       "  </thead>\n",
       "  <tbody>\n",
       "    <tr>\n",
       "      <th>0</th>\n",
       "      <td>100%</td>\n",
       "      <td>NaN</td>\n",
       "      <td>1.0</td>\n",
       "      <td>48.83349</td>\n",
       "      <td>2.31852</td>\n",
       "      <td>Paris</td>\n",
       "      <td>75014</td>\n",
       "      <td>Île-de-France</td>\n",
       "      <td>2</td>\n",
       "      <td>Entire home/apt</td>\n",
       "      <td>0.0</td>\n",
       "      <td>1.0</td>\n",
       "      <td>0.0</td>\n",
       "      <td>$75.00</td>\n",
       "      <td>$50.00</td>\n",
       "      <td>$0.00</td>\n",
       "      <td>3</td>\n",
       "      <td>15</td>\n",
       "      <td>8</td>\n",
       "    </tr>\n",
       "    <tr>\n",
       "      <th>1</th>\n",
       "      <td>100%</td>\n",
       "      <td>NaN</td>\n",
       "      <td>1.0</td>\n",
       "      <td>48.85100</td>\n",
       "      <td>2.35869</td>\n",
       "      <td>Paris</td>\n",
       "      <td>75004</td>\n",
       "      <td>Ile-de-France</td>\n",
       "      <td>2</td>\n",
       "      <td>Entire home/apt</td>\n",
       "      <td>0.0</td>\n",
       "      <td>1.0</td>\n",
       "      <td>1.0</td>\n",
       "      <td>$115.00</td>\n",
       "      <td>$36.00</td>\n",
       "      <td>$0.00</td>\n",
       "      <td>1</td>\n",
       "      <td>90</td>\n",
       "      <td>173</td>\n",
       "    </tr>\n",
       "    <tr>\n",
       "      <th>2</th>\n",
       "      <td>100%</td>\n",
       "      <td>NaN</td>\n",
       "      <td>2.0</td>\n",
       "      <td>48.85758</td>\n",
       "      <td>2.35275</td>\n",
       "      <td>Paris</td>\n",
       "      <td>75004</td>\n",
       "      <td>Île-de-France</td>\n",
       "      <td>4</td>\n",
       "      <td>Entire home/apt</td>\n",
       "      <td>2.0</td>\n",
       "      <td>1.0</td>\n",
       "      <td>2.0</td>\n",
       "      <td>$115.00</td>\n",
       "      <td>$50.00</td>\n",
       "      <td>$200.00</td>\n",
       "      <td>10</td>\n",
       "      <td>23</td>\n",
       "      <td>243</td>\n",
       "    </tr>\n",
       "    <tr>\n",
       "      <th>3</th>\n",
       "      <td>100%</td>\n",
       "      <td>NaN</td>\n",
       "      <td>1.0</td>\n",
       "      <td>48.86528</td>\n",
       "      <td>2.39326</td>\n",
       "      <td>Paris</td>\n",
       "      <td>75020</td>\n",
       "      <td>Ile-de-France</td>\n",
       "      <td>3</td>\n",
       "      <td>Entire home/apt</td>\n",
       "      <td>1.0</td>\n",
       "      <td>1.0</td>\n",
       "      <td>1.0</td>\n",
       "      <td>$90.00</td>\n",
       "      <td>NaN</td>\n",
       "      <td>NaN</td>\n",
       "      <td>3</td>\n",
       "      <td>365</td>\n",
       "      <td>1</td>\n",
       "    </tr>\n",
       "  </tbody>\n",
       "</table>\n",
       "</div>"
      ],
      "text/plain": [
       "  host_response_rate  host_acceptance_rate  host_listings_count  latitude  \\\n",
       "0               100%                   NaN                  1.0  48.83349   \n",
       "1               100%                   NaN                  1.0  48.85100   \n",
       "2               100%                   NaN                  2.0  48.85758   \n",
       "3               100%                   NaN                  1.0  48.86528   \n",
       "\n",
       "   longitude   city zipcode          state  accommodates        room_type  \\\n",
       "0    2.31852  Paris   75014  Île-de-France             2  Entire home/apt   \n",
       "1    2.35869  Paris   75004  Ile-de-France             2  Entire home/apt   \n",
       "2    2.35275  Paris   75004  Île-de-France             4  Entire home/apt   \n",
       "3    2.39326  Paris   75020  Ile-de-France             3  Entire home/apt   \n",
       "\n",
       "   bedrooms  bathrooms  beds    price cleaning_fee security_deposit  \\\n",
       "0       0.0        1.0   0.0   $75.00       $50.00            $0.00   \n",
       "1       0.0        1.0   1.0  $115.00       $36.00            $0.00   \n",
       "2       2.0        1.0   2.0  $115.00       $50.00          $200.00   \n",
       "3       1.0        1.0   1.0   $90.00          NaN              NaN   \n",
       "\n",
       "   minimum_nights  maximum_nights  number_of_reviews  \n",
       "0               3              15                  8  \n",
       "1               1              90                173  \n",
       "2              10              23                243  \n",
       "3               3             365                  1  "
      ]
     },
     "execution_count": 60,
     "metadata": {},
     "output_type": "execute_result"
    }
   ],
   "source": [
    "paris_listings.head(4)"
   ]
  },
  {
   "cell_type": "markdown",
   "id": "b0929eda",
   "metadata": {},
   "source": [
    "****Exemple: Création une instance de la classe KNeighborsRegressor. Voir l'énoné sur les diapos.**** \n",
    "- n_neighnors: 5\n",
    "- algorithm: brut"
   ]
  },
  {
   "cell_type": "code",
   "execution_count": 61,
   "id": "0233656e",
   "metadata": {},
   "outputs": [],
   "source": [
    "paris_listings[\"price\"]=paris_listings[\"price\"].apply(lambda x: x.replace(\",\", \"\"))\n",
    "paris_listings[\"price\"]=paris_listings[\"price\"].apply(lambda x: x.replace(\"$\", \"\"))\n",
    "paris_listings[\"price\"]=paris_listings[\"price\"].apply(lambda x: float(x))"
   ]
  },
  {
   "cell_type": "code",
   "execution_count": 62,
   "id": "77c43ee5",
   "metadata": {},
   "outputs": [
    {
     "data": {
      "text/html": [
       "<div>\n",
       "<style scoped>\n",
       "    .dataframe tbody tr th:only-of-type {\n",
       "        vertical-align: middle;\n",
       "    }\n",
       "\n",
       "    .dataframe tbody tr th {\n",
       "        vertical-align: top;\n",
       "    }\n",
       "\n",
       "    .dataframe thead th {\n",
       "        text-align: right;\n",
       "    }\n",
       "</style>\n",
       "<table border=\"1\" class=\"dataframe\">\n",
       "  <thead>\n",
       "    <tr style=\"text-align: right;\">\n",
       "      <th></th>\n",
       "      <th>host_response_rate</th>\n",
       "      <th>host_acceptance_rate</th>\n",
       "      <th>host_listings_count</th>\n",
       "      <th>latitude</th>\n",
       "      <th>longitude</th>\n",
       "      <th>city</th>\n",
       "      <th>zipcode</th>\n",
       "      <th>state</th>\n",
       "      <th>accommodates</th>\n",
       "      <th>room_type</th>\n",
       "      <th>bedrooms</th>\n",
       "      <th>bathrooms</th>\n",
       "      <th>beds</th>\n",
       "      <th>price</th>\n",
       "      <th>cleaning_fee</th>\n",
       "      <th>security_deposit</th>\n",
       "      <th>minimum_nights</th>\n",
       "      <th>maximum_nights</th>\n",
       "      <th>number_of_reviews</th>\n",
       "    </tr>\n",
       "  </thead>\n",
       "  <tbody>\n",
       "    <tr>\n",
       "      <th>0</th>\n",
       "      <td>100%</td>\n",
       "      <td>NaN</td>\n",
       "      <td>1.0</td>\n",
       "      <td>48.83349</td>\n",
       "      <td>2.31852</td>\n",
       "      <td>Paris</td>\n",
       "      <td>75014</td>\n",
       "      <td>Île-de-France</td>\n",
       "      <td>2</td>\n",
       "      <td>Entire home/apt</td>\n",
       "      <td>0.0</td>\n",
       "      <td>1.0</td>\n",
       "      <td>0.0</td>\n",
       "      <td>75.0</td>\n",
       "      <td>$50.00</td>\n",
       "      <td>$0.00</td>\n",
       "      <td>3</td>\n",
       "      <td>15</td>\n",
       "      <td>8</td>\n",
       "    </tr>\n",
       "    <tr>\n",
       "      <th>1</th>\n",
       "      <td>100%</td>\n",
       "      <td>NaN</td>\n",
       "      <td>1.0</td>\n",
       "      <td>48.85100</td>\n",
       "      <td>2.35869</td>\n",
       "      <td>Paris</td>\n",
       "      <td>75004</td>\n",
       "      <td>Ile-de-France</td>\n",
       "      <td>2</td>\n",
       "      <td>Entire home/apt</td>\n",
       "      <td>0.0</td>\n",
       "      <td>1.0</td>\n",
       "      <td>1.0</td>\n",
       "      <td>115.0</td>\n",
       "      <td>$36.00</td>\n",
       "      <td>$0.00</td>\n",
       "      <td>1</td>\n",
       "      <td>90</td>\n",
       "      <td>173</td>\n",
       "    </tr>\n",
       "    <tr>\n",
       "      <th>2</th>\n",
       "      <td>100%</td>\n",
       "      <td>NaN</td>\n",
       "      <td>2.0</td>\n",
       "      <td>48.85758</td>\n",
       "      <td>2.35275</td>\n",
       "      <td>Paris</td>\n",
       "      <td>75004</td>\n",
       "      <td>Île-de-France</td>\n",
       "      <td>4</td>\n",
       "      <td>Entire home/apt</td>\n",
       "      <td>2.0</td>\n",
       "      <td>1.0</td>\n",
       "      <td>2.0</td>\n",
       "      <td>115.0</td>\n",
       "      <td>$50.00</td>\n",
       "      <td>$200.00</td>\n",
       "      <td>10</td>\n",
       "      <td>23</td>\n",
       "      <td>243</td>\n",
       "    </tr>\n",
       "    <tr>\n",
       "      <th>3</th>\n",
       "      <td>100%</td>\n",
       "      <td>NaN</td>\n",
       "      <td>1.0</td>\n",
       "      <td>48.86528</td>\n",
       "      <td>2.39326</td>\n",
       "      <td>Paris</td>\n",
       "      <td>75020</td>\n",
       "      <td>Ile-de-France</td>\n",
       "      <td>3</td>\n",
       "      <td>Entire home/apt</td>\n",
       "      <td>1.0</td>\n",
       "      <td>1.0</td>\n",
       "      <td>1.0</td>\n",
       "      <td>90.0</td>\n",
       "      <td>NaN</td>\n",
       "      <td>NaN</td>\n",
       "      <td>3</td>\n",
       "      <td>365</td>\n",
       "      <td>1</td>\n",
       "    </tr>\n",
       "  </tbody>\n",
       "</table>\n",
       "</div>"
      ],
      "text/plain": [
       "  host_response_rate  host_acceptance_rate  host_listings_count  latitude  \\\n",
       "0               100%                   NaN                  1.0  48.83349   \n",
       "1               100%                   NaN                  1.0  48.85100   \n",
       "2               100%                   NaN                  2.0  48.85758   \n",
       "3               100%                   NaN                  1.0  48.86528   \n",
       "\n",
       "   longitude   city zipcode          state  accommodates        room_type  \\\n",
       "0    2.31852  Paris   75014  Île-de-France             2  Entire home/apt   \n",
       "1    2.35869  Paris   75004  Ile-de-France             2  Entire home/apt   \n",
       "2    2.35275  Paris   75004  Île-de-France             4  Entire home/apt   \n",
       "3    2.39326  Paris   75020  Ile-de-France             3  Entire home/apt   \n",
       "\n",
       "   bedrooms  bathrooms  beds  price cleaning_fee security_deposit  \\\n",
       "0       0.0        1.0   0.0   75.0       $50.00            $0.00   \n",
       "1       0.0        1.0   1.0  115.0       $36.00            $0.00   \n",
       "2       2.0        1.0   2.0  115.0       $50.00          $200.00   \n",
       "3       1.0        1.0   1.0   90.0          NaN              NaN   \n",
       "\n",
       "   minimum_nights  maximum_nights  number_of_reviews  \n",
       "0               3              15                  8  \n",
       "1               1              90                173  \n",
       "2              10              23                243  \n",
       "3               3             365                  1  "
      ]
     },
     "execution_count": 62,
     "metadata": {},
     "output_type": "execute_result"
    }
   ],
   "source": [
    "paris_listings.head(4)"
   ]
  },
  {
   "cell_type": "code",
   "execution_count": 63,
   "id": "81ab891c",
   "metadata": {},
   "outputs": [],
   "source": [
    "drop_columns = ['room_type','city', 'state', 'latitude', 'longitude', 'zipcode', 'host_response_rate', 'host_acceptance_rate','host_listings_count']"
   ]
  },
  {
   "cell_type": "code",
   "execution_count": 64,
   "id": "b9287f30",
   "metadata": {},
   "outputs": [
    {
     "name": "stdout",
     "output_type": "stream",
     "text": [
      "accommodates            0\n",
      "bedrooms               24\n",
      "bathrooms              58\n",
      "beds                   14\n",
      "price                   0\n",
      "cleaning_fee         1750\n",
      "security_deposit     1680\n",
      "minimum_nights          0\n",
      "maximum_nights          0\n",
      "number_of_reviews       0\n",
      "dtype: int64\n"
     ]
    }
   ],
   "source": [
    "paris_listings = paris_listings.drop(drop_columns, axis=1)\n",
    "print(paris_listings.isnull().sum())"
   ]
  },
  {
   "cell_type": "code",
   "execution_count": 65,
   "id": "df2b849b",
   "metadata": {},
   "outputs": [
    {
     "name": "stdout",
     "output_type": "stream",
     "text": [
      "accommodates         0\n",
      "bedrooms             0\n",
      "bathrooms            0\n",
      "beds                 0\n",
      "price                0\n",
      "minimum_nights       0\n",
      "maximum_nights       0\n",
      "number_of_reviews    0\n",
      "dtype: int64\n"
     ]
    }
   ],
   "source": [
    "paris_listings = paris_listings.drop(['security_deposit', 'cleaning_fee'], axis=1) # ça supp les colonnes\n",
    "paris_listings = paris_listings.dropna(axis=0) # ça va supp toutes les lignes qui contiennet des valeurs manquantes\n",
    "print(paris_listings.isnull().sum())"
   ]
  },
  {
   "cell_type": "code",
   "execution_count": null,
   "id": "f3a18369",
   "metadata": {},
   "outputs": [],
   "source": []
  },
  {
   "cell_type": "code",
   "execution_count": 66,
   "id": "2f5c653d",
   "metadata": {},
   "outputs": [],
   "source": [
    "# 1) soustraire chaque valeur dans la colonne par moyenne\n",
    "first_transformation = paris_listings['maximum_nights'] - paris_listings['maximum_nights'].mean()\n",
    "\n",
    "# 2) Diviser chaque valeur dans la colonne par l'ecart type\n",
    "normalized_col = first_transformation / first_transformation.std()"
   ]
  },
  {
   "cell_type": "code",
   "execution_count": 67,
   "id": "b9c34eb2",
   "metadata": {},
   "outputs": [
    {
     "name": "stdout",
     "output_type": "stream",
     "text": [
      "Voilà nos valeurs normalisées selon la distribution normale standard pour les 3 1ère lignes\n",
      "\n",
      "   accommodates  bedrooms  bathrooms     beds  price  minimum_nights  \\\n",
      "0     -0.767566 -1.486372  -0.293537 -1.49583   75.0       -0.156795   \n",
      "1     -0.767566 -1.486372  -0.293537 -0.64526  115.0       -0.212407   \n",
      "2      0.503868  0.892605  -0.293537  0.20531  115.0        0.037847   \n",
      "\n",
      "   maximum_nights  number_of_reviews  \n",
      "0       -0.979751          -0.535593  \n",
      "1       -0.841737           1.852943  \n",
      "2       -0.965029           2.866261  \n",
      "\n",
      "On remarque sur la colonne price, on a nos valeurs non normalisées\n"
     ]
    }
   ],
   "source": [
    "normalized_listings = (paris_listings - paris_listings.mean()) / paris_listings.std()\n",
    "normalized_listings['price'] = paris_listings['price']\n",
    "print('Voilà nos valeurs normalisées selon la distribution normale standard pour les 3 1ère lignes')\n",
    "print()\n",
    "print(normalized_listings.head(3))\n",
    "print()\n",
    "print('On remarque sur la colonne price, on a nos valeurs non normalisées')"
   ]
  },
  {
   "cell_type": "code",
   "execution_count": null,
   "id": "ff166a5c",
   "metadata": {},
   "outputs": [],
   "source": []
  },
  {
   "cell_type": "code",
   "execution_count": 68,
   "id": "678225b5",
   "metadata": {},
   "outputs": [],
   "source": [
    "# 1)Diviser le dataset en deux partie\n",
    "train_df = normalized_listings.iloc[0:6000]\n",
    "test_df = normalized_listings.iloc[6000:]"
   ]
  },
  {
   "cell_type": "code",
   "execution_count": null,
   "id": "1594b4e1",
   "metadata": {},
   "outputs": [],
   "source": []
  },
  {
   "cell_type": "code",
   "execution_count": 69,
   "id": "68dbc014",
   "metadata": {},
   "outputs": [],
   "source": [
    "train_columns = ['accommodates', 'bedrooms']"
   ]
  },
  {
   "cell_type": "code",
   "execution_count": 70,
   "id": "9ca900ad",
   "metadata": {},
   "outputs": [
    {
     "data": {
      "text/plain": [
       "KNeighborsRegressor(algorithm='brute')"
      ]
     },
     "execution_count": 70,
     "metadata": {},
     "output_type": "execute_result"
    }
   ],
   "source": [
    "# Ensuite il faut adapter le modele aux données: C'est la méthode fit\n",
    "knn.fit(train_df[train_columns], train_df['price'])"
   ]
  },
  {
   "cell_type": "code",
   "execution_count": 71,
   "id": "f5e2a9b9",
   "metadata": {},
   "outputs": [],
   "source": [
    "# Enfin on va utiliser le modèle pour faire de prédiction\n",
    "predictions = knn.predict(test_df[train_columns])"
   ]
  },
  {
   "cell_type": "code",
   "execution_count": 72,
   "id": "cc26ac38",
   "metadata": {},
   "outputs": [
    {
     "name": "stdout",
     "output_type": "stream",
     "text": [
      "[137.6  74.6  74.6 ...  97.8  74.6 103.8]\n"
     ]
    }
   ],
   "source": [
    "print(predictions)"
   ]
  },
  {
   "cell_type": "code",
   "execution_count": null,
   "id": "6c70e7d8",
   "metadata": {},
   "outputs": [],
   "source": []
  },
  {
   "cell_type": "markdown",
   "id": "597a80bd",
   "metadata": {},
   "source": [
    "### Calcul l'erreur quadratique moyenne"
   ]
  },
  {
   "cell_type": "code",
   "execution_count": 73,
   "id": "0f5f2767",
   "metadata": {},
   "outputs": [
    {
     "name": "stdout",
     "output_type": "stream",
     "text": [
      "8495.167803860199\n",
      "92.16923458432427\n"
     ]
    }
   ],
   "source": [
    "two_features_mse = mean_squared_error(test_df['price'], predictions)\n",
    "two_features_rmse = two_features_mse**(1/2)\n",
    "print(two_features_mse)\n",
    "print(two_features_rmse)"
   ]
  },
  {
   "cell_type": "code",
   "execution_count": null,
   "id": "0e35d289",
   "metadata": {},
   "outputs": [],
   "source": []
  },
  {
   "cell_type": "markdown",
   "id": "f927f8dc",
   "metadata": {},
   "source": [
    "### Test du modèle sur les autres colonnes: Ici on entaine le nombre de caractéristique que l'ont souhaite."
   ]
  },
  {
   "cell_type": "code",
   "execution_count": 74,
   "id": "721f38c5",
   "metadata": {},
   "outputs": [
    {
     "name": "stdout",
     "output_type": "stream",
     "text": [
      "5966.076515388628\n",
      "77.24038137780411\n"
     ]
    }
   ],
   "source": [
    "features = ['accommodates', 'bedrooms', 'bathrooms', 'number_of_reviews']\n",
    "knn.fit(train_df[features], train_df['price'])\n",
    "four_prediction = knn.predict(test_df[features])\n",
    "\n",
    "four_mse = mean_squared_error(test_df['price'], four_prediction)\n",
    "four_rmse = four_mse**(1/2)\n",
    "\n",
    "print(four_mse)\n",
    "print(four_rmse)"
   ]
  },
  {
   "cell_type": "code",
   "execution_count": null,
   "id": "8f3d99f9",
   "metadata": {},
   "outputs": [],
   "source": []
  },
  {
   "cell_type": "markdown",
   "id": "02817c28",
   "metadata": {},
   "source": [
    "### Utilisation de toutes les caractéristiques: ici on entraine toutes les autres caractéristiques. Utilisons toutes les colonnes sauf 'price'"
   ]
  },
  {
   "cell_type": "code",
   "execution_count": 76,
   "id": "016764fe",
   "metadata": {},
   "outputs": [
    {
     "name": "stdout",
     "output_type": "stream",
     "text": [
      "11697.899634846115\n",
      "108.15682888678882\n"
     ]
    }
   ],
   "source": [
    "features = train_df.columns.to_list()\n",
    "features.remove('price')\n",
    "\n",
    "knn.fit(train_df[features], train_df['price'])\n",
    "all_features_predictions = knn.predict(test_df[features])\n",
    "\n",
    "all_features_mse = mean_squared_error(test_df['price'], all_features_predictions)\n",
    "all_features_rmse = all_features_mse**(1/2)\n",
    "\n",
    "print(all_features_mse)\n",
    "print(all_features_rmse)\n"
   ]
  },
  {
   "cell_type": "markdown",
   "id": "f3566270",
   "metadata": {},
   "source": [
    "On constate que cette valeur de RMSE a augmenté par auprécédent modèle. \n",
    "lorsque nous avons utilisé seulement 4 caractéristiques du modèles, 'accommodates', 'bedrooms', 'bathrooms', 'number_of_reviews', on obtient un meilleur modèle. Parcontre, en utilisant toutes les caractéristiques, notre modèle a perdu en qualité. Cela signifie la selection des caractéristiques pertinantes est importante et que l'utilisation des caractéristiques supplémentaires n'améliore pas le modèle, cad, la performance de la prédiction."
   ]
  },
  {
   "cell_type": "code",
   "execution_count": null,
   "id": "ef785c4b",
   "metadata": {},
   "outputs": [],
   "source": []
  },
  {
   "cell_type": "code",
   "execution_count": null,
   "id": "fd1a3e03",
   "metadata": {},
   "outputs": [],
   "source": []
  },
  {
   "cell_type": "code",
   "execution_count": null,
   "id": "f93d3fcd",
   "metadata": {},
   "outputs": [],
   "source": []
  },
  {
   "cell_type": "code",
   "execution_count": null,
   "id": "dd5e931e",
   "metadata": {},
   "outputs": [],
   "source": []
  },
  {
   "cell_type": "code",
   "execution_count": null,
   "id": "2368f4aa",
   "metadata": {},
   "outputs": [],
   "source": []
  },
  {
   "cell_type": "code",
   "execution_count": null,
   "id": "637be9b1",
   "metadata": {},
   "outputs": [],
   "source": []
  },
  {
   "cell_type": "code",
   "execution_count": null,
   "id": "066fcaa6",
   "metadata": {},
   "outputs": [],
   "source": []
  },
  {
   "cell_type": "code",
   "execution_count": null,
   "id": "17f46c0e",
   "metadata": {},
   "outputs": [],
   "source": []
  },
  {
   "cell_type": "code",
   "execution_count": null,
   "id": "06a9a461",
   "metadata": {},
   "outputs": [],
   "source": []
  },
  {
   "cell_type": "code",
   "execution_count": null,
   "id": "0320e8e4",
   "metadata": {},
   "outputs": [],
   "source": []
  },
  {
   "cell_type": "code",
   "execution_count": null,
   "id": "7e9d3084",
   "metadata": {},
   "outputs": [],
   "source": []
  }
 ],
 "metadata": {
  "kernelspec": {
   "display_name": "Python 3 (ipykernel)",
   "language": "python",
   "name": "python3"
  },
  "language_info": {
   "codemirror_mode": {
    "name": "ipython",
    "version": 3
   },
   "file_extension": ".py",
   "mimetype": "text/x-python",
   "name": "python",
   "nbconvert_exporter": "python",
   "pygments_lexer": "ipython3",
   "version": "3.9.12"
  }
 },
 "nbformat": 4,
 "nbformat_minor": 5
}
