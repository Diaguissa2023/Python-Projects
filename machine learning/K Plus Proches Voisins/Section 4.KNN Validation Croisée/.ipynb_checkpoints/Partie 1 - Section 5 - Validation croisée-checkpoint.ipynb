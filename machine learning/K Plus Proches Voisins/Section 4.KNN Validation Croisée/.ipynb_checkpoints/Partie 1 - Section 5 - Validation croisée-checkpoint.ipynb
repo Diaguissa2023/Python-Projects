{
 "cells": [
  {
   "cell_type": "markdown",
   "metadata": {},
   "source": [
    "# Validation croisée"
   ]
  },
  {
   "cell_type": "markdown",
   "metadata": {},
   "source": [
    "## Introduction"
   ]
  },
  {
   "cell_type": "markdown",
   "metadata": {},
   "source": [
    "+ Lire le fichier paris_airbnb.csv dans un dataFrame paris_listings.\n",
    "+ Eliminer les virgules et dollars de la colonne cible 'price' et la convertir en 'float'.\n",
    "+ Utiliser la fonction numpy.random.permutation() pour mélanger l'ordre des lignes de paris_listings (au préalable on se place sur le random seed 1).\n",
    "+ Ré-indexer le DataFrame suivant ce nouvel ordre avec la méthode DataFrame.reindex().\n",
    "+ Sélectionner les 4000 premières lignes et les assigner à la variable split_one.\n",
    "+ Sélectionner les 4000 lignes restantes et l'assigner à la variable split_two.\n"
   ]
  },
  {
   "cell_type": "code",
   "execution_count": 2,
   "metadata": {},
   "outputs": [],
   "source": [
    "# .index"
   ]
  },
  {
   "cell_type": "code",
   "execution_count": 19,
   "metadata": {},
   "outputs": [],
   "source": [
    "import numpy as np\n",
    "import pandas as pd\n",
    "pd.options.mode.chained_assignment = None\n",
    "np.random.seed(1)\n",
    "\n",
    "paris_listings = pd.read_csv('paris_airbnb.csv')\n",
    "stripped_commas = paris_listings['price'].str.replace(',', '')\n",
    "stripped_dollars = stripped_commas.str.replace('$','')\n",
    "paris_listings['price'] = stripped_dollars.astype('float')\n",
    "\n",
    "shuffled_index = np.random.permutation(paris_listings.index)\n",
    "paris_listings = paris_listings.reindex(shuffled_index)\n",
    "\n",
    "split_one = paris_listings.iloc[0:4000]\n",
    "split_two = paris_listings.iloc[4000:]"
   ]
  },
  {
   "cell_type": "markdown",
   "metadata": {},
   "source": [
    "## Validation croisée Holdout\n"
   ]
  },
  {
   "cell_type": "markdown",
   "metadata": {},
   "source": [
    "+ Entrainer un modèle des k plus proches voisins en utilisant l'algorithme par défaut (auto) et le nombre de voisins par défaut (5) en:\n",
    " - Utilisant la colonne 'accommodates' de train_one (première moitié du dataset) pour l'entrainement et\n",
    " - Et le tester sur test_one (seconde moitié du dataset).\n",
    "+ Assigner la valeur RMSE résultante (racine carrée erreur quadratique moyenne) à la variable iteration_one_rmse.\n",
    "+ Entrainer un modèle des k plus proches voisins en utilisant l'algorithme par défaut (auto) et le nombre de voisins par défaut (5):\n",
    " - Utiliser la colonne 'accommodates' de train_two (seconde moitié du dataset cette fois) pour l'entrainement et\n",
    " - Et le tester sur test_two (première moitié du dataset).\n",
    "+ Assigner la valeur RMSE résultante à la variable iteration_two_rmse.\n",
    "+ Utiliser numpy.mean() pour calculer la moyenne des 2 valeurs RMSE et assigner le résultat à la variable avg_rmse.\n",
    "+ Afficher le résultat\n"
   ]
  },
  {
   "cell_type": "code",
   "execution_count": 5,
   "metadata": {},
   "outputs": [],
   "source": [
    "# sklearn.metrics.mean_squared_error()"
   ]
  },
  {
   "cell_type": "code",
   "execution_count": 6,
   "metadata": {},
   "outputs": [
    {
     "name": "stdout",
     "output_type": "stream",
     "text": [
      "88.96592437557203 115.17976784140521 102.07284610848862\n"
     ]
    }
   ],
   "source": [
    "from sklearn.neighbors import KNeighborsRegressor\n",
    "from sklearn.metrics import mean_squared_error\n",
    "\n",
    "train_one = split_one\n",
    "test_one = split_two\n",
    "train_two = split_two\n",
    "test_two = split_one\n",
    "\n",
    "# première moitié\n",
    "model = KNeighborsRegressor()\n",
    "model.fit(train_one[['accommodates']], train_one['price'])\n",
    "test_one['predicted_price'] = model.predict(test_one[['accommodates']])\n",
    "iteration_one_rmse = mean_squared_error(test_one['price'], test_one['predicted_price'])**(1/2)\n",
    "\n",
    "# seconde moitié\n",
    "model.fit(train_two[['accommodates']], train_two['price'])\n",
    "test_two['predicted_price'] = model.predict(test_two[['accommodates']])\n",
    "iteration_two_rmse = mean_squared_error(test_two['price'], test_two['predicted_price'])**(1/2)\n",
    "\n",
    "avg_rmse = np.mean([iteration_two_rmse, iteration_one_rmse])\n",
    "print(iteration_one_rmse, iteration_two_rmse, avg_rmse)"
   ]
  },
  {
   "cell_type": "markdown",
   "metadata": {},
   "source": [
    "## Validation croisée des K-Fold"
   ]
  },
  {
   "cell_type": "markdown",
   "metadata": {},
   "source": [
    "+ Ajouter une nouvelle colonne au DataFrame paris_listings qu'on nomme 'fold' qui contient le numéro du fold de chaque ligne:\n",
    "+ Fold 1 doit avoir des lignes d'index 0 à 1600, y compris ces 2 lignes.\n",
    "+ Fold 2 doit avoir des lignes d'index 1600 à 3200, y compris ces 2 lignes.\n",
    "+ Fold 3 doit avoir des lignes d'index 3200 à 4800, y compris ces 2 lignes.\n",
    "+ Fold 4 doit avoir des lignes d'index 4800 à 6400, y compris ces 2 lignes.\n",
    "+ Fold 5 doit avoir des lignes d'index 6400 à 8000, y compris ces 2 lignes.\n",
    "+ Afficher le nombre de valeurs pour chaque colonne 'fold' pour confirmer que chaque fold contient à peu près le même nombre d'éléments.\n"
   ]
  },
  {
   "cell_type": "code",
   "execution_count": 20,
   "metadata": {},
   "outputs": [],
   "source": [
    "# value_counts()"
   ]
  },
  {
   "cell_type": "code",
   "execution_count": 21,
   "metadata": {},
   "outputs": [
    {
     "name": "stdout",
     "output_type": "stream",
     "text": [
      "3    1600\n",
      "2    1600\n",
      "5    1600\n",
      "1    1600\n",
      "4    1600\n",
      "Name: fold, dtype: int64\n"
     ]
    }
   ],
   "source": [
    "paris_listings['fold'] = 0\n",
    "paris_listings['fold'].iloc[0:1600] = 1\n",
    "paris_listings['fold'].iloc[1600:3200] = 2\n",
    "paris_listings['fold'].iloc[3200:4800] = 3\n",
    "paris_listings['fold'].iloc[4800:6400] = 4\n",
    "paris_listings['fold'].iloc[6400:8000] = 5\n",
    "\n",
    "print(paris_listings['fold'].value_counts())"
   ]
  },
  {
   "cell_type": "markdown",
   "metadata": {},
   "source": [
    "## Première itération"
   ]
  },
  {
   "cell_type": "markdown",
   "metadata": {},
   "source": [
    "+ Entrainer un modèle des k plus proches voisins en utilisant la colonne 'accommodates' comme unique caractéristique sur le set de training (folds 2 à 5 du DataFrame paris_listings).\n",
    "+ Utiliser le modèle pour faire des prédictions sur le set de test (colonne 'accommodates' du fold 1) et assigner les résultats prédits à la variable labels.\n",
    "+ Calculer la valeur RMSE en comparant la colonne 'price' avec les valeurs prédites labels.\n",
    "+ Assigner la valeur RMSE à la variable iteration_one_rmse.\n",
    "+ Afficher le résultat\n"
   ]
  },
  {
   "cell_type": "code",
   "execution_count": 24,
   "metadata": {},
   "outputs": [],
   "source": [
    "from sklearn.neighbors import KNeighborsRegressor\n",
    "from sklearn.metrics import mean_squared_error"
   ]
  },
  {
   "cell_type": "code",
   "execution_count": 28,
   "metadata": {},
   "outputs": [],
   "source": [
    "# != 1\n",
    "# == 1"
   ]
  },
  {
   "cell_type": "code",
   "execution_count": 31,
   "metadata": {},
   "outputs": [
    {
     "name": "stdout",
     "output_type": "stream",
     "text": [
      "81.94523308283405\n"
     ]
    }
   ],
   "source": [
    "# Entrainement\n",
    "model = KNeighborsRegressor()\n",
    "train_iteration_one = paris_listings[paris_listings['fold'] !=1]\n",
    "test_iteration_one = paris_listings[paris_listings['fold'] == 1]\n",
    "model.fit(train_iteration_one[['accommodates']], train_iteration_one['price'])\n",
    "\n",
    "# prédiction\n",
    "labels = model.predict(test_iteration_one[['accommodates']])\n",
    "test_iteration_one['predicted_price'] = labels\n",
    "iteration_one_mse = mean_squared_error(test_iteration_one['price'], test_iteration_one['predicted_price'])\n",
    "iteration_one_rmse = iteration_one_mse**(1/2)\n",
    "\n",
    "print(iteration_one_rmse)"
   ]
  },
  {
   "cell_type": "markdown",
   "metadata": {},
   "source": [
    "## Fonction pour entrainer des modèles"
   ]
  },
  {
   "cell_type": "markdown",
   "metadata": {},
   "source": [
    "+ Ecrire une fonction qu'on nommera train_and_validate qui prend un dataframe en premier paramètre (df) et une liste de valeurs de numéros fold (1 à 5 dans notre cas) en 2e paramètre (folds). Cette fonction devra:\n",
    " - Entrainer n modèles (où n est le numéro de fold) et exécuter une validation croisée des k-fold (en utilisant n folds). Utiliser la valeur de k par défaut pour la classe KNeighborsRegressor.\n",
    " - Retourner la liste des valeurs RMSE, où le premier élément est quand fold 1 est le set de test, le second élément est quand fold 2 est le set de test, et ainsi de suite.\n",
    "+ Utiliser la fonction train_and_validate pour retourner la liste des valeurs RMSE pour le dataframe paris_listings et l'assigner à la variable rmses.\n",
    "+ Calculer la moyenne de ces valeurs et l'assigner à la variable avg_rmse.\n",
    "+ Afficher rmses et avg_rmse.\n"
   ]
  },
  {
   "cell_type": "code",
   "execution_count": 32,
   "metadata": {},
   "outputs": [],
   "source": [
    "# train = paris_listings[paris_listings['fold'] != fold]"
   ]
  },
  {
   "cell_type": "code",
   "execution_count": 33,
   "metadata": {},
   "outputs": [
    {
     "name": "stdout",
     "output_type": "stream",
     "text": [
      "[81.94523308283405, 156.1902075995803, 72.58622217749041, 99.10605291807357, 83.16789539840478]\n",
      "98.59912223527662\n"
     ]
    }
   ],
   "source": [
    "import numpy as np\n",
    "\n",
    "fold_ids = [1, 2, 3, 4, 5]\n",
    "\n",
    "def train_and_validate(df, folds):\n",
    "    fold_rmses = []\n",
    "    for fold in folds:\n",
    "        #entrainement\n",
    "        model = KNeighborsRegressor()\n",
    "        train = df[df['fold'] != fold]\n",
    "        test = df[df['fold'] == fold]\n",
    "        model.fit(train[['accommodates']], train['price'])\n",
    "        \n",
    "        #prédiction\n",
    "        labels = model.predict(test[['accommodates']])\n",
    "        test['predicted_price'] = labels\n",
    "        mse = mean_squared_error(test['price'], test['predicted_price'])\n",
    "        rmse = mse**(1/2)\n",
    "        fold_rmses.append(rmse)\n",
    "    return(fold_rmses)\n",
    "\n",
    "rmses = train_and_validate(paris_listings, fold_ids)\n",
    "print(rmses)\n",
    "\n",
    "avg_rmse = np.mean(rmses)\n",
    "print(avg_rmse)"
   ]
  },
  {
   "cell_type": "markdown",
   "metadata": {},
   "source": [
    "## Exécuter une validation croisée des K-Fold en utilisant Scikit-Learn\n"
   ]
  },
  {
   "cell_type": "markdown",
   "metadata": {},
   "source": [
    "+ Créer une nouvelle instance de la classe KFold avec les propriétés suivantes:\n",
    " - 5 folds,\n",
    " - Définir shuffle à True,\n",
    " - Définir random_state à 1 (pour avoir le même résultat que moi),\n",
    " - Assigné à la variable kf.\n",
    "+ Créer une nouvelle instance de la classe KNeighborsRegressor et l'assigner à la variable knn.\n",
    "+ Utiliser la fonction cross_val_score() pour effectuer la validation croisée des k-fold en:\n",
    " - Utilisant l'instance KNeighborsRegressor knn,\n",
    " - Utilisant la colonne 'accommodates' pour l'entrainement,\n",
    " - Utilisant la colonne 'price' pour la colonne cible,\n",
    " - Retournant un tableau de valeurs de MSE (une valeur pour chaque fold).\n",
    "+ Assigner la liste résultante de valeurs de MSE à la variable mses. Ensuite, prendre la valeur absolue suivi de la racine carrée de chaque valeur MSE. Enfin, calculer la moyenne des valeurs RMSE résultantes et assigner le résultat à la variable avg_rmse.\n",
    " \n"
   ]
  },
  {
   "cell_type": "code",
   "execution_count": 34,
   "metadata": {},
   "outputs": [
    {
     "name": "stdout",
     "output_type": "stream",
     "text": [
      "[ 75.39017691  78.61860292  91.61952671  87.38039883 158.31198012]\n",
      "98.26413709965395\n"
     ]
    }
   ],
   "source": [
    "from sklearn.model_selection import cross_val_score, KFold\n",
    "kf = KFold(5, shuffle=True, random_state=1)\n",
    "knn = KNeighborsRegressor()\n",
    "mses = cross_val_score(knn, paris_listings[['accommodates']], paris_listings['price'],\n",
    "                      scoring='neg_mean_squared_error', cv=kf)\n",
    "rmses = np.sqrt(np.absolute(mses))\n",
    "avg_rmse = np.mean(rmses)\n",
    "\n",
    "print(rmses)\n",
    "print(avg_rmse)"
   ]
  },
  {
   "cell_type": "markdown",
   "metadata": {},
   "source": [
    "##  Explorer différentes valeurs de k\n"
   ]
  },
  {
   "cell_type": "code",
   "execution_count": 36,
   "metadata": {},
   "outputs": [
    {
     "name": "stdout",
     "output_type": "stream",
     "text": [
      "3 folds:  avg RMSE:  103.52985525843418 std RMSE:  23.4724587881722\n",
      "5 folds:  avg RMSE:  98.26413709965395 std RMSE:  30.58599393612067\n",
      "7 folds:  avg RMSE:  100.5802680585613 std RMSE:  30.298978546243564\n",
      "9 folds:  avg RMSE:  100.65349476343783 std RMSE:  31.016383141381176\n",
      "10 folds:  avg RMSE:  99.64732774449637 std RMSE:  32.80776719590842\n",
      "11 folds:  avg RMSE:  98.01098681083695 std RMSE:  34.61336551901312\n",
      "13 folds:  avg RMSE:  96.33532504669681 std RMSE:  36.04164484994614\n",
      "15 folds:  avg RMSE:  95.58687573751473 std RMSE:  36.73027442785193\n",
      "17 folds:  avg RMSE:  98.2756484776724 std RMSE:  39.844277774194715\n",
      "19 folds:  avg RMSE:  94.81790717392869 std RMSE:  40.53344699367584\n",
      "21 folds:  avg RMSE:  94.0176576804826 std RMSE:  40.70953766964937\n",
      "23 folds:  avg RMSE:  93.25633598907179 std RMSE:  43.08460768935064\n"
     ]
    }
   ],
   "source": [
    "from sklearn.model_selection import cross_val_score, KFold\n",
    "\n",
    "num_folds = [3, 5, 7, 9, 10, 11, 13, 15, 17, 19, 21, 23]\n",
    "\n",
    "for fold in num_folds:\n",
    "    kf = KFold(fold, shuffle=True, random_state=1)\n",
    "    model = KNeighborsRegressor()\n",
    "    mses = cross_val_score(model, paris_listings[[\"accommodates\"]], paris_listings[\"price\"],\n",
    "                           scoring=\"neg_mean_squared_error\", cv=kf)\n",
    "    rmses = np.sqrt(np.absolute(mses))\n",
    "    avg_rmse = np.mean(rmses)\n",
    "    std_rmse = np.std(rmses)\n",
    "    print(str(fold), \"folds: \", \"avg RMSE: \", str(avg_rmse), \"std RMSE: \", str(std_rmse))"
   ]
  }
 ],
 "metadata": {
  "kernelspec": {
   "display_name": "Python 3 (ipykernel)",
   "language": "python",
   "name": "python3"
  },
  "language_info": {
   "codemirror_mode": {
    "name": "ipython",
    "version": 3
   },
   "file_extension": ".py",
   "mimetype": "text/x-python",
   "name": "python",
   "nbconvert_exporter": "python",
   "pygments_lexer": "ipython3",
   "version": "3.9.12"
  }
 },
 "nbformat": 4,
 "nbformat_minor": 2
}
