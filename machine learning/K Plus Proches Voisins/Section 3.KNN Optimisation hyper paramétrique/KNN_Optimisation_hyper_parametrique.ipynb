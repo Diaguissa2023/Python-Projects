{
 "cells": [
  {
   "cell_type": "code",
   "execution_count": 24,
   "id": "5f0733c3",
   "metadata": {},
   "outputs": [],
   "source": [
    "from sklearn.neighbors import KNeighborsRegressor\n",
    "from sklearn.metrics import mean_squared_error\n",
    "#knn = KNeighborsRegressor(n_neighbors = 5, algorithm='brute') # Instancier le modele de Machine Learning\n",
    "from scipy.spatial import distance \n",
    "import pandas as pd\n",
    "import numpy as np\n",
    "import matplotlib.pyplot as plt\n",
    "%matplotlib inline"
   ]
  },
  {
   "cell_type": "code",
   "execution_count": 16,
   "id": "5383ab49",
   "metadata": {},
   "outputs": [],
   "source": [
    "train_df = pd.read_csv(\"paris_airbnb_train.csv\")\n",
    "test_df = pd.read_csv(\"paris_airbnb_test.csv\")"
   ]
  },
  {
   "cell_type": "code",
   "execution_count": null,
   "id": "0d0cc3bb",
   "metadata": {},
   "outputs": [],
   "source": []
  },
  {
   "cell_type": "markdown",
   "id": "0ed88d91",
   "metadata": {},
   "source": [
    "### Optimisation hyper paramétrique : Exercice 1"
   ]
  },
  {
   "cell_type": "code",
   "execution_count": null,
   "id": "1abdb8ac",
   "metadata": {},
   "outputs": [],
   "source": []
  },
  {
   "cell_type": "code",
   "execution_count": 19,
   "id": "89cbdeb8",
   "metadata": {},
   "outputs": [],
   "source": [
    "hyper_params = [1,2,3,4,5]\n",
    "mse_values = list()\n",
    "features = ['accommodates', 'bedrooms', 'bathrooms', 'number_of_reviews']"
   ]
  },
  {
   "cell_type": "code",
   "execution_count": 20,
   "id": "d38c183c",
   "metadata": {},
   "outputs": [
    {
     "name": "stdout",
     "output_type": "stream",
     "text": [
      "[9818.697443922796, 7007.179186228482, 5912.829131165595, 5753.763302034429, 5460.900239958268]\n"
     ]
    }
   ],
   "source": [
    "for i in hyper_params:\n",
    "    knn = KNeighborsRegressor(n_neighbors = i, algorithm='brute')\n",
    "    knn.fit(train_df[features], train_df['price'])\n",
    "    predictions = knn.predict(test_df[features])\n",
    "    mse = mean_squared_error(test_df['price'], predictions)\n",
    "    mse_values.append(mse)\n",
    "    \n",
    "print(mse_values) # resultat de la liste pour chacune des valeurs k = 1,2....,5\n",
    "# On constate pour chaque augmentation de k, la valeur baisse."
   ]
  },
  {
   "cell_type": "code",
   "execution_count": null,
   "id": "3cc0f1ec",
   "metadata": {},
   "outputs": [],
   "source": []
  },
  {
   "cell_type": "code",
   "execution_count": null,
   "id": "a24db6ad",
   "metadata": {},
   "outputs": [],
   "source": [
    "# Essayons de voir pour k = 1 jusqua 60"
   ]
  },
  {
   "cell_type": "code",
   "execution_count": 21,
   "id": "e5d87eb2",
   "metadata": {},
   "outputs": [],
   "source": [
    "hyper_params = [x for x in range(1,60)]\n",
    "mse_values = list()\n",
    "features = ['accommodates', 'bedrooms', 'bathrooms', 'number_of_reviews']"
   ]
  },
  {
   "cell_type": "code",
   "execution_count": 22,
   "id": "95f93bcd",
   "metadata": {},
   "outputs": [
    {
     "name": "stdout",
     "output_type": "stream",
     "text": [
      "[9818.697443922796, 7007.179186228482, 5912.829131165595, 5753.763302034429, 5460.900239958268, 5439.381382947892, 5307.278272811472, 5215.096032211789, 6607.313587975039, 6291.744574856547, 6025.83387438189, 5911.566166029097, 5792.323252246329, 5645.055241501922, 5556.156067930216, 5460.20068792384, 5402.757234938531, 5393.620437991461, 5278.898680272876, 5243.859320552948, 5241.246189660005, 5206.074460999236, 5205.653897620829, 5135.5230675462235, 5118.727688680229, 5056.224132103602, 5049.54155548543, 5042.9156393386775, 5021.880945070609, 4991.972320176202, 4997.722637206831, 4974.932035936685, 4953.809840233797, 4917.142302166195, 4902.799129592368, 4901.62500120752, 4911.233762121467, 4915.847685889628, 4909.152668758062, 4906.923785211267, 4895.15658823942, 4899.544976502163, 4865.043639317225, 4862.369275609272, 4858.559551253566, 4869.190584837879, 4879.421665718537, 4884.820873996551, 4879.076707953151, 4882.324218466354, 4890.349915375031, 4869.198653900171, 4859.621994880827, 4851.576627575237, 4855.111937988507, 4852.820570745905, 4853.421343078478, 4860.660880618188, 4862.739324452572]\n"
     ]
    }
   ],
   "source": [
    "for i in hyper_params:\n",
    "    knn = KNeighborsRegressor(n_neighbors = i, algorithm='brute')\n",
    "    knn.fit(train_df[features], train_df['price'])\n",
    "    predictions = knn.predict(test_df[features])\n",
    "    mse = mean_squared_error(test_df['price'], predictions)\n",
    "    mse_values.append(mse)\n",
    "    \n",
    "print(mse_values) # resultat de la liste pour chacune des valeurs k = 1,2....,60\n",
    "# On constate pour chaque augmentation de k, la valeur baisse."
   ]
  },
  {
   "cell_type": "code",
   "execution_count": 23,
   "id": "a5bfdb7d",
   "metadata": {},
   "outputs": [
    {
     "name": "stdout",
     "output_type": "stream",
     "text": [
      "4851.576627575237\n"
     ]
    }
   ],
   "source": [
    "print(min(mse_values))"
   ]
  },
  {
   "cell_type": "code",
   "execution_count": null,
   "id": "8640f31f",
   "metadata": {},
   "outputs": [],
   "source": [
    "# Visualison ce comportement à l'aide d'un nuage de point"
   ]
  },
  {
   "cell_type": "code",
   "execution_count": 26,
   "id": "bef7ea63",
   "metadata": {},
   "outputs": [],
   "source": [
    "hyper_params = [x for x in range(1,100)]\n",
    "mse_values = list()\n",
    "features = train_df.columns.tolist()\n",
    "features.remove('price')"
   ]
  },
  {
   "cell_type": "code",
   "execution_count": 27,
   "id": "dc96efa9",
   "metadata": {},
   "outputs": [
    {
     "data": {
      "text/plain": [
       "<matplotlib.collections.PathCollection at 0x19055a63280>"
      ]
     },
     "execution_count": 27,
     "metadata": {},
     "output_type": "execute_result"
    },
    {
     "data": {
      "image/png": "[encoded data removed]",
      "text/plain": [
       "<Figure size 432x288 with 1 Axes>"
      ]
     },
     "metadata": {
      "needs_background": "light"
     },
     "output_type": "display_data"
    }
   ],
   "source": [
    "for i in hyper_params:\n",
    "    knn = KNeighborsRegressor(n_neighbors = i, algorithm='brute')\n",
    "    knn.fit(train_df[features], train_df['price'])\n",
    "    predictions = knn.predict(test_df[features])\n",
    "    mse = mean_squared_error(test_df['price'], predictions)\n",
    "    mse_values.append(mse)\n",
    "    \n",
    "plt.scatter(hyper_params, mse_values)\n"
   ]
  },
  {
   "cell_type": "code",
   "execution_count": null,
   "id": "361974b7",
   "metadata": {},
   "outputs": [],
   "source": []
  },
  {
   "cell_type": "code",
   "execution_count": null,
   "id": "38405ce4",
   "metadata": {},
   "outputs": [],
   "source": []
  },
  {
   "cell_type": "code",
   "execution_count": null,
   "id": "12cb4e6f",
   "metadata": {},
   "outputs": [],
   "source": []
  },
  {
   "cell_type": "code",
   "execution_count": null,
   "id": "8cd3edeb",
   "metadata": {},
   "outputs": [],
   "source": []
  },
  {
   "cell_type": "code",
   "execution_count": null,
   "id": "e74f1e13",
   "metadata": {},
   "outputs": [],
   "source": []
  },
  {
   "cell_type": "code",
   "execution_count": null,
   "id": "a9cf55f3",
   "metadata": {},
   "outputs": [],
   "source": []
  }
 ],
 "metadata": {
  "kernelspec": {
   "display_name": "Python 3 (ipykernel)",
   "language": "python",
   "name": "python3"
  },
  "language_info": {
   "codemirror_mode": {
    "name": "ipython",
    "version": 3
   },
   "file_extension": ".py",
   "mimetype": "text/x-python",
   "name": "python",
   "nbconvert_exporter": "python",
   "pygments_lexer": "ipython3",
   "version": "3.9.12"
  }
 },
 "nbformat": 4,
 "nbformat_minor": 5
}
