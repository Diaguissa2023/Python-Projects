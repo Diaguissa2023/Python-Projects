{
 "cells": [
  {
   "cell_type": "markdown",
   "metadata": {},
   "source": [
    "# Optimisation des hyper paramètres"
   ]
  },
  {
   "cell_type": "markdown",
   "metadata": {},
   "source": [
    "## Récapitulatif"
   ]
  },
  {
   "cell_type": "markdown",
   "metadata": {},
   "source": [
    "+ Lire paris_airbnb_train.csv dans un Dataframe et l'assigner à la variable train_df.\n",
    "+ Lire paris_airbnb_test.csv dans un Dataframe et l'assigner à la variable test_df."
   ]
  },
  {
   "cell_type": "code",
   "execution_count": 29,
   "metadata": {},
   "outputs": [],
   "source": [
    "import pandas as pd\n",
    "\n",
    "train_df = pd.read_csv('paris_airbnb_train.csv')\n",
    "test_df = pd.read_csv('paris_airbnb_test.csv')"
   ]
  },
  {
   "cell_type": "markdown",
   "metadata": {},
   "source": [
    "## Optimisation hyper paramétrique"
   ]
  },
  {
   "cell_type": "markdown",
   "metadata": {},
   "source": [
    "+ Créer une liste contenant les valeurs entières 1, 2, 3, 4, et 5, dans cet ordre et l'assigner à la variable hyper_params.\n",
    "+ Créer une liste vide et l'assigner à la variable mse_values.\n",
    "+ Utiliser une boucle for pour itérer sur toutes les valeurs de hyper_params et pour chaque itération:\n",
    " - Instancier un objet de la classe KNeighborsRegressor avec les paramètres suivants: n_neighbors: la valeur correspondante à la variable itérative et algorithm: brute  \n",
    " - Adapter le modèle des k plus proches voisins  aux colonnes suivantes de train_df: 'accommodates', 'bedrooms', 'bathrooms' et 'number_of_reviews'\n",
    " - Utiliser le modèle entrainé pour faire des prédictions sur les mêmes colonnes de test_df et assigner le résultat à la variable predictions.\n",
    " - Utiliser la fonction mean_squared_error pour calculer la valeur de MSE entre le tableau Numpy predictions et la colonne price de test_df.\n",
    " - Ajouter la valeur MSE à la liste mse_values.\n",
    "+ Afficher le résultat mse_values qui contient toutes les valeurs de MSE.\n"
   ]
  },
  {
   "cell_type": "code",
   "execution_count": 30,
   "metadata": {},
   "outputs": [
    {
     "name": "stdout",
     "output_type": "stream",
     "text": [
      "[9817.323943661971, 7002.631324986959, 5907.894742943257, 5661.341223265519, 5417.664287949922]\n"
     ]
    }
   ],
   "source": [
    "from sklearn.neighbors import KNeighborsRegressor\n",
    "from sklearn.metrics import mean_squared_error\n",
    "\n",
    "features = ['accommodates', 'bedrooms', 'bathrooms', 'number_of_reviews']\n",
    "hyper_params = [1, 2, 3, 4, 5]\n",
    "mse_values = list()\n",
    "\n",
    "for hp in hyper_params:\n",
    "    knn = KNeighborsRegressor(n_neighbors=hp, algorithm='brute')\n",
    "    knn.fit(train_df[features], train_df['price'])\n",
    "    predictions = knn.predict(test_df[features])\n",
    "    mse = mean_squared_error(test_df['price'], predictions)\n",
    "    mse_values.append(mse)\n",
    "    \n",
    "print(mse_values)"
   ]
  },
  {
   "cell_type": "markdown",
   "metadata": {},
   "source": [
    "## Elargir la grille de recherche"
   ]
  },
  {
   "cell_type": "markdown",
   "metadata": {},
   "source": [
    "+ Changer la liste des valeurs des hyper paramètres, hyper_params, donc cela ira de 1 à 60.\n",
    "+ Créer une liste vide et assigner la à la variable  mse_values.\n",
    "+ Utiliser une boucle for pour itérer à travers hyper_params et pour chaque itération:\n",
    " - Instancier un objet de la classe KNeighborsRegressor avec les paramètres suivants: n_neighbors: la valeur de la variable itérative actuelle et algorithm: brute\n",
    " - Adapter le modèle des k plus proches voisins aux colonnes suivantes du dataframe train_df:accommodates, bedrooms, bathrooms et number_of_reviews\n",
    " - Utiliser le modèle entrainé pour faire des prédictions sur les mêmes colonnes de test_df et assigner les résultatrs à la variable predictions.\n",
    " - Utiliser la fonction mean_squared_error pour calculer la valeur de MSE entre le tableau Numpy predictions et la colonne price de test_df.\n",
    " - Ajouter la valeur de MSE à la liste mse_values.\n",
    "+ Afficher le résultat mse_values."
   ]
  },
  {
   "cell_type": "code",
   "execution_count": 31,
   "metadata": {},
   "outputs": [
    {
     "name": "stdout",
     "output_type": "stream",
     "text": [
      "[9817.323943661971, 7002.631324986959, 5907.894742943257, 5661.341223265519, 5417.664287949922, 5418.813481713325, 5247.059659544569, 5170.334042449139, 6528.348486897609, 6202.626953573291, 5965.656544100846, 5873.992349156668, 5751.721544696626, 5623.250013307358, 5531.67691879673, 5434.749519105373, 5390.129792983197, 5362.932261378053, 5267.722446921191, 5244.954955659886, 5236.744736496582, 5204.820291045323, 5224.870032630144, 5167.27829127543, 5138.799817214398, 5070.933075441472, 5053.942998641138, 5058.67444481705, 5033.274029786682, 4993.322969338666, 4999.006861766428, 4972.459228388269, 4960.304749970421, 4930.386004028786, 4942.974229291091, 4933.838639173864, 4951.927382273785, 4959.470553236315, 4941.431895044752, 4930.557633346374, 4919.229180534106, 4920.038364519864, 4888.856479541874, 4881.809930827697, 4878.09661417982, 4867.586865307226, 4878.6290923955285, 4880.843236728757, 4875.086292943929, 4883.599426604069, 4888.731776249937, 4869.749983794946, 4858.346301189651, 4853.628472199861, 4854.875277055661, 4856.244114821202, 4850.956887019368, 4848.211829106493, 4861.2097690465735]\n"
     ]
    }
   ],
   "source": [
    "features = ['accommodates', 'bedrooms', 'bathrooms', 'number_of_reviews']\n",
    "hyper_params = [x for x in range(1,60)]\n",
    "mse_values = list()\n",
    "\n",
    "for hp in hyper_params:\n",
    "    knn = KNeighborsRegressor(n_neighbors=hp, algorithm='brute')\n",
    "    knn.fit(train_df[features], train_df['price'])\n",
    "    predictions = knn.predict(test_df[features])\n",
    "    mse = mean_squared_error(test_df['price'], predictions)\n",
    "    mse_values.append(mse)\n",
    "    \n",
    "print(mse_values)"
   ]
  },
  {
   "cell_type": "code",
   "execution_count": 32,
   "metadata": {},
   "outputs": [
    {
     "name": "stdout",
     "output_type": "stream",
     "text": [
      "4848.211829106493\n"
     ]
    }
   ],
   "source": [
    "print(min(mse_values))"
   ]
  },
  {
   "cell_type": "markdown",
   "metadata": {},
   "source": [
    "## Visualiser les valeurs des hyper paramètres"
   ]
  },
  {
   "cell_type": "markdown",
   "metadata": {},
   "source": [
    "+ Utiliser la méthode scatter() de la bibliothèque matplotlib.pyplot pour générer un graphique avec:\n",
    " - hyper_params sur l'axe x,\n",
    " - mse_values sur l'axe y.\n",
    "+ Utiliser plt.show() pour l'afficher."
   ]
  },
  {
   "cell_type": "code",
   "execution_count": 20,
   "metadata": {},
   "outputs": [
    {
     "data": {
      "text/plain": [
       "<matplotlib.collections.PathCollection at 0x1a22820f98>"
      ]
     },
     "execution_count": 20,
     "metadata": {},
     "output_type": "execute_result"
    },
    {
     "data": {
      "image/png": "[encoded data removed]",
      "text/plain": [
       "<Figure size 432x288 with 1 Axes>"
      ]
     },
     "metadata": {
      "needs_background": "light"
     },
     "output_type": "display_data"
    }
   ],
   "source": [
    "import matplotlib.pyplot as plt\n",
    "%matplotlib inline\n",
    "\n",
    "features = ['accommodates', 'bedrooms', 'bathrooms', 'number_of_reviews']\n",
    "hyper_params = [x for x in range(9,300)]\n",
    "mse_values = list()\n",
    "\n",
    "for hp in hyper_params:\n",
    "    knn = KNeighborsRegressor(n_neighbors=hp, algorithm='brute')\n",
    "    knn.fit(train_df[features], train_df['price'])\n",
    "    predictions = knn.predict(test_df[features])\n",
    "    mse = mean_squared_error(test_df['price'], predictions)\n",
    "    mse_values.append(mse)\n",
    "    \n",
    "plt.scatter(hyper_params, mse_values)"
   ]
  },
  {
   "cell_type": "markdown",
   "metadata": {},
   "source": [
    "## Varier les caractéristiques et les hyper paramètres"
   ]
  },
  {
   "cell_type": "markdown",
   "metadata": {},
   "source": [
    "+ Faire varier k de 1 à 100...\n",
    "+ Utiliser une boucle for pour itérer à travers hyper_params et pour chaque itération:\n",
    " - Instancier un objet de la classe KNeighborsRegressor avec les mêmes paramètres\n",
    " - Adapter le modèle à toutes les colonnes, excepté la colonne 'price', de train_df\n",
    " - Utiliser le modèle entrainé pour faire des prédictions sur les mêmes colonnes de test_df et assigner les résultats à predictions.\n",
    " - Utiliser la fonction mean_squared_error pour calculer la valeur MSE entre le tableau predictions et la colonne price de test_df.\n",
    " - Ajouter la valeur MSE à la liste mse_values.\n",
    "+ Utiliser la méthode scatter() de matplotlib.pyplot pour générer un graphique:\n",
    " - hyper_params sur l'axe x,\n",
    "+ Utiliser plt.show() pour l'afficher."
   ]
  },
  {
   "cell_type": "code",
   "execution_count": 33,
   "metadata": {},
   "outputs": [
    {
     "data": {
      "image/png": "[encoded data removed]",
      "text/plain": [
       "<Figure size 432x288 with 1 Axes>"
      ]
     },
     "metadata": {
      "needs_background": "light"
     },
     "output_type": "display_data"
    }
   ],
   "source": [
    "hyper_param = [x for x in range(1,100)]\n",
    "mse_values = list()\n",
    "features = train_df.columns.tolist()\n",
    "features.remove('price')\n",
    "\n",
    "for hp in hyper_params:\n",
    "    knn = KNeighborsRegressor(n_neighbors=hp, algorithm='brute')\n",
    "    knn.fit(train_df[features], train_df['price'])\n",
    "    predictions = knn.predict(test_df[features])\n",
    "    mse = mean_squared_error(test_df['price'], predictions)\n",
    "    mse_values.append(mse)\n",
    "    \n",
    "plt.scatter(hyper_params, mse_values)\n",
    "plt.show()"
   ]
  },
  {
   "cell_type": "code",
   "execution_count": 34,
   "metadata": {},
   "outputs": [
    {
     "name": "stdout",
     "output_type": "stream",
     "text": [
      "8725.804287737126\n"
     ]
    }
   ],
   "source": [
    "print(min(mse_values))"
   ]
  },
  {
   "cell_type": "markdown",
   "metadata": {},
   "source": [
    "## Pratiquer le workflow"
   ]
  },
  {
   "cell_type": "markdown",
   "metadata": {},
   "source": [
    "+ En utilisant uniquement les colonnes 'accommodates' et 'bathrooms':\n",
    " - Entrainer un modèle pour chaque valeur de k entre 1 et 100 en utilisant les données d'apprentissage.\n",
    " - Utiliser chaque modèle pour faire des prédictions sur le set de test (en utilisant seulement les colonnes 'accommodates' et 'bathrooms').\n",
    " - Calculer la valeur MSE de chaque modèle en comparant chaque set de prédictions aux valeurs réelles de prix.\n",
    " - Trouver la valeur k ayant obtenu la valeur MSE la plus faible.\n",
    " - Créer un dictionnaire nommé two_hp_mse qui contient une paire clé / valeur. 'clé' est la valeur de k ayant entrainé la plus faible valeur MSE et 'valeur' est la valeur MSE correspondante\n",
    "+ Répéter cette procédure en utilisant uniquement les colonnes 'accommodates', 'bathrooms' et 'bedrooms':\n",
    " - Créer un dictionnaire nommé three_hp_mse qui contient une paire clé / valeur. 'clé' est la valeur de k ayant entrainé la plus faible valeur MSE et 'valeur' est la valeur MSE correspondante\n",
    "+ Afficher les résultats two_hp_mse et three_hp_mse."
   ]
  },
  {
   "cell_type": "code",
   "execution_count": 36,
   "metadata": {},
   "outputs": [],
   "source": [
    "# for k, mse in enumerate(two_mse_values):"
   ]
  },
  {
   "cell_type": "code",
   "execution_count": 37,
   "metadata": {},
   "outputs": [
    {
     "name": "stdout",
     "output_type": "stream",
     "text": [
      "{94: 4948.546816114567}\n",
      "{90: 4902.640327672482}\n"
     ]
    }
   ],
   "source": [
    "two_features = ['accommodates', 'bathrooms']\n",
    "three_features = ['accommodates', 'bathrooms', 'bedrooms']\n",
    "hyper_params = [x for x in range(1,100)]\n",
    "\n",
    "two_mse_values = list()\n",
    "three_mse_values = list()\n",
    "\n",
    "two_hp_mse = dict()\n",
    "three_hp_mse = dict()\n",
    "\n",
    "for hp in hyper_params:\n",
    "    knn = KNeighborsRegressor(n_neighbors=hp, algorithm='brute')\n",
    "    knn.fit(train_df[two_features], train_df['price'])\n",
    "    predictions = knn.predict(test_df[two_features])\n",
    "    mse = mean_squared_error(test_df['price'], predictions)\n",
    "    two_mse_values.append(mse)\n",
    "    \n",
    "two_lowest_mse = two_mse_values[0]\n",
    "two_lowest_k = 1\n",
    "\n",
    "for k,mse in enumerate(two_mse_values):\n",
    "    if mse < two_lowest_mse:\n",
    "        two_lowest_mse = mse\n",
    "        two_lowest_k = k + 1\n",
    "    \n",
    "\n",
    "for hp in hyper_params:\n",
    "    knn = KNeighborsRegressor(n_neighbors=hp, algorithm='brute')\n",
    "    knn.fit(train_df[three_features], train_df['price'])\n",
    "    predictions = knn.predict(test_df[three_features])\n",
    "    mse = mean_squared_error(test_df['price'], predictions)\n",
    "    three_mse_values.append(mse)\n",
    "    \n",
    "three_lowest_mse = three_mse_values[0]\n",
    "three_lowest_k = 1\n",
    "\n",
    "for k,mse in enumerate(three_mse_values):\n",
    "    if mse < three_lowest_mse:\n",
    "        three_lowest_mse = mse\n",
    "        three_lowest_k = k + 1\n",
    "\n",
    "two_hp_mse[two_lowest_k] = two_lowest_mse\n",
    "three_hp_mse[three_lowest_k] = three_lowest_mse\n",
    "\n",
    "print(two_hp_mse)\n",
    "print(three_hp_mse)"
   ]
  }
 ],
 "metadata": {
  "kernelspec": {
   "display_name": "Python 3 (ipykernel)",
   "language": "python",
   "name": "python3"
  },
  "language_info": {
   "codemirror_mode": {
    "name": "ipython",
    "version": 3
   },
   "file_extension": ".py",
   "mimetype": "text/x-python",
   "name": "python",
   "nbconvert_exporter": "python",
   "pygments_lexer": "ipython3",
   "version": "3.9.12"
  }
 },
 "nbformat": 4,
 "nbformat_minor": 2
}
