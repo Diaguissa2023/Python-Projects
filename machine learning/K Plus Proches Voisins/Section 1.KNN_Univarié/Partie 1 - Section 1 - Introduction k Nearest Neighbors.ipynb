{
 "cells": [
  {
   "cell_type": "markdown",
   "metadata": {},
   "source": [
    "# Introduction des k plus proches voisins"
   ]
  },
  {
   "cell_type": "markdown",
   "metadata": {},
   "source": [
    "## Lecture dataset"
   ]
  },
  {
   "cell_type": "markdown",
   "metadata": {},
   "source": [
    "+ Lire le fichier 'paris_airbnb.csv' dans un Dataframe nommé paris_listings.\n",
    "+ Afficher la première ligne de paris_listings.\n"
   ]
  },
  {
   "cell_type": "code",
   "execution_count": 2,
   "metadata": {},
   "outputs": [],
   "source": [
    "# DataFrame.iloc[] pour retourner une ligne de la position souhaitée"
   ]
  },
  {
   "cell_type": "code",
   "execution_count": 10,
   "metadata": {},
   "outputs": [
    {
     "name": "stdout",
     "output_type": "stream",
     "text": [
      "host_response_rate                 100%\n",
      "host_acceptance_rate                NaN\n",
      "host_listings_count                   1\n",
      "latitude                        48.8335\n",
      "longitude                       2.31852\n",
      "city                              Paris\n",
      "zipcode                           75014\n",
      "state                     Île-de-France\n",
      "accommodates                          2\n",
      "room_type               Entire home/apt\n",
      "bedrooms                              0\n",
      "bathrooms                             1\n",
      "beds                                  0\n",
      "price                            $75.00\n",
      "cleaning_fee                     $50.00\n",
      "security_deposit                  $0.00\n",
      "minimum_nights                        3\n",
      "maximum_nights                       15\n",
      "number_of_reviews                     8\n",
      "Name: 0, dtype: object\n"
     ]
    }
   ],
   "source": [
    "import pandas as pd\n",
    "\n",
    "paris_listings = pd.read_csv('paris_airbnb.csv')\n",
    "print(paris_listings.iloc[0])"
   ]
  },
  {
   "cell_type": "markdown",
   "metadata": {},
   "source": [
    "## Distance Euclidienne"
   ]
  },
  {
   "cell_type": "markdown",
   "metadata": {},
   "source": [
    "+ Calculer la distance Euclidienne entre notre logement qui peut accueillir 3 personnes et le premier logement du dataFrame paris_listings.\n",
    "+ Assigner le résultat à la variable first_distance et afficher le résultat.\n"
   ]
  },
  {
   "cell_type": "code",
   "execution_count": 11,
   "metadata": {},
   "outputs": [],
   "source": [
    "# numpy.abs() pour calculer la valeur absolue"
   ]
  },
  {
   "cell_type": "code",
   "execution_count": 12,
   "metadata": {},
   "outputs": [
    {
     "name": "stdout",
     "output_type": "stream",
     "text": [
      "1\n"
     ]
    }
   ],
   "source": [
    "import numpy as np\n",
    "\n",
    "our_acc_value = 3\n",
    "first_living_space_value = paris_listings.iloc[0]['accommodates']\n",
    "\n",
    "first_distance = np.abs(first_living_space_value - our_acc_value)\n",
    "print(first_distance)"
   ]
  },
  {
   "cell_type": "markdown",
   "metadata": {},
   "source": [
    "## Calculer la distance pour toutes les observations"
   ]
  },
  {
   "cell_type": "markdown",
   "metadata": {},
   "source": [
    "+ Calculer la distance entre chaque valeur de la colonne 'accommodates' de paris_listings et la valeur 3 (qui est le nombre de personnes que peut accueillir notre logement):\n",
    " - Utiliser la méthode **apply** pour calculer la valeur absolue entre chaque valeur de 'accommodates' et 3 et retourner un nouvel objet Series contenant les valeurs de distance.\n",
    "+ Assigner les valeurs de distance à la colonne 'distance' du dataframe.\n",
    "+ Utiliser la méthode Series value_counts() et afficher le décompte de chaque valeur unique de la colonne 'distance'.\n"
   ]
  },
  {
   "cell_type": "code",
   "execution_count": 18,
   "metadata": {},
   "outputs": [],
   "source": [
    "# df['accommodates'].apply(lambda x: x + 2) retourne un nouvel objet Series où chaque valeur\n",
    "# d'origine de la colonne 'accommoates' vaut 2 de plus"
   ]
  },
  {
   "cell_type": "code",
   "execution_count": 16,
   "metadata": {},
   "outputs": [
    {
     "name": "stdout",
     "output_type": "stream",
     "text": [
      "1     5665\n",
      "0      878\n",
      "2      726\n",
      "3      508\n",
      "4       88\n",
      "5       82\n",
      "6       18\n",
      "7       14\n",
      "9        8\n",
      "11       4\n",
      "8        4\n",
      "13       3\n",
      "10       2\n",
      "Name: distance, dtype: int64\n"
     ]
    }
   ],
   "source": [
    "new_listing = 3\n",
    "paris_listings['distance'] = paris_listings['accommodates'].apply(lambda x: np.abs(x - new_listing))\n",
    "print(paris_listings['distance'].value_counts())"
   ]
  },
  {
   "cell_type": "markdown",
   "metadata": {},
   "source": [
    "## Randomiser et trier"
   ]
  },
  {
   "cell_type": "markdown",
   "metadata": {},
   "source": [
    "+ On commence par se placer sur le même seed: np.random.seed(1)\n",
    "+ Randomiser l'ordre des lignes de paris_listings:\n",
    " - Utiliser la fonction np.random.permutation() pour retourner un tableau NumPy de valeurs d'index mélangés.\n",
    " - Utiliser la méthode sur Dataframe loc[] pour retourner un nouveau DataFrame contenant l'ordre mélangé.\n",
    " - Assigner le nouveau Dataframe de nouveau à paris_listings.\n",
    "+ Après avoir randomisé, trier paris_listings sur la colonne 'distance' avec la méthode sort_values().\n",
    "+ Afficher les 10 premières valeurs de la colonne 'price'.\n"
   ]
  },
  {
   "cell_type": "code",
   "execution_count": 19,
   "metadata": {},
   "outputs": [],
   "source": [
    "# np.random.permutation(len(paris_listings))"
   ]
  },
  {
   "cell_type": "code",
   "execution_count": 20,
   "metadata": {},
   "outputs": [
    {
     "data": {
      "text/plain": [
       "1956     $80.00\n",
       "3735     $67.00\n",
       "6944     $36.00\n",
       "2094    $120.00\n",
       "2968     $60.00\n",
       "845     $200.00\n",
       "6083     $95.00\n",
       "5970     $95.00\n",
       "2992     $76.00\n",
       "3179    $100.00\n",
       "Name: price, dtype: object"
      ]
     },
     "execution_count": 20,
     "metadata": {},
     "output_type": "execute_result"
    }
   ],
   "source": [
    "np.random.seed(1)\n",
    "paris_listings = paris_listings.loc[np.random.permutation(len(paris_listings))]\n",
    "paris_listings = paris_listings.sort_values('distance')\n",
    "paris_listings.iloc[0:10]['price']"
   ]
  },
  {
   "cell_type": "markdown",
   "metadata": {},
   "source": [
    "## Prix moyen"
   ]
  },
  {
   "cell_type": "markdown",
   "metadata": {},
   "source": [
    "+ Supprimer les virgules et les signes dollars de la colonne 'price':\n",
    " - Utiliser l'accesseur str de telle sorte que nous puissions appliquer la méthode string suivi de la méthode de remplacement des caractères à chaque valeur de la colonne précédente : stripped_commas = paris_listings['price'].str.replace(',', '')\n",
    " - Répéter l'opération pour supprimer les signes $.\n",
    "+ Convertir le nouvel objet Series contenant les valeurs nettoyées en float et assigner le résultat à la colonne 'price' du dataframe paris_listings.\n",
    "+ Calculer la moyenne des 5 valeurs de la colonne 'price' et assigner le résultat à la variable mean_price.\n",
    "+ Afficher le résultat.\n"
   ]
  },
  {
   "cell_type": "code",
   "execution_count": 21,
   "metadata": {},
   "outputs": [],
   "source": [
    "# .mean() pour calculer la moyenne d'un objet Series"
   ]
  },
  {
   "cell_type": "code",
   "execution_count": 22,
   "metadata": {},
   "outputs": [
    {
     "name": "stdout",
     "output_type": "stream",
     "text": [
      "72.6\n"
     ]
    }
   ],
   "source": [
    "stripped_commas = paris_listings['price'].str.replace(',', '')\n",
    "stripped_dollars = stripped_commas.str.replace('$', '')\n",
    "paris_listings['price'] = stripped_dollars.astype('float')\n",
    "mean_price = paris_listings.iloc[0:5]['price'].mean()\n",
    "print(mean_price)"
   ]
  },
  {
   "cell_type": "markdown",
   "metadata": {},
   "source": [
    "## Fonction pour faire des prédictions"
   ]
  },
  {
   "cell_type": "markdown",
   "metadata": {},
   "source": [
    "+ Ecrire une fonction nommée predict_price qui utilise la technique de Machine Learning des k plus proches voisins pour calculer le prix suggéré pour toute valeur du nombre de personnes que le logement peut accueillir. \n",
    "+ Cette fonction doit:\n",
    " - Prendre un seul paramètre, new_listing, le nombre de personnes que peut accueillir le logement. \n",
    " - J'ai ajouté aussi du code qui assigne paris_listings à un nouveau DataFrame nommé temp_df. Nous utilisons la méthode pandas.DataFrame.copy() de sorte que le précédent dataframe soit assigné à la variable temp_df, au lieu de juste faire référence à paris_listings.\n",
    " - Calculer la distance entre chaque valeur de la colonne 'accommodates' et la valeur new_listing passée en paramètre de la fonction. Assigner l'objet Series résultant à la colonne  'distance' de temp_df.\n",
    " - Trier temp_df sur la colonne distance et sélectionner les 5 premières valeurs de la colonne 'price'. Ne pas randomiser l'ordre de temp_df.\n",
    " - Calculer la moyenne de ces 5 valeurs et retourner cette valeur en sortie de la fonction predict_price.\n",
    "+ Utiliser la fonction predict_price pour suggérer un prix pour un logement pouvant accueillir:\n",
    " - 1 personne, assigner ce résultat à la variable acc_one.\n",
    " - 2 personnes, assigner ce résultat à la variable acc_two.\n",
    " - 4 personnes, assigner ce résultat à la variable acc_four.\n",
    "\n"
   ]
  },
  {
   "cell_type": "code",
   "execution_count": 25,
   "metadata": {},
   "outputs": [],
   "source": [
    "def predict_price(new_listing):\n",
    "    temp_df = paris_listings.copy()\n",
    "    # Compléter la fonction.\n",
    "    return(predicted_price)"
   ]
  },
  {
   "cell_type": "code",
   "execution_count": 26,
   "metadata": {},
   "outputs": [
    {
     "name": "stdout",
     "output_type": "stream",
     "text": [
      "69.6\n",
      "105.4\n",
      "104.6\n"
     ]
    }
   ],
   "source": [
    "import numpy as np\n",
    "import pandas as pd\n",
    "np.random.seed(1)\n",
    "\n",
    "paris_listings = pd.read_csv('paris_airbnb.csv')\n",
    "stripped_commas = paris_listings['price'].str.replace(',', '')\n",
    "stripped_dollars = stripped_commas.str.replace('$', '')\n",
    "paris_listings['price'] = stripped_dollars.astype('float')\n",
    "paris_listings = paris_listings.loc[np.random.permutation(len(paris_listings))]\n",
    "\n",
    "def predict_price(new_listing):\n",
    "    temp_df = paris_listings.copy()\n",
    "    temp_df['distance'] = temp_df['accommodates'].apply(lambda x: np.abs(x - new_listing))\n",
    "    temp_df = temp_df.sort_values('distance')\n",
    "    nearest_neighbors = temp_df.iloc[0:5]['price']\n",
    "    predicted_price = nearest_neighbors.mean()\n",
    "    return(predicted_price)\n",
    "\n",
    "acc_one = predict_price(1)\n",
    "acc_two = predict_price(2)\n",
    "acc_four = predict_price(4)\n",
    "\n",
    "print(acc_one)\n",
    "print(acc_two)\n",
    "print(acc_four)"
   ]
  }
 ],
 "metadata": {
  "kernelspec": {
   "display_name": "Python 3 (ipykernel)",
   "language": "python",
   "name": "python3"
  },
  "language_info": {
   "codemirror_mode": {
    "name": "ipython",
    "version": 3
   },
   "file_extension": ".py",
   "mimetype": "text/x-python",
   "name": "python",
   "nbconvert_exporter": "python",
   "pygments_lexer": "ipython3",
   "version": "3.9.12"
  }
 },
 "nbformat": 4,
 "nbformat_minor": 2
}
