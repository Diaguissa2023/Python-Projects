{
 "cells": [
  {
   "cell_type": "code",
   "execution_count": 122,
   "id": "84d2c355",
   "metadata": {},
   "outputs": [],
   "source": [
    "# Importation des bibliothèques\n",
    "import pandas as pd\n",
    "import numpy as np"
   ]
  },
  {
   "cell_type": "code",
   "execution_count": 123,
   "id": "c4661053",
   "metadata": {},
   "outputs": [],
   "source": [
    "# Importation de la base de données\n",
    "paris_listings = pd.read_csv(\"paris_airbnb.csv\")"
   ]
  },
  {
   "cell_type": "code",
   "execution_count": 124,
   "id": "82d9b552",
   "metadata": {},
   "outputs": [],
   "source": [
    "#paris_listings.head(10)"
   ]
  },
  {
   "cell_type": "code",
   "execution_count": 125,
   "id": "26660ab9",
   "metadata": {},
   "outputs": [
    {
     "data": {
      "text/html": [
       "<div>\n",
       "<style scoped>\n",
       "    .dataframe tbody tr th:only-of-type {\n",
       "        vertical-align: middle;\n",
       "    }\n",
       "\n",
       "    .dataframe tbody tr th {\n",
       "        vertical-align: top;\n",
       "    }\n",
       "\n",
       "    .dataframe thead th {\n",
       "        text-align: right;\n",
       "    }\n",
       "</style>\n",
       "<table border=\"1\" class=\"dataframe\">\n",
       "  <thead>\n",
       "    <tr style=\"text-align: right;\">\n",
       "      <th></th>\n",
       "      <th>host_acceptance_rate</th>\n",
       "      <th>host_listings_count</th>\n",
       "      <th>latitude</th>\n",
       "      <th>longitude</th>\n",
       "      <th>city</th>\n",
       "      <th>zipcode</th>\n",
       "      <th>state</th>\n",
       "      <th>accommodates</th>\n",
       "      <th>room_type</th>\n",
       "      <th>bedrooms</th>\n",
       "      <th>bathrooms</th>\n",
       "      <th>beds</th>\n",
       "      <th>price</th>\n",
       "      <th>cleaning_fee</th>\n",
       "      <th>security_deposit</th>\n",
       "      <th>minimum_nights</th>\n",
       "      <th>maximum_nights</th>\n",
       "      <th>number_of_reviews</th>\n",
       "    </tr>\n",
       "    <tr>\n",
       "      <th>host_response_rate</th>\n",
       "      <th></th>\n",
       "      <th></th>\n",
       "      <th></th>\n",
       "      <th></th>\n",
       "      <th></th>\n",
       "      <th></th>\n",
       "      <th></th>\n",
       "      <th></th>\n",
       "      <th></th>\n",
       "      <th></th>\n",
       "      <th></th>\n",
       "      <th></th>\n",
       "      <th></th>\n",
       "      <th></th>\n",
       "      <th></th>\n",
       "      <th></th>\n",
       "      <th></th>\n",
       "      <th></th>\n",
       "    </tr>\n",
       "  </thead>\n",
       "  <tbody>\n",
       "    <tr>\n",
       "      <th>100%</th>\n",
       "      <td>NaN</td>\n",
       "      <td>1.0</td>\n",
       "      <td>48.83349</td>\n",
       "      <td>2.31852</td>\n",
       "      <td>Paris</td>\n",
       "      <td>75014</td>\n",
       "      <td>Île-de-France</td>\n",
       "      <td>2</td>\n",
       "      <td>Entire home/apt</td>\n",
       "      <td>0.0</td>\n",
       "      <td>1.0</td>\n",
       "      <td>0.0</td>\n",
       "      <td>$75.00</td>\n",
       "      <td>$50.00</td>\n",
       "      <td>$0.00</td>\n",
       "      <td>3</td>\n",
       "      <td>15</td>\n",
       "      <td>8</td>\n",
       "    </tr>\n",
       "    <tr>\n",
       "      <th>100%</th>\n",
       "      <td>NaN</td>\n",
       "      <td>1.0</td>\n",
       "      <td>48.85100</td>\n",
       "      <td>2.35869</td>\n",
       "      <td>Paris</td>\n",
       "      <td>75004</td>\n",
       "      <td>Ile-de-France</td>\n",
       "      <td>2</td>\n",
       "      <td>Entire home/apt</td>\n",
       "      <td>0.0</td>\n",
       "      <td>1.0</td>\n",
       "      <td>1.0</td>\n",
       "      <td>$115.00</td>\n",
       "      <td>$36.00</td>\n",
       "      <td>$0.00</td>\n",
       "      <td>1</td>\n",
       "      <td>90</td>\n",
       "      <td>173</td>\n",
       "    </tr>\n",
       "    <tr>\n",
       "      <th>100%</th>\n",
       "      <td>NaN</td>\n",
       "      <td>2.0</td>\n",
       "      <td>48.85758</td>\n",
       "      <td>2.35275</td>\n",
       "      <td>Paris</td>\n",
       "      <td>75004</td>\n",
       "      <td>Île-de-France</td>\n",
       "      <td>4</td>\n",
       "      <td>Entire home/apt</td>\n",
       "      <td>2.0</td>\n",
       "      <td>1.0</td>\n",
       "      <td>2.0</td>\n",
       "      <td>$115.00</td>\n",
       "      <td>$50.00</td>\n",
       "      <td>$200.00</td>\n",
       "      <td>10</td>\n",
       "      <td>23</td>\n",
       "      <td>243</td>\n",
       "    </tr>\n",
       "    <tr>\n",
       "      <th>100%</th>\n",
       "      <td>NaN</td>\n",
       "      <td>1.0</td>\n",
       "      <td>48.86528</td>\n",
       "      <td>2.39326</td>\n",
       "      <td>Paris</td>\n",
       "      <td>75020</td>\n",
       "      <td>Ile-de-France</td>\n",
       "      <td>3</td>\n",
       "      <td>Entire home/apt</td>\n",
       "      <td>1.0</td>\n",
       "      <td>1.0</td>\n",
       "      <td>1.0</td>\n",
       "      <td>$90.00</td>\n",
       "      <td>NaN</td>\n",
       "      <td>NaN</td>\n",
       "      <td>3</td>\n",
       "      <td>365</td>\n",
       "      <td>1</td>\n",
       "    </tr>\n",
       "    <tr>\n",
       "      <th>67%</th>\n",
       "      <td>NaN</td>\n",
       "      <td>3.0</td>\n",
       "      <td>48.85899</td>\n",
       "      <td>2.34735</td>\n",
       "      <td>Paris</td>\n",
       "      <td>75001</td>\n",
       "      <td>Île-de-France</td>\n",
       "      <td>2</td>\n",
       "      <td>Entire home/apt</td>\n",
       "      <td>1.0</td>\n",
       "      <td>1.0</td>\n",
       "      <td>1.0</td>\n",
       "      <td>$75.00</td>\n",
       "      <td>$200.00</td>\n",
       "      <td>$1,500.00</td>\n",
       "      <td>180</td>\n",
       "      <td>365</td>\n",
       "      <td>0</td>\n",
       "    </tr>\n",
       "    <tr>\n",
       "      <th>...</th>\n",
       "      <td>...</td>\n",
       "      <td>...</td>\n",
       "      <td>...</td>\n",
       "      <td>...</td>\n",
       "      <td>...</td>\n",
       "      <td>...</td>\n",
       "      <td>...</td>\n",
       "      <td>...</td>\n",
       "      <td>...</td>\n",
       "      <td>...</td>\n",
       "      <td>...</td>\n",
       "      <td>...</td>\n",
       "      <td>...</td>\n",
       "      <td>...</td>\n",
       "      <td>...</td>\n",
       "      <td>...</td>\n",
       "      <td>...</td>\n",
       "      <td>...</td>\n",
       "    </tr>\n",
       "    <tr>\n",
       "      <th>100%</th>\n",
       "      <td>NaN</td>\n",
       "      <td>2.0</td>\n",
       "      <td>48.87901</td>\n",
       "      <td>2.29526</td>\n",
       "      <td>Paris</td>\n",
       "      <td>75017</td>\n",
       "      <td>Île-de-France</td>\n",
       "      <td>2</td>\n",
       "      <td>Entire home/apt</td>\n",
       "      <td>0.0</td>\n",
       "      <td>1.0</td>\n",
       "      <td>1.0</td>\n",
       "      <td>$55.00</td>\n",
       "      <td>$45.00</td>\n",
       "      <td>$400.00</td>\n",
       "      <td>150</td>\n",
       "      <td>1125</td>\n",
       "      <td>0</td>\n",
       "    </tr>\n",
       "    <tr>\n",
       "      <th>NaN</th>\n",
       "      <td>NaN</td>\n",
       "      <td>1.0</td>\n",
       "      <td>48.88903</td>\n",
       "      <td>2.35271</td>\n",
       "      <td>Paris</td>\n",
       "      <td>75018</td>\n",
       "      <td>Île-de-France</td>\n",
       "      <td>4</td>\n",
       "      <td>Entire home/apt</td>\n",
       "      <td>1.0</td>\n",
       "      <td>1.0</td>\n",
       "      <td>2.0</td>\n",
       "      <td>$60.00</td>\n",
       "      <td>$20.00</td>\n",
       "      <td>$100.00</td>\n",
       "      <td>3</td>\n",
       "      <td>1125</td>\n",
       "      <td>4</td>\n",
       "    </tr>\n",
       "    <tr>\n",
       "      <th>100%</th>\n",
       "      <td>NaN</td>\n",
       "      <td>1.0</td>\n",
       "      <td>48.85313</td>\n",
       "      <td>2.34146</td>\n",
       "      <td>Paris</td>\n",
       "      <td>75006</td>\n",
       "      <td>Île-de-France</td>\n",
       "      <td>2</td>\n",
       "      <td>Entire home/apt</td>\n",
       "      <td>1.0</td>\n",
       "      <td>1.0</td>\n",
       "      <td>1.0</td>\n",
       "      <td>$60.00</td>\n",
       "      <td>$30.00</td>\n",
       "      <td>$0.00</td>\n",
       "      <td>2</td>\n",
       "      <td>10</td>\n",
       "      <td>25</td>\n",
       "    </tr>\n",
       "    <tr>\n",
       "      <th>NaN</th>\n",
       "      <td>NaN</td>\n",
       "      <td>1.0</td>\n",
       "      <td>48.88066</td>\n",
       "      <td>2.33639</td>\n",
       "      <td>Paris</td>\n",
       "      <td>75009</td>\n",
       "      <td>Île-de-France</td>\n",
       "      <td>2</td>\n",
       "      <td>Entire home/apt</td>\n",
       "      <td>NaN</td>\n",
       "      <td>1.0</td>\n",
       "      <td>1.0</td>\n",
       "      <td>$58.00</td>\n",
       "      <td>NaN</td>\n",
       "      <td>$200.00</td>\n",
       "      <td>3</td>\n",
       "      <td>9</td>\n",
       "      <td>57</td>\n",
       "    </tr>\n",
       "    <tr>\n",
       "      <th>100%</th>\n",
       "      <td>NaN</td>\n",
       "      <td>2.0</td>\n",
       "      <td>48.85760</td>\n",
       "      <td>2.39946</td>\n",
       "      <td>Paris</td>\n",
       "      <td>75020</td>\n",
       "      <td>Île-de-France</td>\n",
       "      <td>6</td>\n",
       "      <td>Entire home/apt</td>\n",
       "      <td>1.0</td>\n",
       "      <td>1.0</td>\n",
       "      <td>3.0</td>\n",
       "      <td>$40.00</td>\n",
       "      <td>$35.00</td>\n",
       "      <td>$300.00</td>\n",
       "      <td>4</td>\n",
       "      <td>1125</td>\n",
       "      <td>49</td>\n",
       "    </tr>\n",
       "  </tbody>\n",
       "</table>\n",
       "<p>8000 rows × 18 columns</p>\n",
       "</div>"
      ],
      "text/plain": [
       "                    host_acceptance_rate  host_listings_count  latitude  \\\n",
       "host_response_rate                                                        \n",
       "100%                                 NaN                  1.0  48.83349   \n",
       "100%                                 NaN                  1.0  48.85100   \n",
       "100%                                 NaN                  2.0  48.85758   \n",
       "100%                                 NaN                  1.0  48.86528   \n",
       "67%                                  NaN                  3.0  48.85899   \n",
       "...                                  ...                  ...       ...   \n",
       "100%                                 NaN                  2.0  48.87901   \n",
       "NaN                                  NaN                  1.0  48.88903   \n",
       "100%                                 NaN                  1.0  48.85313   \n",
       "NaN                                  NaN                  1.0  48.88066   \n",
       "100%                                 NaN                  2.0  48.85760   \n",
       "\n",
       "                    longitude   city zipcode          state  accommodates  \\\n",
       "host_response_rate                                                          \n",
       "100%                  2.31852  Paris   75014  Île-de-France             2   \n",
       "100%                  2.35869  Paris   75004  Ile-de-France             2   \n",
       "100%                  2.35275  Paris   75004  Île-de-France             4   \n",
       "100%                  2.39326  Paris   75020  Ile-de-France             3   \n",
       "67%                   2.34735  Paris   75001  Île-de-France             2   \n",
       "...                       ...    ...     ...            ...           ...   \n",
       "100%                  2.29526  Paris   75017  Île-de-France             2   \n",
       "NaN                   2.35271  Paris   75018  Île-de-France             4   \n",
       "100%                  2.34146  Paris   75006  Île-de-France             2   \n",
       "NaN                   2.33639  Paris   75009  Île-de-France             2   \n",
       "100%                  2.39946  Paris   75020  Île-de-France             6   \n",
       "\n",
       "                          room_type  bedrooms  bathrooms  beds    price  \\\n",
       "host_response_rate                                                        \n",
       "100%                Entire home/apt       0.0        1.0   0.0   $75.00   \n",
       "100%                Entire home/apt       0.0        1.0   1.0  $115.00   \n",
       "100%                Entire home/apt       2.0        1.0   2.0  $115.00   \n",
       "100%                Entire home/apt       1.0        1.0   1.0   $90.00   \n",
       "67%                 Entire home/apt       1.0        1.0   1.0   $75.00   \n",
       "...                             ...       ...        ...   ...      ...   \n",
       "100%                Entire home/apt       0.0        1.0   1.0   $55.00   \n",
       "NaN                 Entire home/apt       1.0        1.0   2.0   $60.00   \n",
       "100%                Entire home/apt       1.0        1.0   1.0   $60.00   \n",
       "NaN                 Entire home/apt       NaN        1.0   1.0   $58.00   \n",
       "100%                Entire home/apt       1.0        1.0   3.0   $40.00   \n",
       "\n",
       "                   cleaning_fee security_deposit  minimum_nights  \\\n",
       "host_response_rate                                                 \n",
       "100%                     $50.00            $0.00               3   \n",
       "100%                     $36.00            $0.00               1   \n",
       "100%                     $50.00          $200.00              10   \n",
       "100%                        NaN              NaN               3   \n",
       "67%                     $200.00        $1,500.00             180   \n",
       "...                         ...              ...             ...   \n",
       "100%                     $45.00          $400.00             150   \n",
       "NaN                      $20.00          $100.00               3   \n",
       "100%                     $30.00            $0.00               2   \n",
       "NaN                         NaN          $200.00               3   \n",
       "100%                     $35.00          $300.00               4   \n",
       "\n",
       "                    maximum_nights  number_of_reviews  \n",
       "host_response_rate                                     \n",
       "100%                            15                  8  \n",
       "100%                            90                173  \n",
       "100%                            23                243  \n",
       "100%                           365                  1  \n",
       "67%                            365                  0  \n",
       "...                            ...                ...  \n",
       "100%                          1125                  0  \n",
       "NaN                           1125                  4  \n",
       "100%                            10                 25  \n",
       "NaN                              9                 57  \n",
       "100%                          1125                 49  \n",
       "\n",
       "[8000 rows x 18 columns]"
      ]
     },
     "execution_count": 125,
     "metadata": {},
     "output_type": "execute_result"
    }
   ],
   "source": [
    "paris_listings.set_index(\"host_response_rate\")"
   ]
  },
  {
   "cell_type": "code",
   "execution_count": 126,
   "id": "42acf2da",
   "metadata": {},
   "outputs": [],
   "source": [
    "#paris_listings.head(4)"
   ]
  },
  {
   "cell_type": "code",
   "execution_count": 127,
   "id": "19fa5af1",
   "metadata": {},
   "outputs": [],
   "source": [
    "#paris_listings.info()"
   ]
  },
  {
   "cell_type": "code",
   "execution_count": 128,
   "id": "c935e76d",
   "metadata": {},
   "outputs": [
    {
     "data": {
      "text/plain": [
       "2"
      ]
     },
     "execution_count": 128,
     "metadata": {},
     "output_type": "execute_result"
    }
   ],
   "source": [
    "paris_listings.iloc[0]['accommodates']"
   ]
  },
  {
   "cell_type": "code",
   "execution_count": 129,
   "id": "5b2b9688",
   "metadata": {},
   "outputs": [
    {
     "name": "stdout",
     "output_type": "stream",
     "text": [
      "1\n"
     ]
    }
   ],
   "source": [
    "# Calcul de la distance euclidienne entre notre logement qui accueil 3 personnes et le 1er logement du dataFrame\n",
    "our_acc_value = 3\n",
    "first_living_space_value = paris_listings.iloc[0]['accommodates']\n",
    "first_distance = np.abs(first_living_space_value - our_acc_value)\n",
    "print(first_distance)\n"
   ]
  },
  {
   "cell_type": "code",
   "execution_count": 130,
   "id": "e61e9806",
   "metadata": {},
   "outputs": [
    {
     "name": "stdout",
     "output_type": "stream",
     "text": [
      "1     5665\n",
      "0      878\n",
      "2      726\n",
      "3      508\n",
      "4       88\n",
      "5       82\n",
      "6       18\n",
      "7       14\n",
      "9        8\n",
      "11       4\n",
      "8        4\n",
      "13       3\n",
      "10       2\n",
      "Name: distance, dtype: int64\n"
     ]
    }
   ],
   "source": [
    "# Maintenant on veut appliquer ce calcul de distance sur l'ensemble de la BDD\n",
    "paris_listings['distance'] = paris_listings['accommodates'].apply(lambda x: np.abs(x - our_acc_value))\n",
    "\n",
    "print(paris_listings['distance'].value_counts())"
   ]
  },
  {
   "cell_type": "code",
   "execution_count": 131,
   "id": "1a571f69",
   "metadata": {},
   "outputs": [],
   "source": [
    "# On a 5665 logement qui ont distance de 1 qui peuvent ausi accueilir 3 personnes comme le notre\n",
    "# 878 logements qui ont une distance de 0 qui peuvent ausi accueilir 3 personnes comme le notre\n",
    "#......."
   ]
  },
  {
   "cell_type": "code",
   "execution_count": 132,
   "id": "4e35cba6",
   "metadata": {},
   "outputs": [
    {
     "ename": "IndentationError",
     "evalue": "unexpected indent (1615989715.py, line 2)",
     "output_type": "error",
     "traceback": [
      "\u001b[1;36m  Input \u001b[1;32mIn [132]\u001b[1;36m\u001b[0m\n\u001b[1;33m    paris_listings[paris_listings['distance'] == 0]['accommodates']\u001b[0m\n\u001b[1;37m    ^\u001b[0m\n\u001b[1;31mIndentationError\u001b[0m\u001b[1;31m:\u001b[0m unexpected indent\n"
     ]
    }
   ],
   "source": [
    "# Trions notre datasset pour voir les logement qui ont une distance de 0\n",
    " paris_listings[paris_listings['distance'] == 0]['accommodates']"
   ]
  },
  {
   "cell_type": "code",
   "execution_count": 133,
   "id": "eb743c71",
   "metadata": {},
   "outputs": [],
   "source": [
    "# Ici on va prendre les K premiere pour estimer notre prix, cad, les même logement qui sont affichés au-dessus du BDD\n",
    "# aulieu de faire ça, on peut ramdomniser l'odre du datasset, et ensuite trier du dataframe sur la colonne 'distance'\n"
   ]
  },
  {
   "cell_type": "code",
   "execution_count": 134,
   "id": "9b1e471c",
   "metadata": {},
   "outputs": [
    {
     "data": {
      "text/plain": [
       "1956     $80.00\n",
       "3735     $67.00\n",
       "6944     $36.00\n",
       "2094    $120.00\n",
       "2968     $60.00\n",
       "845     $200.00\n",
       "6083     $95.00\n",
       "5970     $95.00\n",
       "2992     $76.00\n",
       "3179    $100.00\n",
       "Name: price, dtype: object"
      ]
     },
     "execution_count": 134,
     "metadata": {},
     "output_type": "execute_result"
    }
   ],
   "source": [
    "# Randomisation et triage\n",
    "np.random.seed(1)\n",
    "paris_listings = paris_listings.loc[np.random.permutation(len(paris_listings))] # on a ramdomnisé\n",
    "paris_listings = paris_listings.sort_values(\"distance\") # on a trié\n",
    "paris_listings.head(10)['price']"
   ]
  },
  {
   "cell_type": "code",
   "execution_count": 135,
   "id": "e064eaf2",
   "metadata": {},
   "outputs": [],
   "source": [
    "# Calcul du Prix Moyen\n",
    "#D'abord netoyons la colonne price en supprimont les $ et les points.\n",
    "# regarder s'il ya de valeurs manquantes\n"
   ]
  },
  {
   "cell_type": "code",
   "execution_count": 136,
   "id": "cc8368bd",
   "metadata": {},
   "outputs": [
    {
     "name": "stdout",
     "output_type": "stream",
     "text": [
      "Nombre de valeur manquantes dans la variable 'price' est :  0\n"
     ]
    }
   ],
   "source": [
    "print(\"Nombre de valeur manquantes dans la variable 'price' est : \", +  paris_listings[\"price\"].isna().sum())"
   ]
  },
  {
   "cell_type": "code",
   "execution_count": 137,
   "id": "12fdfcf7",
   "metadata": {},
   "outputs": [
    {
     "name": "stdout",
     "output_type": "stream",
     "text": [
      "prix de preduction de notre logement pouvant accueillir 3p basé sur d'autres logement est : 72.6\n"
     ]
    }
   ],
   "source": [
    "paris_listings[\"price\"]=paris_listings[\"price\"].apply(lambda x: x.replace(\",\", \"\"))\n",
    "paris_listings[\"price\"]=paris_listings[\"price\"].apply(lambda x: x.replace(\"$\", \"\"))\n",
    "paris_listings[\"price\"]=paris_listings[\"price\"].apply(lambda x: float(x))\n",
    "mean_price = paris_listings.iloc[0:5]['price'].mean()\n",
    "print(\"prix de preduction de notre logement pouvant accueillir 3p basé sur d'autres logement est :\", + mean_price)"
   ]
  },
  {
   "cell_type": "markdown",
   "id": "ba7053c7",
   "metadata": {},
   "source": [
    "*Exercice sur KNN: Utiliser une fonction générale de prédiction qui prédict le prix pour toute valeur du nombre de personnes que le logement peut accueillir. Cad, une fonction qui calcul le prix suggéré pour toute valeur du nombre de personnes que le logement peut accueillir*"
   ]
  },
  {
   "cell_type": "code",
   "execution_count": 138,
   "id": "a62ce9b3",
   "metadata": {},
   "outputs": [
    {
     "name": "stdout",
     "output_type": "stream",
     "text": [
      "69.6\n",
      "105.4\n",
      "104.6\n"
     ]
    }
   ],
   "source": [
    "import numpy as np\n",
    "import pandas as pd\n",
    "np.random.seed(1)\n",
    "\n",
    "paris_listings = pd.read_csv('paris_airbnb.csv')\n",
    "\n",
    "paris_listings[\"price\"]=paris_listings[\"price\"].apply(lambda x: x.replace(\",\", \"\"))\n",
    "paris_listings[\"price\"]=paris_listings[\"price\"].apply(lambda x: x.replace(\"$\", \"\"))\n",
    "paris_listings[\"price\"]=paris_listings[\"price\"].apply(lambda x: float(x))\n",
    "\n",
    "paris_listings = paris_listings.loc[np.random.permutation(len(paris_listings))]\n",
    "\n",
    "# new_listing c'est le nombre de personnes que peux accueillir le logement chez les autres qui est K\n",
    "# x represente la valeur de la variable \"accommodate\" le nombre de d'invités que peux accueillir le logement chez nous\n",
    "# temp_df['distance']: C'est la distance euclidienne qu'on a calculée pour le champ \"distance\"\n",
    "# nearest_neighbors: Réprésente les 5 première valeurs du prix de logement prédict\n",
    "\n",
    "def predict_price(new_listing): \n",
    "    temp_df = paris_listings.copy()\n",
    "    temp_df['distance'] = temp_df['accommodates'].apply(lambda x: np.abs(x - new_listing))\n",
    "    temp_df = temp_df.sort_values('distance')\n",
    "    nearest_neighbors = temp_df.iloc[0:5]['price']\n",
    "    predicted_price = nearest_neighbors.mean()\n",
    "    return(predicted_price)\n",
    "\n",
    "acc_one = predict_price(1)\n",
    "acc_two = predict_price(2)\n",
    "acc_four = predict_price(4)\n",
    "#acc_six = predict_price(6)\n",
    "\n",
    "print(acc_one)\n",
    "print(acc_two)\n",
    "print(acc_four)\n",
    "#print(acc_six)"
   ]
  },
  {
   "cell_type": "markdown",
   "id": "b9dc4176",
   "metadata": {},
   "source": [
    "#### Evaluation de la performance du modèle\n",
    "\n",
    "*Tester la qualité des prédictions*"
   ]
  },
  {
   "cell_type": "markdown",
   "id": "b629465a",
   "metadata": {},
   "source": [
    "Pour Tester la qualité des prédictions ou la performance du modèle, on va séparer le dataset en deux partitions:\n",
    "\n",
    "1 set de training qui va contenir 75% des lignes du dataset\n",
    "\n",
    "1 set de test: qui va contenir le reste des lignes du dataset soit les 25%\n",
    "\n",
    "En suite, utiliser les lignes du set de training pour prédire la valeur de prix pour les lignes du set de test en ajoutant \n",
    "une nouvelle colonne nommée 'predicted Price' au set de test.\n",
    "\n",
    "Enfin, comparer les valeurs de predicted_price avec les valeurs du prix actuel 'price' du set de test pour voir la\n",
    "précision de la prédiction."
   ]
  },
  {
   "cell_type": "code",
   "execution_count": 139,
   "id": "3f59254c",
   "metadata": {},
   "outputs": [
    {
     "data": {
      "text/plain": [
       "8000"
      ]
     },
     "execution_count": 139,
     "metadata": {},
     "output_type": "execute_result"
    }
   ],
   "source": [
    "len(paris_listings)"
   ]
  },
  {
   "cell_type": "markdown",
   "id": "a16a61ca",
   "metadata": {},
   "source": [
    "* 75% de 8000 = 6000 et le reste est 2000\n",
    "Nous allons diviser notre base de donnée en deux et prendre uniquement les 6000 lignes.\n",
    "Ensuite on va modifier le notre fonction de prédiction.*"
   ]
  },
  {
   "cell_type": "code",
   "execution_count": 146,
   "id": "9f2d16e7",
   "metadata": {
    "scrolled": true
   },
   "outputs": [
    {
     "name": "stdout",
     "output_type": "stream",
     "text": [
      "l'erreur absolue moyenne est de: 52.5621999999998\n",
      "l'erreur quadratique moyenne est de: 6724.726040000068\n"
     ]
    }
   ],
   "source": [
    "import numpy as np\n",
    "import pandas as pd\n",
    "pd.options.mode.chained_assignment = None\n",
    "np.random.seed(1)\n",
    "\n",
    "paris_listings = pd.read_csv('paris_airbnb.csv')\n",
    "\n",
    "paris_listings[\"price\"] = paris_listings[\"price\"].apply(lambda x: x.replace(\",\", \"\"))\n",
    "paris_listings[\"price\"] = paris_listings[\"price\"].apply(lambda x: x.replace(\"$\", \"\"))\n",
    "paris_listings[\"price\"] = paris_listings[\"price\"].apply(lambda x: float(x))\n",
    "paris_listings = paris_listings.loc[np.random.permutation(len(paris_listings))]\n",
    "\n",
    "# Division du dataset\n",
    "train_df = paris_listings.iloc[0:6000]\n",
    "test_df = paris_listings.iloc[6000:]\n",
    "\n",
    "def predict_price(new_listing): \n",
    "    temp_df = train_df.copy()\n",
    "    temp_df['distance'] = temp_df['accommodates'].apply(lambda x: np.abs(x - new_listing))\n",
    "    temp_df = temp_df.sort_values('distance')\n",
    "    nearest_neighbors = temp_df.iloc[0:5]['price']\n",
    "    predicted_price = nearest_neighbors.mean()\n",
    "    return(predicted_price)\n",
    "\n",
    "\n",
    "# Cette ligne de commande rajoute la nouvelle colonne 'predict_price' de dans le set test_df. Elle represente la validation\n",
    "# du train_test\n",
    "test_df[\"predicted_price\"] = test_df[\"accommodates\"].apply(lambda x: predict_price(x))\n",
    "\n",
    "# VOYONS LES METRIQUES D'ERREUR:\n",
    "\"\"\"\n",
    "La métrique d'erreur quantifie le manque de précision de nos prédictions par rapport aux valeurs réelles. Ici, la metrique \n",
    "d'erreur concerne les valeurs de prédiction du prix de location des logements du set de test avec les valeurs actuelles de\n",
    "prix. On va calculer la différence entre la valeur predicte et le prix actuel en utilisant la formule de MAE qui est \n",
    "Mean Absolytly Error = valeur absolue de |price1-predict_price1| + |price2-predict_price2| + ... + |pricen-predict_pricen|/n\n",
    "\n",
    "Un ecart metrique faible signifie que l'écart entre prix prédit et le prix actuel est faible \n",
    "Un ecart metrique élevé signifie et  l'écart entre prix prédit et le prix actuel est élevé\n",
    "\"\"\"\n",
    "\n",
    "# Pour Calculer MAE on peut utiliser la lib numpy.\n",
    "\n",
    "test_df['error'] = np.absolute(test_df['predicted_price'] - test_df['price'])\n",
    "mae = test_df['error'].mean()\n",
    "print(\"l'erreur absolue moyenne est de:\", + mae)\n",
    "\n",
    "\n",
    "# Pour aller plus loin,on peut utiliser l'erreur quadratique moyenne MSE (Mean Squared Error). Il faut elever au 2\n",
    "\n",
    "test_df['Squared Error'] = np.absolute(test_df['predicted_price'] - test_df['price'])**2\n",
    "mse = test_df['Squared Error'].mean()\n",
    "print(\"l'erreur quadratique moyenne est de:\", + mse)"
   ]
  },
  {
   "cell_type": "markdown",
   "id": "9d9213c3",
   "metadata": {},
   "source": [
    "#### Faisons la prédiction sur la variable bedroom cette fois-ci avec l'erreur quadratique moyenne MSE"
   ]
  },
  {
   "cell_type": "code",
   "execution_count": 147,
   "id": "4e423857",
   "metadata": {},
   "outputs": [
    {
     "name": "stdout",
     "output_type": "stream",
     "text": [
      "l'erreur absolue moyenne est de: 43.47410000000008\n",
      "l'erreur quadratique moyenne est de: 6281.181980000002\n"
     ]
    }
   ],
   "source": [
    "import numpy as np\n",
    "import pandas as pd\n",
    "pd.options.mode.chained_assignment = None\n",
    "np.random.seed(1)\n",
    "\n",
    "paris_listings = pd.read_csv('paris_airbnb.csv')\n",
    "\n",
    "paris_listings[\"price\"] = paris_listings[\"price\"].apply(lambda x: x.replace(\",\", \"\"))\n",
    "paris_listings[\"price\"] = paris_listings[\"price\"].apply(lambda x: x.replace(\"$\", \"\"))\n",
    "paris_listings[\"price\"] = paris_listings[\"price\"].apply(lambda x: float(x))\n",
    "paris_listings = paris_listings.loc[np.random.permutation(len(paris_listings))]\n",
    "\n",
    "# Division du dataset\n",
    "train_df = paris_listings.iloc[0:6000]\n",
    "test_df = paris_listings.iloc[6000:]\n",
    "\n",
    "def predict_price(new_listing): \n",
    "    temp_df = train_df.copy()\n",
    "    temp_df['distance'] = temp_df['bedrooms'].apply(lambda x: np.abs(x - new_listing))\n",
    "    temp_df = temp_df.sort_values('distance')\n",
    "    nearest_neighbors = temp_df.iloc[0:5]['price']\n",
    "    predicted_price = nearest_neighbors.mean()\n",
    "    return(predicted_price)\n",
    "\n",
    "\n",
    "# Cette ligne de commande rajoute la nouvelle colonne 'predict_price' de dans le set test_df. Elle represente la validation\n",
    "# du train_test\n",
    "test_df[\"predicted_price\"] = test_df[\"bedrooms\"].apply(lambda x: predict_price(x))\n",
    "\n",
    "# VOYONS LES METRIQUES D'ERREUR:\n",
    "\"\"\"\n",
    "La métrique d'erreur quantifie le manque de précision de nos prédictions par rapport aux valeurs réelles. Ici, la metrique \n",
    "d'erreur concerne les valeurs de prédiction du prix de location des logements du set de test avec les valeurs actuelles de\n",
    "prix. On va calculer la différence entre la valeur predicte et le prix actuel en utilisant la formule de MAE qui est \n",
    "Mean Absolytly Error = valeur absolue de |price1-predict_price1| + |price2-predict_price2| + ... + |pricen-predict_pricen|/n\n",
    "\n",
    "Un ecart metrique faible signifie que l'écart entre prix prédit et le prix actuel est faible \n",
    "Un ecart metrique élevé signifie et  l'écart entre prix prédit et le prix actuel est élevé\n",
    "\"\"\"\n",
    "\n",
    "# Pour Calculer MAE on peut utiliser la lib numpy.\n",
    "\n",
    "test_df['error'] = np.absolute(test_df['predicted_price'] - test_df['price'])\n",
    "mae = test_df['error'].mean()\n",
    "print(\"l'erreur absolue moyenne est de:\", + mae)\n",
    "\n",
    "\n",
    "# Pour aller plus loin,on peut utiliser l'erreur quadratique moyenne MSE (Mean Squared Error). Il faut elever au 2\n",
    "\n",
    "test_df['Squared Error'] = np.absolute(test_df['predicted_price'] - test_df['price'])**2\n",
    "mse = test_df['Squared Error'].mean()\n",
    "print(\"l'erreur quadratique moyenne est de:\", + mse)"
   ]
  },
  {
   "cell_type": "code",
   "execution_count": null,
   "id": "97e4ce0f",
   "metadata": {},
   "outputs": [],
   "source": [
    "# On voit que la moyenne sur ce modele quadratique du bedrooms est plus faible que celui d'accommodates. Donc on a un bon modele"
   ]
  },
  {
   "cell_type": "markdown",
   "id": "f01a230a",
   "metadata": {},
   "source": [
    "#### Racine Carrée de l'erreur quadratique moyenne (RMSE): \n",
    "\n",
    "##### RMSE = racine carrée de (MSE). RMSE nous aide à identifier le modele le plus performant sur une base relative. RMSE est une mesure d'erreur. Mais cela nous aide pas à savoir si la performance du modele est assez bonne de façon générale."
   ]
  },
  {
   "cell_type": "code",
   "execution_count": 148,
   "id": "03c1571f",
   "metadata": {
    "scrolled": true
   },
   "outputs": [
    {
     "name": "stdout",
     "output_type": "stream",
     "text": [
      "l'erreur absolue moyenne est de: 43.47410000000008\n",
      "la racine carrée de l'erreur quadratique moyenne est de: 79.25390829479643\n"
     ]
    }
   ],
   "source": [
    "import numpy as np\n",
    "import pandas as pd\n",
    "pd.options.mode.chained_assignment = None\n",
    "np.random.seed(1)\n",
    "\n",
    "paris_listings = pd.read_csv('paris_airbnb.csv')\n",
    "\n",
    "paris_listings[\"price\"] = paris_listings[\"price\"].apply(lambda x: x.replace(\",\", \"\"))\n",
    "paris_listings[\"price\"] = paris_listings[\"price\"].apply(lambda x: x.replace(\"$\", \"\"))\n",
    "paris_listings[\"price\"] = paris_listings[\"price\"].apply(lambda x: float(x))\n",
    "paris_listings = paris_listings.loc[np.random.permutation(len(paris_listings))]\n",
    "\n",
    "# Division du dataset\n",
    "train_df = paris_listings.iloc[0:6000]\n",
    "test_df = paris_listings.iloc[6000:]\n",
    "\n",
    "def predict_price(new_listing): \n",
    "    temp_df = train_df.copy()\n",
    "    temp_df['distance'] = temp_df['bedrooms'].apply(lambda x: np.abs(x - new_listing))\n",
    "    temp_df = temp_df.sort_values('distance')\n",
    "    nearest_neighbors = temp_df.iloc[0:5]['price']\n",
    "    predicted_price = nearest_neighbors.mean()\n",
    "    return(predicted_price)\n",
    "\n",
    "\n",
    "# Cette ligne de commande rajoute la nouvelle colonne 'predict_price' de dans le set test_df. Elle represente la validation\n",
    "# du train_test\n",
    "test_df[\"predicted_price\"] = test_df[\"bedrooms\"].apply(lambda x: predict_price(x))\n",
    "\n",
    "# VOYONS LES METRIQUES D'ERREUR:\n",
    "\"\"\"\n",
    "La métrique d'erreur quantifie le manque de précision de nos prédictions par rapport aux valeurs réelles. Ici, la metrique \n",
    "d'erreur concerne les valeurs de prédiction du prix de location des logements du set de test avec les valeurs actuelles de\n",
    "prix. On va calculer la différence entre la valeur predicte et le prix actuel en utilisant la formule de MAE qui est \n",
    "Mean Absolytly Error = valeur absolue de |price1-predict_price1| + |price2-predict_price2| + ... + |pricen-predict_pricen|/n\n",
    "\n",
    "Un ecart metrique faible signifie que l'écart entre prix prédit et le prix actuel est faible \n",
    "Un ecart metrique élevé signifie et  l'écart entre prix prédit et le prix actuel est élevé\n",
    "\"\"\"\n",
    "\n",
    "# Pour Calculer MAE on peut utiliser la lib numpy.\n",
    "\n",
    "test_df['error'] = np.absolute(test_df['predicted_price'] - test_df['price'])\n",
    "mae = test_df['error'].mean()\n",
    "print(\"l'erreur absolue moyenne est de:\", + mae)\n",
    "\n",
    "\n",
    "test_df['Squared Error'] = np.absolute(test_df['predicted_price'] - test_df['price'])**2\n",
    "mse = test_df['Squared Error'].mean()\n",
    "rmse = mse ** (1/2)\n",
    "print(\"la racine carrée de l'erreur quadratique moyenne est de:\", + rmse)"
   ]
  },
  {
   "cell_type": "code",
   "execution_count": null,
   "id": "1fc9b2e8",
   "metadata": {},
   "outputs": [],
   "source": [
    "# On a la Racine Carrée Quadratique Moyenne RMSE de 79.25 $. Ce qui signifie que avec ce modèle, on peut s'attendre à une \n",
    "# prédiction affichant une baisse de 79.25 $ en moyenne pour les valeurs des prix predites. L'objectif, cette de reduire \n",
    "# le prix de cet erreur autant que possible pour améliorer l'efficacité du modèle."
   ]
  },
  {
   "cell_type": "markdown",
   "id": "126ee713",
   "metadata": {},
   "source": [
    "#### Exemple de Coparaison des erreurs:"
   ]
  },
  {
   "cell_type": "code",
   "execution_count": 150,
   "id": "d7a5978c",
   "metadata": {},
   "outputs": [],
   "source": [
    "errors_one = pd.Series([5, 10, 5, 10, 5, 10, 5, 10, 5, 10, 5, 10, 5, 10, 5, 10, 5, 10])\n",
    "errors_two = pd.Series([5, 10, 5, 10, 5, 10, 5, 10, 5, 10, 5, 10, 5, 10, 5, 10, 5, 1000])"
   ]
  },
  {
   "cell_type": "code",
   "execution_count": 151,
   "id": "40c48cf4",
   "metadata": {},
   "outputs": [],
   "source": [
    "mae_one = errors_one.sum()/len(errors_one)\n",
    "rmse_one = np.sqrt((errors_one**2).sum()/len(errors_one))"
   ]
  },
  {
   "cell_type": "code",
   "execution_count": 152,
   "id": "97a435a7",
   "metadata": {},
   "outputs": [],
   "source": [
    "mae_two = errors_two.sum()/len(errors_two)\n",
    "rmse_two = np.sqrt((errors_two**2).sum()/len(errors_two))"
   ]
  },
  {
   "cell_type": "code",
   "execution_count": 153,
   "id": "beddb43b",
   "metadata": {},
   "outputs": [
    {
     "name": "stdout",
     "output_type": "stream",
     "text": [
      "7.5\n",
      "7.905694150420948\n"
     ]
    }
   ],
   "source": [
    "print(mae_one)\n",
    "print(rmse_one)"
   ]
  },
  {
   "cell_type": "code",
   "execution_count": 154,
   "id": "9257f94d",
   "metadata": {},
   "outputs": [
    {
     "name": "stdout",
     "output_type": "stream",
     "text": [
      "62.5\n",
      "235.82302686548658\n"
     ]
    }
   ],
   "source": [
    "print(mae_two)\n",
    "print(rmse_two)"
   ]
  },
  {
   "cell_type": "markdown",
   "id": "705ebafe",
   "metadata": {},
   "source": [
    "##### En conclusion: Plus souvent la valeur RMSE est < à la valeur MAE car nous prenons la racine carrée des erreurs au carrée.\n",
    "La seule différence entre ces deux ensemble d'erreurs c'est la présence d'une valeur extrême dans la base de donnée. C'est \n",
    "le cas ici, le 1000.\n",
    "\n",
    "L'erreur Moyenne Absolue MAE: et la racine carrée de L'erreur Quadratique Moyenne RMSE sont les deux mésures les plus courament utilisées pour mésurer la précision des variables continue.\n",
    "\n",
    "la racine carrée de L'erreur Quadratique Moyenne RMSE: A l'avantage de pénaliser davantage les grosses erruers, elles peuvent donc plus approprier dans cezrtains cas."
   ]
  },
  {
   "cell_type": "code",
   "execution_count": null,
   "id": "a50c7ec1",
   "metadata": {},
   "outputs": [],
   "source": []
  }
 ],
 "metadata": {
  "kernelspec": {
   "display_name": "Python 3 (ipykernel)",
   "language": "python",
   "name": "python3"
  },
  "language_info": {
   "codemirror_mode": {
    "name": "ipython",
    "version": 3
   },
   "file_extension": ".py",
   "mimetype": "text/x-python",
   "name": "python",
   "nbconvert_exporter": "python",
   "pygments_lexer": "ipython3",
   "version": "3.9.12"
  }
 },
 "nbformat": 4,
 "nbformat_minor": 5
}
