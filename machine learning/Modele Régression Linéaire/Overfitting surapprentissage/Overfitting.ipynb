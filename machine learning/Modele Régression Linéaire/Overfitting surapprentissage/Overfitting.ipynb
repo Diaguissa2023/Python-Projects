{
 "cells": [
  {
   "cell_type": "markdown",
   "metadata": {},
   "source": [
    "# Overfitting\n",
    "- Au coeur de la compréhension de l'Overfitting, on retrouve le biais et de la variance. Le bais et la variance consistes les deux sources d'erreurs que nous pouvons contrôler indirectement.\n",
    "\n",
    " - **Le biais**: décrit l'erreur qui entraine de mauvaises hypothèses sur l'algorithme d'apprentissage.\n",
    " - **La variance:** d'écrit l'erreur due à la variabilitré des valeurs prédites d'un modèle.\n",
    " \n",
    " Pour savoir si le modele est overfiting ou non, il faut:\n",
    " \n",
    " **Comlparer l'erreur d'apprentissage et l'erreur test.**\n",
    " \n",
    "  - si mse_test ou validation croisé test est > de l'erreur appenti il sagit de overfiting"
   ]
  },
  {
   "cell_type": "markdown",
   "metadata": {},
   "source": [
    "## Introduction aux données"
   ]
  },
  {
   "cell_type": "code",
   "execution_count": 2,
   "metadata": {},
   "outputs": [
    {
     "data": {
      "text/html": [
       "<div>\n",
       "<style scoped>\n",
       "    .dataframe tbody tr th:only-of-type {\n",
       "        vertical-align: middle;\n",
       "    }\n",
       "\n",
       "    .dataframe tbody tr th {\n",
       "        vertical-align: top;\n",
       "    }\n",
       "\n",
       "    .dataframe thead th {\n",
       "        text-align: right;\n",
       "    }\n",
       "</style>\n",
       "<table border=\"1\" class=\"dataframe\">\n",
       "  <thead>\n",
       "    <tr style=\"text-align: right;\">\n",
       "      <th></th>\n",
       "      <th>mpg</th>\n",
       "      <th>cylinders</th>\n",
       "      <th>displacement</th>\n",
       "      <th>horsepower</th>\n",
       "      <th>weight</th>\n",
       "      <th>acceleration</th>\n",
       "      <th>model year</th>\n",
       "      <th>origin</th>\n",
       "      <th>car name</th>\n",
       "    </tr>\n",
       "  </thead>\n",
       "  <tbody>\n",
       "    <tr>\n",
       "      <th>0</th>\n",
       "      <td>18.0</td>\n",
       "      <td>8</td>\n",
       "      <td>307.0</td>\n",
       "      <td>130.0</td>\n",
       "      <td>3504.0</td>\n",
       "      <td>12.0</td>\n",
       "      <td>70</td>\n",
       "      <td>1</td>\n",
       "      <td>chevrolet chevelle malibu</td>\n",
       "    </tr>\n",
       "    <tr>\n",
       "      <th>1</th>\n",
       "      <td>15.0</td>\n",
       "      <td>8</td>\n",
       "      <td>350.0</td>\n",
       "      <td>165.0</td>\n",
       "      <td>3693.0</td>\n",
       "      <td>11.5</td>\n",
       "      <td>70</td>\n",
       "      <td>1</td>\n",
       "      <td>buick skylark 320</td>\n",
       "    </tr>\n",
       "    <tr>\n",
       "      <th>2</th>\n",
       "      <td>18.0</td>\n",
       "      <td>8</td>\n",
       "      <td>318.0</td>\n",
       "      <td>150.0</td>\n",
       "      <td>3436.0</td>\n",
       "      <td>11.0</td>\n",
       "      <td>70</td>\n",
       "      <td>1</td>\n",
       "      <td>plymouth satellite</td>\n",
       "    </tr>\n",
       "    <tr>\n",
       "      <th>3</th>\n",
       "      <td>16.0</td>\n",
       "      <td>8</td>\n",
       "      <td>304.0</td>\n",
       "      <td>150.0</td>\n",
       "      <td>3433.0</td>\n",
       "      <td>12.0</td>\n",
       "      <td>70</td>\n",
       "      <td>1</td>\n",
       "      <td>amc rebel sst</td>\n",
       "    </tr>\n",
       "    <tr>\n",
       "      <th>4</th>\n",
       "      <td>17.0</td>\n",
       "      <td>8</td>\n",
       "      <td>302.0</td>\n",
       "      <td>140.0</td>\n",
       "      <td>3449.0</td>\n",
       "      <td>10.5</td>\n",
       "      <td>70</td>\n",
       "      <td>1</td>\n",
       "      <td>ford torino</td>\n",
       "    </tr>\n",
       "  </tbody>\n",
       "</table>\n",
       "</div>"
      ],
      "text/plain": [
       "    mpg  cylinders  displacement  horsepower  weight  acceleration  \\\n",
       "0  18.0          8         307.0       130.0  3504.0          12.0   \n",
       "1  15.0          8         350.0       165.0  3693.0          11.5   \n",
       "2  18.0          8         318.0       150.0  3436.0          11.0   \n",
       "3  16.0          8         304.0       150.0  3433.0          12.0   \n",
       "4  17.0          8         302.0       140.0  3449.0          10.5   \n",
       "\n",
       "   model year  origin                   car name  \n",
       "0          70       1  chevrolet chevelle malibu  \n",
       "1          70       1          buick skylark 320  \n",
       "2          70       1         plymouth satellite  \n",
       "3          70       1              amc rebel sst  \n",
       "4          70       1                ford torino  "
      ]
     },
     "execution_count": 2,
     "metadata": {},
     "output_type": "execute_result"
    }
   ],
   "source": [
    "import pandas as pd\n",
    "pd.options.mode.chained_assignment = None\n",
    "\n",
    "columns = ['mpg', 'cylinders', 'displacement', 'horsepower', 'weight', 'acceleration',\n",
    "           'model year', 'origin', 'car name']\n",
    "\n",
    "cars = pd.read_csv('auto-mpg.data', delim_whitespace=True, names=columns)\n",
    "\n",
    "# On va filtere la base en supprimant les ? et transformer les données en type float\n",
    "filtered_cars = cars[cars['horsepower'] != '?']\n",
    "filtered_cars['horsepower'] = filtered_cars['horsepower'].astype('float')\n",
    "\n",
    "filtered_cars.head()"
   ]
  },
  {
   "cell_type": "markdown",
   "metadata": {},
   "source": [
    "## Fonction pour entrainer le modèle et calculer biais et variance"
   ]
  },
  {
   "cell_type": "markdown",
   "metadata": {},
   "source": [
    "+ Créer une fonction nommée train_and_test qui:\n",
    " - Prend une liste de noms de colonnes de filtered_cars en seul paramètre (cols),\n",
    " - Entraine un modèle de régression linéaire en utilisant:\n",
    "   - Les colonnes cols en tant que caractéristiques,\n",
    "   - La colonne mpg en tant que colonne cible.\n",
    " - Utiliser le modèle entrainé pour faire des prédictions en utilisant les mêmes colonnes que pendant l'entrainement,\n",
    " - Calculer la variance des valeurs prédites et l'erreur quadratique moyenne entre les valeurs prédites et les valeurs réelles (colonne mpg).\n",
    " - Retourne la valeur d'erreur quadratique moyenne suivi de la variance (avec: return(mse, variance)).\n",
    "+ Utiliser la fonction train_and_test pour entrainer un modèle en utilisant uniquement la colonne cylinders. Assigner l'erreur quadratique moyenne résultante et la variance aux variables cyl_mse et cyl_var.\n",
    "+ Utiliser la fonction train_and_test pour entrainer un modèle utilisant uniquement la colonne weight. Assigner l'erreur quadratique moyenne et la variance aux variables weight_mse et weight_var.\n"
   ]
  },
  {
   "cell_type": "code",
   "execution_count": 3,
   "metadata": {},
   "outputs": [
    {
     "name": "stdout",
     "output_type": "stream",
     "text": [
      "24.02017956815553 36.74255887416017\n",
      "18.6766165974193 42.08612184489641\n"
     ]
    }
   ],
   "source": [
    "from sklearn.linear_model import LinearRegression\n",
    "from sklearn.metrics import mean_squared_error\n",
    "import numpy as np\n",
    "\n",
    "def train_and_test(cols):\n",
    "    # séparer en caractéristiques et colonne cible\n",
    "    features = filtered_cars[cols]\n",
    "    target = filtered_cars['mpg']\n",
    "    \n",
    "    # adapter le modèle à nos données d'entrainement avec la méthode fit\n",
    "    lr = LinearRegression()\n",
    "    lr.fit(features, target)\n",
    "    \n",
    "    # faire des prédictions sur le set de training\n",
    "    predictions = lr.predict(features)\n",
    "    \n",
    "    # calculer MSE et la variance\n",
    "    mse = mean_squared_error(filtered_cars['mpg'], predictions)\n",
    "    variance = np.var(predictions)\n",
    "    return(mse, variance)\n",
    "\n",
    "# On va tester notre modele sur la colonne cyl_mse et cyl_var\n",
    "cyl_mse, cyl_var = train_and_test(['cylinders'])\n",
    "weight_mse, weight_var = train_and_test(['weight'])\n",
    "\n",
    "print(cyl_mse, cyl_var)\n",
    "print(weight_mse, weight_var)"
   ]
  },
  {
   "cell_type": "markdown",
   "metadata": {},
   "source": [
    "## Modèles multivariés"
   ]
  },
  {
   "cell_type": "markdown",
   "metadata": {},
   "source": [
    "Utiliser la fonction train_and_test pour entrainer des modèles de régression linéaires en utilisant les colonnes suivantes en caractéristiques:\n",
    "+ colonnes: cylinders, displacement.\n",
    " - MSE: two_mse, variance: two_var.\n",
    "+ colonnes: cylinders, displacement, horsepower.\n",
    " - MSE: three_mse, variance: three_var.\n",
    "+ colonnes: cylinders, displacement, horsepower, weight.\n",
    " - MSE: four_mse, variance: four_var.\n",
    "+ colonnes: cylinders, displacement, horsepower, weight, acceleration.\n",
    " - MSE: five_mse, variance: five_var.\n",
    "+ colonnes: cylinders, displacement, horsepower, weight, acceleration, model year\n",
    " - MSE: six_mse, variance: six_var.\n",
    "+ colonnes: cylinders, displacement, horsepower, weight, acceleration, model year, origin\n",
    " - MSE: seven_mse, variance: seven_var.\n",
    "\n",
    "Afficher chaque valeur\n",
    " \n"
   ]
  },
  {
   "cell_type": "code",
   "execution_count": 13,
   "metadata": {},
   "outputs": [],
   "source": [
    "# Notre implémentation de train_test prend une liste de strings.\n",
    "def train_and_test(cols):\n",
    "\n",
    "    # Séparer en caractéristiques et colonne cible.\n",
    "    features = filtered_cars[cols]\n",
    "    target = filtered_cars[\"mpg\"]\n",
    "    \n",
    "    # Adapter le modèle\n",
    "    lr = LinearRegression()\n",
    "    lr.fit(features, target)\n",
    "    \n",
    "    # Faire des prédictions sur le set de training\n",
    "    predictions = lr.predict(features)\n",
    "    \n",
    "    # Calculer la valeur MSE et la variance\n",
    "    mse = mean_squared_error(filtered_cars[\"mpg\"], predictions)\n",
    "    variance = np.var(predictions)\n",
    "    return(mse, variance)"
   ]
  },
  {
   "cell_type": "code",
   "execution_count": 14,
   "metadata": {},
   "outputs": [
    {
     "name": "stdout",
     "output_type": "stream",
     "text": [
      "24.02017956815553 36.74255887416017\n",
      "21.282057055586364 39.480681386729316\n",
      "20.252954839714228 40.509783602601445\n",
      "17.763860571843846 42.99887787047185\n",
      "17.76139610540622 43.001342336909396\n",
      "11.590170981415227 49.172567460900346\n",
      "10.847480945000454 49.915257497315146\n"
     ]
    }
   ],
   "source": [
    "one_mse, one_var = train_and_test(['cylinders'])\n",
    "two_mse, two_var = train_and_test(['cylinders', 'displacement'])\n",
    "three_mse, three_var = train_and_test(['cylinders', 'displacement', 'horsepower'])\n",
    "four_mse, four_var = train_and_test(['cylinders', 'displacement', 'horsepower', 'weight'])\n",
    "five_mse, five_var = train_and_test(['cylinders', 'displacement', 'horsepower', 'weight',\n",
    "                                    'acceleration'])\n",
    "six_mse, six_var = train_and_test(['cylinders', 'displacement', 'horsepower', 'weight',\n",
    "                                  'acceleration', 'model year'])\n",
    "seven_mse, seven_var = train_and_test(['cylinders', 'displacement', 'horsepower', 'weight',\n",
    "                                      'acceleration', 'model year', 'origin'])\n",
    "\n",
    "print(one_mse, one_var)\n",
    "print(two_mse, two_var)\n",
    "print(three_mse, three_var)\n",
    "print(four_mse, four_var)\n",
    "print(five_mse, five_var)\n",
    "print(six_mse, six_var)\n",
    "print(seven_mse, seven_var)"
   ]
  },
  {
   "cell_type": "markdown",
   "metadata": {},
   "source": [
    "## Validation croisée"
   ]
  },
  {
   "cell_type": "markdown",
   "metadata": {},
   "source": [
    "Créer une fonction nommée train_and_cross_val qui:\n",
    "+ Prend un seul paramètre (liste des noms de colonne)\n",
    "+ Entraine un modèle de régression linéaire utilisant les caractéristiques spécifiées dans le paramètre\n",
    "+ Utilise la classe KFold pour effectuer une validation de 10-Fold en utilisant le random seed de 3 (pour voir le même résultat)\n",
    "+ Calcule l'erreur quadratique moyenne à travers tous les Folds et la variance moyenne à travers aussi tous les Folds\n",
    "+ Retourne l'erreur quadratique moyenne puis la variance en utilisant return(avg_mse, avg_var\n",
    "\n",
    "Utiliser la fonction train_and_cross_val pour entrainer des modèles de régression linéaire en utilisant les colonnes suivantes comme caractéristiques:\n",
    "+ Les colonnes cylinders et displacement. Assigner la valeur d'erreur quadratique moyenne à la variable two_mse et la valeur de varian ce résultante à la variable two_var.\n",
    "+ Les colonnes cylinders, displacement, et horsepower. Assigner les résultats à three_mse et three_var.\n",
    "+ Les colonnes cylinders, displacement, horsepower, et weight. Assigner les résultats à four_mse et four_var.\n",
    "+ Les colonnes cylinders, displacement, horsepower, weight, acceleration. Assigner les résultats à five_mse et à five_var.\n",
    "+ Les colonnes cylinders, displacement, horsepower, weight, acceleration, et model year. Assigner les résultats à six_mse et à six_var.\n",
    "+ Les colonnes cylinders, displacement, horsepower, weight, acceleration, model year, et origin. Assigner les résultats à seven_mse et à seven_var.\n",
    "\n",
    "Afficher chaque valeur pour les inspecter.\n"
   ]
  },
  {
   "cell_type": "code",
   "execution_count": 15,
   "metadata": {},
   "outputs": [
    {
     "name": "stdout",
     "output_type": "stream",
     "text": [
      "21.584370274954374 38.902525313756016\n",
      "20.655622193882955 40.091287956606934\n",
      "18.169683239081884 42.50764364364439\n",
      "18.283038517172052 42.59873630014678\n",
      "12.099685425467118 48.92824696771803\n",
      "11.418131971812054 49.90431373098729\n"
     ]
    }
   ],
   "source": [
    "from sklearn.model_selection import KFold\n",
    "\n",
    "def train_and_cross_val(cols):\n",
    "    features = filtered_cars[cols]\n",
    "    target = filtered_cars['mpg']\n",
    "    \n",
    "    variance_values = []\n",
    "    mse_values = []\n",
    "    \n",
    "    # instance KFold\n",
    "    kf = KFold(n_splits=10, shuffle=True, random_state=3)\n",
    "    \n",
    "    # itérer à travers chaque fold\n",
    "    for train_index, test_index in kf.split(filtered_cars):\n",
    "        \n",
    "        # sets de training et de tests\n",
    "        X_train, X_test = features.iloc[train_index], features.iloc[test_index]\n",
    "        y_train, y_test = target.iloc[train_index], target.iloc[test_index]\n",
    "        \n",
    "        # Adapter le modèle et faire des prédictions\n",
    "        lr = LinearRegression()\n",
    "        lr.fit(X_train, y_train)\n",
    "        predictions = lr.predict(X_test)\n",
    "        \n",
    "        # calculer les valeurs de MSE et de variance pour ce fold\n",
    "        mse = mean_squared_error(y_test, predictions)\n",
    "        var = np.var(predictions)\n",
    "        \n",
    "        # Ajouter aux listes pour calculer la moyenne globale des MSE et variances\n",
    "        variance_values.append(var)\n",
    "        mse_values.append(mse)\n",
    "        \n",
    "    # calculer la moyenne des valeurs MSE et variance\n",
    "    avg_mse = np.mean(mse_values)\n",
    "    avg_var = np.mean(variance_values)\n",
    "    \n",
    "    return(avg_mse, avg_var)\n",
    "\n",
    "two_mse, two_var = train_and_cross_val([\"cylinders\", \"displacement\"])\n",
    "three_mse, three_var = train_and_cross_val([\"cylinders\", \"displacement\", \"horsepower\"])\n",
    "four_mse, four_var = train_and_cross_val([\"cylinders\", \"displacement\", \"horsepower\", \"weight\"])\n",
    "five_mse, five_var = train_and_cross_val([\"cylinders\", \"displacement\", \"horsepower\", \"weight\", \"acceleration\"])\n",
    "six_mse, six_var = train_and_cross_val([\"cylinders\", \"displacement\", \"horsepower\", \"weight\", \"acceleration\", \"model year\"])\n",
    "seven_mse, seven_var = train_and_cross_val([\"cylinders\", \"displacement\", \"horsepower\", \"weight\", \"acceleration\",\"model year\", \"origin\"])\n",
    "\n",
    "print(two_mse, two_var)\n",
    "print(three_mse, three_var)\n",
    "print(four_mse, four_var)\n",
    "print(five_mse, five_var)\n",
    "print(six_mse, six_var)\n",
    "print(seven_mse, seven_var)"
   ]
  },
  {
   "cell_type": "markdown",
   "metadata": {},
   "source": [
    "## Graphique compromis erreur quadratique moyenne / variance"
   ]
  },
  {
   "cell_type": "markdown",
   "metadata": {},
   "source": [
    "+ Sur le même graphique:\n",
    " - Générer un graphique à nuage de points avec le nombre de caractéristiques du modèle sur l'axe x et l'erreur quadratique moyenne de la validation croisée du modèle sur l'axe y. Utiliser la couleur 'red' pour les points du graphique.\n",
    " - Générer un graphique à nuage de points avec le nombre de caractéristiques du modèle sur l'axe x et la variance globale du modèle lors de la validation croisée sur l'axe de y. Utiliser la couleur 'blue' pour les points du graphique.\n",
    "+ Utiliser plt.show() pour afficher le graphique.\n"
   ]
  },
  {
   "cell_type": "code",
   "execution_count": 17,
   "metadata": {},
   "outputs": [
    {
     "data": {
      "image/png": "[encoded data removed]",
      "text/plain": [
       "<Figure size 432x288 with 1 Axes>"
      ]
     },
     "metadata": {
      "needs_background": "light"
     },
     "output_type": "display_data"
    }
   ],
   "source": [
    "two_mse, two_var = train_and_cross_val([\"cylinders\", \"displacement\"])\n",
    "three_mse, three_var = train_and_cross_val([\"cylinders\", \"displacement\", \"horsepower\"])\n",
    "four_mse, four_var = train_and_cross_val([\"cylinders\", \"displacement\", \"horsepower\", \"weight\"])\n",
    "five_mse, five_var = train_and_cross_val([\"cylinders\", \"displacement\", \"horsepower\", \"weight\", \"acceleration\"])\n",
    "six_mse, six_var = train_and_cross_val([\"cylinders\", \"displacement\", \"horsepower\", \"weight\", \"acceleration\", \"model year\"])\n",
    "seven_mse, seven_var = train_and_cross_val([\"cylinders\", \"displacement\", \"horsepower\", \"weight\", \"acceleration\",\"model year\", \"origin\"])\n",
    "\n",
    "import matplotlib.pyplot as plt\n",
    "\n",
    "plt.scatter([2,3,4,5,6,7], [two_mse, three_mse, four_mse, five_mse, six_mse, seven_mse],\n",
    "           c='red')\n",
    "plt.scatter([2,3,4,5,6,7], [two_var, three_var, four_var, five_var, six_var, seven_var],\n",
    "           c='blue')\n",
    "plt.show()"
   ]
  }
 ],
 "metadata": {
  "kernelspec": {
   "display_name": "Python 3 (ipykernel)",
   "language": "python",
   "name": "python3"
  },
  "language_info": {
   "codemirror_mode": {
    "name": "ipython",
    "version": 3
   },
   "file_extension": ".py",
   "mimetype": "text/x-python",
   "name": "python",
   "nbconvert_exporter": "python",
   "pygments_lexer": "ipython3",
   "version": "3.9.12"
  }
 },
 "nbformat": 4,
 "nbformat_minor": 2
}
