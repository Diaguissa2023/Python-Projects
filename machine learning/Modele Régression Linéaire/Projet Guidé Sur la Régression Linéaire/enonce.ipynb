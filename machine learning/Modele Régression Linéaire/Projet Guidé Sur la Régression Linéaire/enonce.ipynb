{
 "cells": [
  {
   "cell_type": "markdown",
   "metadata": {},
   "source": [
    "# Projet guidé : Prédiction prix de vente de maisons"
   ]
  },
  {
   "cell_type": "markdown",
   "metadata": {},
   "source": [
    "## 1. Introduction"
   ]
  },
  {
   "cell_type": "markdown",
   "metadata": {},
   "source": [
    "<img src=\"img.png\" alt=\"drawing\" style=\"width:200px;\"/>\n",
    "\n",
    "prodédure:\n",
    "\n",
    "- Train\n",
    "- transform_features()\n",
    "- select_features()\n",
    "- train_and_test()\n",
    "- MSE_Values\n",
    "- moyenne_MSE\n"
   ]
  },
  {
   "cell_type": "markdown",
   "metadata": {},
   "source": [
    "Pistes à suivre:\n",
    "- Importer les bibliothèques pandas, matplotlib et numpy dans notre environnement. Importer aussi les classes dont vous avez besoin depuis scikit-learn.\n",
    "- Lire AmesHousing.tsv dans un dataframe pandas qu'on nommera data.\n",
    "- Pour les fonction suivantes, je vous recommande de les créer dans les premières cellules du notebook afin de pouvoir faire des expériences et les mettre à jour plus tard si besoin. \n",
    " + Créer une fonction qu'on peut nommer transform_features() qui, pour le moment, retourne seulement le dataframe train.\n",
    " + Créer une fonction qu'on nommera select_features() qui, pour le moment, retourne seulement les colonnes 'Gr Liv Area' et 'SalePrice' du dataframe train.\n",
    " + Créer une fonction nommée train_and_test() qui, pour le moment:\n",
    "  > - Sélectionne les 1460 premières lignes du dataframe data et les assigne à la variable train.\n",
    "    - Sélectionne les lignes restantes du dataframe data et les assigne à la variable test.\n",
    "    - Entraine un modèle en utilisant toutes les colonnes numériques à l'exception de la colonne 'SalePrice' (la colonne cible) du dataframe que retourne la fonction select_features().\n",
    "    - Fait une prédiction sur le set de test et calcule la valeur RMSE.  "
   ]
  },
  {
   "cell_type": "markdown",
   "metadata": {},
   "source": [
    "## 2. Traitement des caractéristiques"
   ]
  },
  {
   "cell_type": "markdown",
   "metadata": {},
   "source": [
    "Pistes à suivre:\n",
    "- Comme mentionné précédemment, je vous recommande d'ajouter des cellules pour explorer et expérimenter différentes caractéristiques (avant de ré-écrire ces fonctions).\n",
    "- La fonction transform_features() ne devrait pas modifier le DataFrame train mais en retourner un nouveau. De cette façon, nous pouvons continuer à utiliser train dans les cellules d'expérimentation.\n",
    "- Quelles colonnes contiennent moins de 5% de valeurs manquantes?\n",
    " + Pour les colonnes textuelles qui répondent à ce critère, supprimons toute colonne contenant au moins une valeur manquante.\n",
    " + Pour les colonnes numériques qui répondent à ce critère, remplissons les valeurs manquantes à l'aide de la valeur la plus fréquente de cette colonne.\n",
    "- Quelles nouvelles caractéristiques pouvons-nous créer pour mieux capturer les informations contenues dans certaines caractéristiques?\n",
    " + Un exemple serait la caractéristique 'years_until_remod' que nous avons créée dans la section précédente.\n",
    "- Quelles colonnes doivent être supprimées pour d'autres raisons?\n",
    " + Quelles colonnes ne sont pas utiles pour le Machine Learning?\n",
    " + Quelles colonnes contiennent des données sur la vente finale?"
   ]
  },
  {
   "cell_type": "markdown",
   "metadata": {},
   "source": [
    "## 3. Sélection des caractéristiques"
   ]
  },
  {
   "cell_type": "markdown",
   "metadata": {},
   "source": [
    "Pistes à suivre:\n",
    "- Générer une heatmap de la matrice de corrélation des caractéristiques numériques du dataset de training.\n",
    " + Quelles sont les caractéristiques en corrélation étroite avec notre colonne cible 'SalePrice'?\n",
    " + Calculer les coefficients de corrélation pour les colonnes qui semblent bien corréler avec 'SalePrice'. Parce que nous avons un pipeline en place, il est facile d'essayer différentes caractéristiques et de voir quelles caractéristiques génèrent un meilleur score de validation croisée.\n",
    "- Quelles colonnes du DataFrame doivent être converties en type de données catégorique? Toutes les colonnes marquées comme nominal dans la documentation sont candidates à être converties en type catégorie. Voici d'autres éléments auxquels vous devriez penser:\n",
    " + Si une colonne de type catégorie contient des centaines de valeurs uniques (ou catégories), devriez-vous la conserver? Si vous créez des colonnes factices avec les différentes catégories, des centaines de colonnes devront être rajoutées dans le DataFrame.\n",
    " + Quelles colonnes catégoriques ont quelques valeurs uniques mais plus de 95% de valeurs de la colonne appartiennent à une catégorie spécifique? Cela serait similaire à une caractéristique numérique à faible variance (aucune variabilité dans les données que le modèle doit capturer).\n",
    "- Quelles colonnes sont actuellement numériques mais doivent plutôt être codées en tant que catégories (car les nombres n'ont aucune signification sémantique)?\n",
    "- Comment pouvons-nous explorer quelles colonnes qualitatives corrèlent bien avec 'SalePrice'?\n",
    "- Mettre à jour la fonction select_features(). Cette fonction devrait inclure les nouveaux DataFrames train et test qui ont été retournés par transform_features()."
   ]
  },
  {
   "cell_type": "markdown",
   "metadata": {},
   "source": [
    "## 4. Entrainement et test"
   ]
  },
  {
   "cell_type": "markdown",
   "metadata": {},
   "source": [
    "Pistes à suivre:\n",
    "- Reprise de la fonction train_and_test() pour différentes validations croisées\n",
    "- Le paramètre optionnel k doit accepter des valeurs entières avec une valeur par défaut de 0.\n",
    "- lorsque k est égal 0, effectuer la validation simple (ce que nous avons déjà implémenté):\n",
    " + Sélectionner les 1460 premières lignes et les assigner à train.\n",
    " + Sélectionner les lignes restantes et les assigner à test.\n",
    " + Entrainer sur train et tester sur test.\n",
    " + Calculer la valeur RMSE et la retourner.\n",
    "- Lorsque k est égal 1, effectuer une validation holdout:\n",
    " + Mélanger l'ordre des lignes dans le DataFrame.\n",
    " + Sélectionner les 1460 lignes et les assigner à fold_one.\n",
    " + Sélectionner les lignes restantes et les assigner à fold_two.\n",
    " + Entrainer sur fold_one et tester sur fold_two.\n",
    " + Entrainer sur fold_two et tester sur fold_one.\n",
    " + Calculer la moyenne RMSE et retourner la.\n",
    "- Lorsque k est supérieur à 1, implémenter la validation croisée des k-fold en utilisant k folds:\n",
    " + Effectuer une validation croisée des k folds.\n",
    " + Calculer la moyenne RMSE et retourner cette valeur.\n",
    "- Faire tourner l'algorithme sur plusieurs k de 0 à 100 par exemple et suivre l'évolution de l'erreur en fonction de k."
   ]
  }
 ],
 "metadata": {
  "kernelspec": {
   "display_name": "Python 3 (ipykernel)",
   "language": "python",
   "name": "python3"
  },
  "language_info": {
   "codemirror_mode": {
    "name": "ipython",
    "version": 3
   },
   "file_extension": ".py",
   "mimetype": "text/x-python",
   "name": "python",
   "nbconvert_exporter": "python",
   "pygments_lexer": "ipython3",
   "version": "3.9.12"
  }
 },
 "nbformat": 4,
 "nbformat_minor": 2
}
