{
 "cells": [
  {
   "cell_type": "markdown",
   "metadata": {},
   "source": [
    "# Régression logistique"
   ]
  },
  {
   "cell_type": "markdown",
   "metadata": {},
   "source": [
    "## Introduction aux données"
   ]
  },
  {
   "cell_type": "markdown",
   "metadata": {},
   "source": [
    "+ Lire le fichier 'admissions.csv' dans un DataFrame nommé admissions.\n",
    "+ Utiliser la méthode scatter de la bibliothèque Matplotlib pour générer un graphique à nuage de points avec:\n",
    " - La colonne gpa sur l'axe x.\n",
    " - La colonne admit sur l'axe y.\n",
    "+ Utiliser plt.show() pour afficher le graphique.\n"
   ]
  },
  {
   "cell_type": "code",
   "execution_count": 1,
   "metadata": {},
   "outputs": [
    {
     "data": {
      "image/png": "[encoded data removed]",
      "text/plain": [
       "<Figure size 432x288 with 1 Axes>"
      ]
     },
     "metadata": {
      "needs_background": "light"
     },
     "output_type": "display_data"
    }
   ],
   "source": [
    "import pandas as pd\n",
    "import matplotlib.pyplot as plt\n",
    "\n",
    "admissions = pd.read_csv('admissions.csv')\n",
    "\n",
    "plt.scatter(admissions['gpa'], admissions['admit'])\n",
    "plt.show()"
   ]
  },
  {
   "cell_type": "markdown",
   "metadata": {},
   "source": [
    "## Entrainer un modèle de régression logistique"
   ]
  },
  {
   "cell_type": "markdown",
   "metadata": {},
   "source": [
    "+ Importer la classe LogisticRegression et instancier un modèle qu'on nomme logistic_model. En paramètre: solver='liblinear' qui est performant pour de petits datasets.\n",
    "+ Utiliser la méthode fit sur le modèle instancié de la classe LogisticRegression pour adapter le modèle aux données. Nous nous intéressons seulement à construire un modèle qui utilise les valeurs gpa pour prédire les valeurs admit.\n",
    "+ Voir la documentation de la classe LogisticRegression si besoin."
   ]
  },
  {
   "cell_type": "code",
   "execution_count": 5,
   "metadata": {},
   "outputs": [],
   "source": [
    "# admission[['gpa']], admissions['admit']"
   ]
  },
  {
   "cell_type": "code",
   "execution_count": 6,
   "metadata": {},
   "outputs": [
    {
     "data": {
      "text/plain": [
       "LogisticRegression(C=1.0, class_weight=None, dual=False, fit_intercept=True,\n",
       "                   intercept_scaling=1, l1_ratio=None, max_iter=100,\n",
       "                   multi_class='warn', n_jobs=None, penalty='l2',\n",
       "                   random_state=None, solver='liblinear', tol=0.0001, verbose=0,\n",
       "                   warm_start=False)"
      ]
     },
     "execution_count": 6,
     "metadata": {},
     "output_type": "execute_result"
    }
   ],
   "source": [
    "from sklearn.linear_model import LogisticRegression\n",
    "logistic_model = LogisticRegression(solver='liblinear')\n",
    "logistic_model.fit(admissions[['gpa']], admissions['admit'])"
   ]
  },
  {
   "cell_type": "markdown",
   "metadata": {},
   "source": [
    "## Tracer les probabilités"
   ]
  },
  {
   "cell_type": "markdown",
   "metadata": {},
   "source": [
    "+ Utiliser la méthode  predict_proba sur le modèle instancié de la classe LogisticRegression pour retourner la prédiction des probabilités pour les données de la colonne 'gpa'. Assigner les probabilités retournées à la variable pred_probs.\n",
    "+ Créer et afficher un graphique à nuage de points en utilisant la fonction scatter de Matplotlib où:\n",
    " - L'axe x représente les valeurs de la colonne 'gpa',\n",
    " - L'axe y représente la probabilité d'être classifié label 1.\n"
   ]
  },
  {
   "cell_type": "code",
   "execution_count": 7,
   "metadata": {},
   "outputs": [
    {
     "data": {
      "text/plain": [
       "<matplotlib.collections.PathCollection at 0x1a19911cc0>"
      ]
     },
     "execution_count": 7,
     "metadata": {},
     "output_type": "execute_result"
    },
    {
     "data": {
      "image/png": "[encoded data removed]",
      "text/plain": [
       "<Figure size 432x288 with 1 Axes>"
      ]
     },
     "metadata": {
      "needs_background": "light"
     },
     "output_type": "display_data"
    }
   ],
   "source": [
    "logistic_model = LogisticRegression(solver='liblinear')\n",
    "logistic_model.fit(admissions[['gpa']], admissions['admit'])\n",
    "\n",
    "pred_probs = logistic_model.predict_proba(admissions[['gpa']])\n",
    "plt.scatter(admissions['gpa'], pred_probs[:,1])"
   ]
  },
  {
   "cell_type": "markdown",
   "metadata": {},
   "source": [
    "## Prédiction des libellés"
   ]
  },
  {
   "cell_type": "markdown",
   "metadata": {},
   "source": [
    "+ Utiliser la méthode predict() pour retourner la prédiction pour chaque label du set de training.\n",
    " - Le paramètre de la méthode predict() correspond à celui de la méthode predict_proba\n",
    " - Assigner le résultat à la variable fitted_labels.\n",
    "+ Afficher les 10 premières valeurs de fitted_labels.\n",
    "+ Tracer le graphique de la régression logistique."
   ]
  },
  {
   "cell_type": "code",
   "execution_count": 20,
   "metadata": {},
   "outputs": [],
   "source": [
    "logistic_model = LogisticRegression(solver='liblinear')\n",
    "logistic_model.fit(admissions[['gpa']], admissions['admit'])\n",
    "\n",
    "fitted_labels = logistic_model.predict(admissions[['gpa']])"
   ]
  },
  {
   "cell_type": "code",
   "execution_count": 21,
   "metadata": {},
   "outputs": [
    {
     "data": {
      "text/plain": [
       "array([0, 0, 0, 0, 0, 0, 0, 0, 0, 1])"
      ]
     },
     "execution_count": 21,
     "metadata": {},
     "output_type": "execute_result"
    }
   ],
   "source": [
    "fitted_labels[:10]"
   ]
  },
  {
   "cell_type": "code",
   "execution_count": 22,
   "metadata": {},
   "outputs": [
    {
     "data": {
      "text/plain": [
       "<matplotlib.collections.PathCollection at 0x1a19aa50f0>"
      ]
     },
     "execution_count": 22,
     "metadata": {},
     "output_type": "execute_result"
    },
    {
     "data": {
      "image/png": "[encoded data removed]",
      "text/plain": [
       "<Figure size 432x288 with 1 Axes>"
      ]
     },
     "metadata": {
      "needs_background": "light"
     },
     "output_type": "display_data"
    }
   ],
   "source": [
    "plt.scatter(admissions['gpa'], fitted_labels)"
   ]
  }
 ],
 "metadata": {
  "kernelspec": {
   "display_name": "Python 3 (ipykernel)",
   "language": "python",
   "name": "python3"
  },
  "language_info": {
   "codemirror_mode": {
    "name": "ipython",
    "version": 3
   },
   "file_extension": ".py",
   "mimetype": "text/x-python",
   "name": "python",
   "nbconvert_exporter": "python",
   "pygments_lexer": "ipython3",
   "version": "3.9.12"
  }
 },
 "nbformat": 4,
 "nbformat_minor": 2
}
