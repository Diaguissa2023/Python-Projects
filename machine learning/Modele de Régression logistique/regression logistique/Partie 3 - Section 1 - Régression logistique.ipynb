{
 "cells": [
  {
   "cell_type": "markdown",
   "metadata": {},
   "source": [
    "# Régression logistique"
   ]
  },
  {
   "cell_type": "markdown",
   "metadata": {},
   "source": [
    "## Introduction aux données"
   ]
  },
  {
   "cell_type": "markdown",
   "metadata": {},
   "source": [
    "+ Lire le fichier 'admissions.csv' dans un DataFrame nommé admissions.\n",
    "+ Utiliser la méthode scatter de la bibliothèque Matplotlib pour générer un graphique à nuage de points avec:\n",
    " - La colonne gpa sur l'axe x.\n",
    " - La colonne admit sur l'axe y.\n",
    "+ Utiliser plt.show() pour afficher le graphique.\n"
   ]
  },
  {
   "cell_type": "code",
   "execution_count": 1,
   "metadata": {
    "scrolled": true
   },
   "outputs": [
    {
     "data": {
      "image/png": "[encoded data removed]",
      "text/plain": [
       "<Figure size 432x288 with 1 Axes>"
      ]
     },
     "metadata": {
      "needs_background": "light"
     },
     "output_type": "display_data"
    }
   ],
   "source": [
    "import pandas as pd\n",
    "import matplotlib.pyplot as plt\n",
    "\n",
    "admissions = pd.read_csv('admissions.csv')\n",
    "\n",
    "plt.scatter(admissions['gpa'], admissions['admit'])\n",
    "plt.show()"
   ]
  },
  {
   "cell_type": "code",
   "execution_count": 2,
   "metadata": {
    "collapsed": true
   },
   "outputs": [
    {
     "data": {
      "image/png": "[encoded data removed]",
      "text/plain": [
       "<Figure size 432x288 with 1 Axes>"
      ]
     },
     "metadata": {
      "needs_background": "light"
     },
     "output_type": "display_data"
    }
   ],
   "source": [
    "plt.scatter(admissions['gre'], admissions['admit'])\n",
    "plt.show()"
   ]
  },
  {
   "cell_type": "markdown",
   "metadata": {},
   "source": [
    "## Régression logistique:\n",
    "\n",
    "- Entrainer un modèle de régression logistique\n",
    "un modèle de regression linéaire génère un nombre réel en tant que resultat\n",
    "Un modele de regression logistique génère une valeur de probabilité. Dans la classification binaire, si la valeur de la prob est > à la valeur de la prob du seuil donnée, nous affecton du libéllé 1 ou 0.\n",
    "\n",
    "**La fonction logistique est compoqé de 2 parties:**\n",
    "- **1er partie:** consite la transformation de l'exponentielle de toutes les valeurs en valeur positives. **FL = expot/1+expot**\n",
    "- **Et une 2eme partie:** qui est la transformation de normalisation, qui transforme toutes les valeurs entre 0 et 1. **f(x) = x/(x+1)**"
   ]
  },
  {
   "cell_type": "markdown",
   "metadata": {},
   "source": [
    "- Définir la fonction logistique en utilisant Numpy exp()\n",
    "- Générer des valeurs équidistantes omprises entre -6 et 6 pour réprésenter l'axe x,\n",
    "- Calculer les valeurs de l'axe y en introduisant chaque valeur de x de la foncrion logistique \n",
    "- Créer ettracer linéaire pour visualiser x et y.\n",
    "Le tracé générer montrera que ls valeurs de l'axe y sont comprises entre 0 et 1\n"
   ]
  },
  {
   "cell_type": "code",
   "execution_count": 8,
   "metadata": {
    "scrolled": true
   },
   "outputs": [
    {
     "data": {
      "image/png": "[encoded data removed]",
      "text/plain": [
       "<Figure size 432x288 with 1 Axes>"
      ]
     },
     "metadata": {
      "needs_background": "light"
     },
     "output_type": "display_data"
    }
   ],
   "source": [
    "import pandas as pd\n",
    "import matplotlib.pyplot as plt\n",
    "import numpy as np\n",
    "\n",
    "# fonction, logistique\n",
    "def logistic(x):\n",
    "    # np.exp() calcul l'exponentiel\n",
    "    return np.exp(x) / (1 + np.exp(x))\n",
    "# Génère 50 valeurs réelles, espacés régulièrement entre -6 et 6\n",
    "x = np.linspace(-6,6,50, dtype=float)\n",
    "# Transformer chaque nombre en utilisant la fonction logistique\n",
    "y = logistic(x)\n",
    "#tracer linéaire pour visualiser les données résultantesabs\n",
    "plt.plot(x,y)\n",
    "plt.ylabel('Probabilité')\n",
    "plt.xlabel('Valeur comprises entre -6 et 6')\n",
    "plt.show()\n",
    "# Affichons notre courbe logistique"
   ]
  },
  {
   "cell_type": "markdown",
   "metadata": {},
   "source": [
    "## Entrainement d'un modèle de régression logistique:\n",
    "- **Modele univarié**"
   ]
  },
  {
   "cell_type": "markdown",
   "metadata": {},
   "source": [
    "+ Importer la classe LogisticRegression et instancier un modèle qu'on nomme logistic_model. En paramètre: solver='liblinear' qui est performant pour de petits datasets.\n",
    "+ Utiliser la méthode fit sur le modèle instancié de la classe LogisticRegression pour adapter le modèle aux données. Nous nous intéressons seulement à construire un modèle qui utilise les valeurs gpa pour prédire les valeurs admit.\n",
    "+ Voir la documentation de la classe LogisticRegression si besoin."
   ]
  },
  {
   "cell_type": "code",
   "execution_count": 5,
   "metadata": {},
   "outputs": [],
   "source": [
    "# admission[['gpa']], admissions['admit']"
   ]
  },
  {
   "cell_type": "code",
   "execution_count": 9,
   "metadata": {},
   "outputs": [
    {
     "data": {
      "text/plain": [
       "LogisticRegression(solver='liblinear')"
      ]
     },
     "execution_count": 9,
     "metadata": {},
     "output_type": "execute_result"
    }
   ],
   "source": [
    "# Importation de la bibliothèque de le régréssion logistique\n",
    "from sklearn.linear_model import LogisticRegression\n",
    "logistic_model = LogisticRegression(solver='liblinear')\n",
    "# On applique sur le modèle instancié\n",
    "logistic_model.fit(admissions[['gpa']], admissions['admit'])"
   ]
  },
  {
   "cell_type": "markdown",
   "metadata": {},
   "source": [
    "**Calcul des probabilités**"
   ]
  },
  {
   "cell_type": "code",
   "execution_count": 11,
   "metadata": {},
   "outputs": [],
   "source": [
    "probabilities = logistic_model.predict_proba(admissions[['gpa']])"
   ]
  },
  {
   "cell_type": "code",
   "execution_count": 12,
   "metadata": {
    "collapsed": true
   },
   "outputs": [
    {
     "data": {
      "text/plain": [
       "array([0.63387918, 0.57129471, 0.74047131, 0.6552046 , 0.64295478,\n",
       "       0.51993575, 0.61781528, 0.56924489, 0.53009251, 0.43376604,\n",
       "       0.61113195, 0.5993668 , 0.67370687, 0.64042045, 0.60216494,\n",
       "       0.75635934, 0.64964553, 0.65226363, 0.62477329, 0.67572474,\n",
       "       0.54160167, 0.70034173, 0.67466617, 0.57463811, 0.71394552,\n",
       "       0.56292337, 0.61686642, 0.64794769, 0.76264471, 0.72861704,\n",
       "       0.74533418, 0.68858678, 0.57380708, 0.58714177, 0.72644334,\n",
       "       0.5765577 , 0.53859325, 0.50300734, 0.5983874 , 0.69235465,\n",
       "       0.62852679, 0.65840458, 0.59699952, 0.53045395, 0.66847837,\n",
       "       0.65511201, 0.65646456, 0.71792154, 0.6266085 , 0.74741994,\n",
       "       0.63342755, 0.61989885, 0.7384228 , 0.69518016, 0.5527905 ,\n",
       "       0.50058973, 0.7193335 , 0.56543948, 0.66921194, 0.68958521,\n",
       "       0.55528293, 0.66607396, 0.7469013 , 0.55950037, 0.48021428,\n",
       "       0.55237597, 0.67159602, 0.722176  , 0.53565156, 0.68755193,\n",
       "       0.53616959, 0.49428282, 0.64940123, 0.73449493, 0.47806146,\n",
       "       0.58173193, 0.66016182, 0.48154289, 0.6186681 , 0.72381032,\n",
       "       0.60747118, 0.71821311, 0.61995839, 0.56135685, 0.74675459,\n",
       "       0.59178181, 0.71971142, 0.66360121, 0.61087448, 0.66933946,\n",
       "       0.54773581, 0.54202027, 0.73101767, 0.59894975, 0.60017659,\n",
       "       0.65478294, 0.63605083, 0.51138645, 0.59364755, 0.69819739,\n",
       "       0.61897162, 0.84039545, 0.57319005, 0.49428954, 0.65301352,\n",
       "       0.72603276, 0.55679162, 0.61971609, 0.58990913, 0.60543967,\n",
       "       0.69902122, 0.67551065, 0.58995377, 0.60236317, 0.68104653,\n",
       "       0.59162891, 0.62270819, 0.62287108, 0.60799256, 0.60608353,\n",
       "       0.72774805, 0.72498388, 0.65734865, 0.64875953, 0.57861163,\n",
       "       0.64782289, 0.56631675, 0.68435449, 0.55641348, 0.56262307,\n",
       "       0.68598837, 0.70092213, 0.67390865, 0.55442392, 0.70156241,\n",
       "       0.67360624, 0.64435981, 0.60586588, 0.46727796, 0.64755167,\n",
       "       0.61478482, 0.63562254, 0.54807415, 0.55132271, 0.74896791,\n",
       "       0.72372486, 0.56244365, 0.65783654, 0.67827654, 0.7082934 ,\n",
       "       0.66397547, 0.6655578 , 0.71678087, 0.67224048, 0.70963758,\n",
       "       0.66827279, 0.55094061, 0.64202856, 0.66141696, 0.54902404,\n",
       "       0.58001757, 0.62325411, 0.54915872, 0.5586848 , 0.56418429,\n",
       "       0.59612422, 0.49496002, 0.69657187, 0.6996097 , 0.59903214,\n",
       "       0.65590698, 0.59330866, 0.62610256, 0.69455467, 0.64833456,\n",
       "       0.61068718, 0.59158314, 0.65903985, 0.66013538, 0.66730297,\n",
       "       0.6781149 , 0.59273808, 0.64747338, 0.590808  , 0.5893971 ,\n",
       "       0.65735961, 0.5110853 , 0.69529439, 0.6202528 , 0.55542411,\n",
       "       0.67626565, 0.51856243, 0.62202179, 0.76382941, 0.63925815,\n",
       "       0.62041556, 0.66160744, 0.51120106, 0.66148648, 0.68574248,\n",
       "       0.66467809, 0.51427184, 0.60988707, 0.56929752, 0.60751248,\n",
       "       0.69652683, 0.7485258 , 0.6846151 , 0.48253503, 0.75464931,\n",
       "       0.68674647, 0.71250372, 0.68461929, 0.62730226, 0.61549589,\n",
       "       0.61251007, 0.76182857, 0.62000493, 0.66634333, 0.61424522,\n",
       "       0.64480771, 0.4919318 , 0.59897941, 0.58438581, 0.49072317,\n",
       "       0.71481719, 0.47317054, 0.72393943, 0.73310761, 0.56950186,\n",
       "       0.64859224, 0.64801141, 0.69226656, 0.61327524, 0.70556255,\n",
       "       0.69179255, 0.59914195, 0.6182404 , 0.49960768, 0.60722648,\n",
       "       0.64490554, 0.62678504, 0.75243411, 0.56994325, 0.55897408,\n",
       "       0.6665723 , 0.43785894, 0.64078768, 0.67993607, 0.55642025,\n",
       "       0.5492583 , 0.63980034, 0.65655033, 0.61538178, 0.65151215,\n",
       "       0.64810222, 0.75185599, 0.62954215, 0.67323062, 0.66083206,\n",
       "       0.57091867, 0.61052044, 0.61954262, 0.65265087, 0.64082152,\n",
       "       0.56605928, 0.72871233, 0.59565021, 0.63729107, 0.7115206 ,\n",
       "       0.6683441 , 0.64301972, 0.54857365, 0.5545591 , 0.62096603,\n",
       "       0.61011264, 0.62337683, 0.62766433, 0.53622685, 0.65713659,\n",
       "       0.53778343, 0.66510805, 0.66504558, 0.69464249, 0.64763554,\n",
       "       0.65097446, 0.74388679, 0.63331878, 0.70391248, 0.80108882,\n",
       "       0.68122719, 0.63223268, 0.60322276, 0.69491457, 0.63655722,\n",
       "       0.72060484, 0.55087026, 0.64790338, 0.59735109, 0.74806375,\n",
       "       0.56693741, 0.6840981 , 0.63940803, 0.60324647, 0.65960184,\n",
       "       0.58401393, 0.57815576, 0.73071368, 0.63545214, 0.59924759,\n",
       "       0.48680738, 0.6997826 , 0.61670753, 0.78910009, 0.74161544,\n",
       "       0.54421118, 0.67927148, 0.61494389, 0.63851938, 0.68513403,\n",
       "       0.67538877, 0.61100171, 0.59124676, 0.61892759, 0.6484255 ,\n",
       "       0.5363657 , 0.6307655 , 0.72050664, 0.66052824, 0.63645879,\n",
       "       0.68500187, 0.6807644 , 0.60495882, 0.57400413, 0.6901283 ,\n",
       "       0.60793957, 0.63551524, 0.66731468, 0.67928635, 0.59720703,\n",
       "       0.61227367, 0.51618586, 0.5234524 , 0.60858375, 0.67046353,\n",
       "       0.56951697, 0.66284983, 0.64971469, 0.59735745, 0.62737875,\n",
       "       0.69251479, 0.53891451, 0.64674717, 0.64387242, 0.72053399,\n",
       "       0.73586161, 0.56752944, 0.65172357, 0.74257929, 0.65572156,\n",
       "       0.63209393, 0.66783909, 0.71405341, 0.65550798, 0.58859948,\n",
       "       0.67810088, 0.64468002, 0.60628322, 0.65253211, 0.6037377 ,\n",
       "       0.61335235, 0.7364233 , 0.7846168 , 0.67033785, 0.5848182 ,\n",
       "       0.59549096, 0.69983224, 0.65602799, 0.67586801, 0.62469775,\n",
       "       0.70328425, 0.62736151, 0.61357956, 0.55756499, 0.64311151,\n",
       "       0.6966999 , 0.71048508, 0.5958165 , 0.61721549, 0.68636433,\n",
       "       0.58313427, 0.60747849, 0.60659101, 0.78807609, 0.64914219,\n",
       "       0.5362456 , 0.52049928, 0.6029863 , 0.59368289, 0.7017417 ,\n",
       "       0.57082611, 0.50503729, 0.66839189, 0.70157175, 0.59961843,\n",
       "       0.63827322, 0.6654614 , 0.57485196, 0.63331952, 0.41805575,\n",
       "       0.67294313, 0.52453683, 0.44185434, 0.65735425, 0.70030268,\n",
       "       0.54401761, 0.5218457 , 0.47588787, 0.50214415, 0.6319616 ,\n",
       "       0.60843275, 0.57302311, 0.61081443, 0.58548938, 0.56812735,\n",
       "       0.64829843, 0.62933014, 0.54465368, 0.53285959, 0.56481847,\n",
       "       0.58762921, 0.53187151, 0.65957078, 0.59835888, 0.4800858 ,\n",
       "       0.65689074, 0.59304625, 0.66584035, 0.6782073 , 0.58255504,\n",
       "       0.6389992 , 0.66389769, 0.63282472, 0.50799014, 0.51921086,\n",
       "       0.57111685, 0.47878551, 0.56158567, 0.55370866, 0.63949251,\n",
       "       0.5536962 , 0.50957614, 0.52867606, 0.52315177, 0.50419062,\n",
       "       0.53812516, 0.74337906, 0.51759752, 0.51304742, 0.60479697,\n",
       "       0.7116801 , 0.4628438 , 0.51260533, 0.66249626, 0.63234841,\n",
       "       0.51083741, 0.61740126, 0.58876285, 0.50691489, 0.5514677 ,\n",
       "       0.56222028, 0.57776362, 0.66617004, 0.55774489, 0.62633697,\n",
       "       0.63019654, 0.71833893, 0.6907011 , 0.51806513, 0.53974611,\n",
       "       0.42671339, 0.68427587, 0.51715602, 0.67952593, 0.60623467,\n",
       "       0.59766296, 0.52120329, 0.61320979, 0.55538365, 0.63319025,\n",
       "       0.69388893, 0.69382491, 0.66209607, 0.54699429, 0.66262694,\n",
       "       0.47432558, 0.59343289, 0.5257248 , 0.58062568, 0.55513981,\n",
       "       0.68668283, 0.469545  , 0.46204931, 0.64170307, 0.69147002,\n",
       "       0.5914874 , 0.71226712, 0.49325797, 0.59973169, 0.51366891,\n",
       "       0.57017207, 0.55777629, 0.59741022, 0.53067779, 0.65849191,\n",
       "       0.51814   , 0.40949841, 0.68224937, 0.73128412, 0.58719297,\n",
       "       0.64945885, 0.55843815, 0.58179748, 0.59363088, 0.57966355,\n",
       "       0.70691868, 0.59777255, 0.60968811, 0.52601966, 0.4573371 ,\n",
       "       0.75109623, 0.58351857, 0.65460893, 0.65581929, 0.54576755,\n",
       "       0.6298326 , 0.57834029, 0.59476144, 0.52011724, 0.59056023,\n",
       "       0.64646811, 0.65794232, 0.69026835, 0.53066503, 0.6375385 ,\n",
       "       0.60752949, 0.52484739, 0.40949841, 0.60218005, 0.60222104,\n",
       "       0.78498815, 0.66138472, 0.66595808, 0.40949841, 0.52827571,\n",
       "       0.65719364, 0.69860287, 0.48469508, 0.49433553, 0.66162807,\n",
       "       0.63491918, 0.64322513, 0.60172088, 0.68255273, 0.57049413,\n",
       "       0.65835712, 0.52608992, 0.59745046, 0.67734225, 0.52211058,\n",
       "       0.53373632, 0.62663364, 0.69770933, 0.62459921, 0.49939753,\n",
       "       0.55660695, 0.53627402, 0.53799461, 0.60725384, 0.50948819,\n",
       "       0.58037629, 0.40967883, 0.55216887, 0.63102211, 0.50281998,\n",
       "       0.51945962, 0.5362945 , 0.62503126, 0.45938395, 0.48913145,\n",
       "       0.47980682, 0.71068605, 0.4990572 , 0.45625884, 0.67470256,\n",
       "       0.50963673, 0.52919114, 0.69458336, 0.62715804, 0.62577482,\n",
       "       0.51367584, 0.56620093, 0.66229028, 0.65933415, 0.6704718 ,\n",
       "       0.72594002, 0.58948375, 0.61426152, 0.47125574, 0.50659379,\n",
       "       0.59881949, 0.52764537, 0.54426923, 0.55956669, 0.44596756,\n",
       "       0.60098666, 0.66728711, 0.43050139, 0.6691747 , 0.5996294 ,\n",
       "       0.57134585, 0.48124992, 0.5981392 , 0.54951182, 0.57191019,\n",
       "       0.53841163, 0.55095357, 0.69521458, 0.47411726, 0.69164266,\n",
       "       0.52425103, 0.52870152, 0.69060095, 0.65649949, 0.46820841,\n",
       "       0.69090967, 0.44525011, 0.56380247, 0.61299004, 0.57979692,\n",
       "       0.65761316, 0.64994531, 0.53382227, 0.53831911])"
      ]
     },
     "execution_count": 12,
     "metadata": {},
     "output_type": "execute_result"
    }
   ],
   "source": [
    "# On affiche les probabilités que la ligne apprtienne au label 0\n",
    "probabilities[:,0]"
   ]
  },
  {
   "cell_type": "code",
   "execution_count": 13,
   "metadata": {
    "collapsed": true
   },
   "outputs": [
    {
     "data": {
      "text/plain": [
       "array([0.36612082, 0.42870529, 0.25952869, 0.3447954 , 0.35704522,\n",
       "       0.48006425, 0.38218472, 0.43075511, 0.46990749, 0.56623396,\n",
       "       0.38886805, 0.4006332 , 0.32629313, 0.35957955, 0.39783506,\n",
       "       0.24364066, 0.35035447, 0.34773637, 0.37522671, 0.32427526,\n",
       "       0.45839833, 0.29965827, 0.32533383, 0.42536189, 0.28605448,\n",
       "       0.43707663, 0.38313358, 0.35205231, 0.23735529, 0.27138296,\n",
       "       0.25466582, 0.31141322, 0.42619292, 0.41285823, 0.27355666,\n",
       "       0.4234423 , 0.46140675, 0.49699266, 0.4016126 , 0.30764535,\n",
       "       0.37147321, 0.34159542, 0.40300048, 0.46954605, 0.33152163,\n",
       "       0.34488799, 0.34353544, 0.28207846, 0.3733915 , 0.25258006,\n",
       "       0.36657245, 0.38010115, 0.2615772 , 0.30481984, 0.4472095 ,\n",
       "       0.49941027, 0.2806665 , 0.43456052, 0.33078806, 0.31041479,\n",
       "       0.44471707, 0.33392604, 0.2530987 , 0.44049963, 0.51978572,\n",
       "       0.44762403, 0.32840398, 0.277824  , 0.46434844, 0.31244807,\n",
       "       0.46383041, 0.50571718, 0.35059877, 0.26550507, 0.52193854,\n",
       "       0.41826807, 0.33983818, 0.51845711, 0.3813319 , 0.27618968,\n",
       "       0.39252882, 0.28178689, 0.38004161, 0.43864315, 0.25324541,\n",
       "       0.40821819, 0.28028858, 0.33639879, 0.38912552, 0.33066054,\n",
       "       0.45226419, 0.45797973, 0.26898233, 0.40105025, 0.39982341,\n",
       "       0.34521706, 0.36394917, 0.48861355, 0.40635245, 0.30180261,\n",
       "       0.38102838, 0.15960455, 0.42680995, 0.50571046, 0.34698648,\n",
       "       0.27396724, 0.44320838, 0.38028391, 0.41009087, 0.39456033,\n",
       "       0.30097878, 0.32448935, 0.41004623, 0.39763683, 0.31895347,\n",
       "       0.40837109, 0.37729181, 0.37712892, 0.39200744, 0.39391647,\n",
       "       0.27225195, 0.27501612, 0.34265135, 0.35124047, 0.42138837,\n",
       "       0.35217711, 0.43368325, 0.31564551, 0.44358652, 0.43737693,\n",
       "       0.31401163, 0.29907787, 0.32609135, 0.44557608, 0.29843759,\n",
       "       0.32639376, 0.35564019, 0.39413412, 0.53272204, 0.35244833,\n",
       "       0.38521518, 0.36437746, 0.45192585, 0.44867729, 0.25103209,\n",
       "       0.27627514, 0.43755635, 0.34216346, 0.32172346, 0.2917066 ,\n",
       "       0.33602453, 0.3344422 , 0.28321913, 0.32775952, 0.29036242,\n",
       "       0.33172721, 0.44905939, 0.35797144, 0.33858304, 0.45097596,\n",
       "       0.41998243, 0.37674589, 0.45084128, 0.4413152 , 0.43581571,\n",
       "       0.40387578, 0.50503998, 0.30342813, 0.3003903 , 0.40096786,\n",
       "       0.34409302, 0.40669134, 0.37389744, 0.30544533, 0.35166544,\n",
       "       0.38931282, 0.40841686, 0.34096015, 0.33986462, 0.33269703,\n",
       "       0.3218851 , 0.40726192, 0.35252662, 0.409192  , 0.4106029 ,\n",
       "       0.34264039, 0.4889147 , 0.30470561, 0.3797472 , 0.44457589,\n",
       "       0.32373435, 0.48143757, 0.37797821, 0.23617059, 0.36074185,\n",
       "       0.37958444, 0.33839256, 0.48879894, 0.33851352, 0.31425752,\n",
       "       0.33532191, 0.48572816, 0.39011293, 0.43070248, 0.39248752,\n",
       "       0.30347317, 0.2514742 , 0.3153849 , 0.51746497, 0.24535069,\n",
       "       0.31325353, 0.28749628, 0.31538071, 0.37269774, 0.38450411,\n",
       "       0.38748993, 0.23817143, 0.37999507, 0.33365667, 0.38575478,\n",
       "       0.35519229, 0.5080682 , 0.40102059, 0.41561419, 0.50927683,\n",
       "       0.28518281, 0.52682946, 0.27606057, 0.26689239, 0.43049814,\n",
       "       0.35140776, 0.35198859, 0.30773344, 0.38672476, 0.29443745,\n",
       "       0.30820745, 0.40085805, 0.3817596 , 0.50039232, 0.39277352,\n",
       "       0.35509446, 0.37321496, 0.24756589, 0.43005675, 0.44102592,\n",
       "       0.3334277 , 0.56214106, 0.35921232, 0.32006393, 0.44357975,\n",
       "       0.4507417 , 0.36019966, 0.34344967, 0.38461822, 0.34848785,\n",
       "       0.35189778, 0.24814401, 0.37045785, 0.32676938, 0.33916794,\n",
       "       0.42908133, 0.38947956, 0.38045738, 0.34734913, 0.35917848,\n",
       "       0.43394072, 0.27128767, 0.40434979, 0.36270893, 0.2884794 ,\n",
       "       0.3316559 , 0.35698028, 0.45142635, 0.4454409 , 0.37903397,\n",
       "       0.38988736, 0.37662317, 0.37233567, 0.46377315, 0.34286341,\n",
       "       0.46221657, 0.33489195, 0.33495442, 0.30535751, 0.35236446,\n",
       "       0.34902554, 0.25611321, 0.36668122, 0.29608752, 0.19891118,\n",
       "       0.31877281, 0.36776732, 0.39677724, 0.30508543, 0.36344278,\n",
       "       0.27939516, 0.44912974, 0.35209662, 0.40264891, 0.25193625,\n",
       "       0.43306259, 0.3159019 , 0.36059197, 0.39675353, 0.34039816,\n",
       "       0.41598607, 0.42184424, 0.26928632, 0.36454786, 0.40075241,\n",
       "       0.51319262, 0.3002174 , 0.38329247, 0.21089991, 0.25838456,\n",
       "       0.45578882, 0.32072852, 0.38505611, 0.36148062, 0.31486597,\n",
       "       0.32461123, 0.38899829, 0.40875324, 0.38107241, 0.3515745 ,\n",
       "       0.4636343 , 0.3692345 , 0.27949336, 0.33947176, 0.36354121,\n",
       "       0.31499813, 0.3192356 , 0.39504118, 0.42599587, 0.3098717 ,\n",
       "       0.39206043, 0.36448476, 0.33268532, 0.32071365, 0.40279297,\n",
       "       0.38772633, 0.48381414, 0.4765476 , 0.39141625, 0.32953647,\n",
       "       0.43048303, 0.33715017, 0.35028531, 0.40264255, 0.37262125,\n",
       "       0.30748521, 0.46108549, 0.35325283, 0.35612758, 0.27946601,\n",
       "       0.26413839, 0.43247056, 0.34827643, 0.25742071, 0.34427844,\n",
       "       0.36790607, 0.33216091, 0.28594659, 0.34449202, 0.41140052,\n",
       "       0.32189912, 0.35531998, 0.39371678, 0.34746789, 0.3962623 ,\n",
       "       0.38664765, 0.2635767 , 0.2153832 , 0.32966215, 0.4151818 ,\n",
       "       0.40450904, 0.30016776, 0.34397201, 0.32413199, 0.37530225,\n",
       "       0.29671575, 0.37263849, 0.38642044, 0.44243501, 0.35688849,\n",
       "       0.3033001 , 0.28951492, 0.4041835 , 0.38278451, 0.31363567,\n",
       "       0.41686573, 0.39252151, 0.39340899, 0.21192391, 0.35085781,\n",
       "       0.4637544 , 0.47950072, 0.3970137 , 0.40631711, 0.2982583 ,\n",
       "       0.42917389, 0.49496271, 0.33160811, 0.29842825, 0.40038157,\n",
       "       0.36172678, 0.3345386 , 0.42514804, 0.36668048, 0.58194425,\n",
       "       0.32705687, 0.47546317, 0.55814566, 0.34264575, 0.29969732,\n",
       "       0.45598239, 0.4781543 , 0.52411213, 0.49785585, 0.3680384 ,\n",
       "       0.39156725, 0.42697689, 0.38918557, 0.41451062, 0.43187265,\n",
       "       0.35170157, 0.37066986, 0.45534632, 0.46714041, 0.43518153,\n",
       "       0.41237079, 0.46812849, 0.34042922, 0.40164112, 0.5199142 ,\n",
       "       0.34310926, 0.40695375, 0.33415965, 0.3217927 , 0.41744496,\n",
       "       0.3610008 , 0.33610231, 0.36717528, 0.49200986, 0.48078914,\n",
       "       0.42888315, 0.52121449, 0.43841433, 0.44629134, 0.36050749,\n",
       "       0.4463038 , 0.49042386, 0.47132394, 0.47684823, 0.49580938,\n",
       "       0.46187484, 0.25662094, 0.48240248, 0.48695258, 0.39520303,\n",
       "       0.2883199 , 0.5371562 , 0.48739467, 0.33750374, 0.36765159,\n",
       "       0.48916259, 0.38259874, 0.41123715, 0.49308511, 0.4485323 ,\n",
       "       0.43777972, 0.42223638, 0.33382996, 0.44225511, 0.37366303,\n",
       "       0.36980346, 0.28166107, 0.3092989 , 0.48193487, 0.46025389,\n",
       "       0.57328661, 0.31572413, 0.48284398, 0.32047407, 0.39376533,\n",
       "       0.40233704, 0.47879671, 0.38679021, 0.44461635, 0.36680975,\n",
       "       0.30611107, 0.30617509, 0.33790393, 0.45300571, 0.33737306,\n",
       "       0.52567442, 0.40656711, 0.4742752 , 0.41937432, 0.44486019,\n",
       "       0.31331717, 0.530455  , 0.53795069, 0.35829693, 0.30852998,\n",
       "       0.4085126 , 0.28773288, 0.50674203, 0.40026831, 0.48633109,\n",
       "       0.42982793, 0.44222371, 0.40258978, 0.46932221, 0.34150809,\n",
       "       0.48186   , 0.59050159, 0.31775063, 0.26871588, 0.41280703,\n",
       "       0.35054115, 0.44156185, 0.41820252, 0.40636912, 0.42033645,\n",
       "       0.29308132, 0.40222745, 0.39031189, 0.47398034, 0.5426629 ,\n",
       "       0.24890377, 0.41648143, 0.34539107, 0.34418071, 0.45423245,\n",
       "       0.3701674 , 0.42165971, 0.40523856, 0.47988276, 0.40943977,\n",
       "       0.35353189, 0.34205768, 0.30973165, 0.46933497, 0.3624615 ,\n",
       "       0.39247051, 0.47515261, 0.59050159, 0.39781995, 0.39777896,\n",
       "       0.21501185, 0.33861528, 0.33404192, 0.59050159, 0.47172429,\n",
       "       0.34280636, 0.30139713, 0.51530492, 0.50566447, 0.33837193,\n",
       "       0.36508082, 0.35677487, 0.39827912, 0.31744727, 0.42950587,\n",
       "       0.34164288, 0.47391008, 0.40254954, 0.32265775, 0.47788942,\n",
       "       0.46626368, 0.37336636, 0.30229067, 0.37540079, 0.50060247,\n",
       "       0.44339305, 0.46372598, 0.46200539, 0.39274616, 0.49051181,\n",
       "       0.41962371, 0.59032117, 0.44783113, 0.36897789, 0.49718002,\n",
       "       0.48054038, 0.4637055 , 0.37496874, 0.54061605, 0.51086855,\n",
       "       0.52019318, 0.28931395, 0.5009428 , 0.54374116, 0.32529744,\n",
       "       0.49036327, 0.47080886, 0.30541664, 0.37284196, 0.37422518,\n",
       "       0.48632416, 0.43379907, 0.33770972, 0.34066585, 0.3295282 ,\n",
       "       0.27405998, 0.41051625, 0.38573848, 0.52874426, 0.49340621,\n",
       "       0.40118051, 0.47235463, 0.45573077, 0.44043331, 0.55403244,\n",
       "       0.39901334, 0.33271289, 0.56949861, 0.3308253 , 0.4003706 ,\n",
       "       0.42865415, 0.51875008, 0.4018608 , 0.45048818, 0.42808981,\n",
       "       0.46158837, 0.44904643, 0.30478542, 0.52588274, 0.30835734,\n",
       "       0.47574897, 0.47129848, 0.30939905, 0.34350051, 0.53179159,\n",
       "       0.30909033, 0.55474989, 0.43619753, 0.38700996, 0.42020308,\n",
       "       0.34238684, 0.35005469, 0.46617773, 0.46168089])"
      ]
     },
     "execution_count": 13,
     "metadata": {},
     "output_type": "execute_result"
    }
   ],
   "source": [
    "# On affiche les probabilités que la ligne apprtienne au label 1\n",
    "probabilities[:,1]"
   ]
  },
  {
   "cell_type": "markdown",
   "metadata": {},
   "source": [
    "## Visialisons  les probabilités de label 1"
   ]
  },
  {
   "cell_type": "markdown",
   "metadata": {},
   "source": [
    "+ Utiliser la méthode  predict_proba sur le modèle instancié de la classe LogisticRegression pour retourner la prédiction des probabilités pour les données de la colonne 'gpa'. Assigner les probabilités retournées à la variable pred_probs.\n",
    "+ Créer et afficher un graphique à nuage de points en utilisant la fonction scatter de Matplotlib où:\n",
    " - L'axe x représente les valeurs de la colonne 'gpa',\n",
    " - L'axe y représente la probabilité d'être classifié label 1.\n"
   ]
  },
  {
   "cell_type": "code",
   "execution_count": 14,
   "metadata": {},
   "outputs": [
    {
     "data": {
      "text/plain": [
       "<matplotlib.collections.PathCollection at 0x20881e5e7c0>"
      ]
     },
     "execution_count": 14,
     "metadata": {},
     "output_type": "execute_result"
    },
    {
     "data": {
      "image/png": "[encoded data removed]",
      "text/plain": [
       "<Figure size 432x288 with 1 Axes>"
      ]
     },
     "metadata": {
      "needs_background": "light"
     },
     "output_type": "display_data"
    }
   ],
   "source": [
    "# On apart de notre modele entraine precédent\n",
    "logistic_model = LogisticRegression(solver='liblinear')\n",
    "logistic_model.fit(admissions[['gpa']], admissions['admit'])\n",
    "\n",
    "# on applique la méthode prdict.proba\n",
    "pred_probs = logistic_model.predict_proba(admissions[['gpa']])\n",
    "# Sur l'axe des y on affiche le resultat\n",
    "plt.scatter(admissions['gpa'], pred_probs[:,1])\n",
    "# On constate qu'il semble exister une relation entre les gpa et les prob dêtre admis"
   ]
  },
  {
   "cell_type": "markdown",
   "metadata": {},
   "source": [
    "## Utilisation de la methode predict pour retourner les labels\n",
    "- Prédiction des libellés"
   ]
  },
  {
   "cell_type": "markdown",
   "metadata": {},
   "source": [
    "+ Utiliser la méthode predict() pour retourner la prédiction pour chaque label du set de training.\n",
    " - Le paramètre de la méthode predict() correspond à celui de la méthode predict_proba\n",
    " - Assigner le résultat à la variable fitted_labels.\n",
    "+ Afficher les 10 premières valeurs de fitted_labels.\n",
    "+ Tracer le graphique de la régression logistique."
   ]
  },
  {
   "cell_type": "code",
   "execution_count": 16,
   "metadata": {},
   "outputs": [],
   "source": [
    "# On a notre modèle de regression logistique entrainé\n",
    "logistic_model = LogisticRegression(solver='liblinear')\n",
    "logistic_model.fit(admissions[['gpa']], admissions['admit'])\n",
    "\n",
    "fitted_labels = logistic_model.predict(admissions[['gpa']])"
   ]
  },
  {
   "cell_type": "code",
   "execution_count": 17,
   "metadata": {},
   "outputs": [
    {
     "data": {
      "text/plain": [
       "array([0, 0, 0, 0, 0, 0, 0, 0, 0, 1], dtype=int64)"
      ]
     },
     "execution_count": 17,
     "metadata": {},
     "output_type": "execute_result"
    }
   ],
   "source": [
    "# on va afficher nos 10 premier valeur\n",
    "fitted_labels[:10]"
   ]
  },
  {
   "cell_type": "code",
   "execution_count": 18,
   "metadata": {},
   "outputs": [
    {
     "data": {
      "text/plain": [
       "<matplotlib.collections.PathCollection at 0x208819f44c0>"
      ]
     },
     "execution_count": 18,
     "metadata": {},
     "output_type": "execute_result"
    },
    {
     "data": {
      "image/png": "[encoded data removed]",
      "text/plain": [
       "<Figure size 432x288 with 1 Axes>"
      ]
     },
     "metadata": {
      "needs_background": "light"
     },
     "output_type": "display_data"
    }
   ],
   "source": [
    "# on va tracer notre graphique\n",
    "#laxe x: gpa, l'axe y les prediction\n",
    "plt.scatter(admissions['gpa'], fitted_labels)"
   ]
  },
  {
   "cell_type": "code",
   "execution_count": null,
   "metadata": {},
   "outputs": [],
   "source": []
  }
 ],
 "metadata": {
  "kernelspec": {
   "display_name": "Python 3 (ipykernel)",
   "language": "python",
   "name": "python3"
  },
  "language_info": {
   "codemirror_mode": {
    "name": "ipython",
    "version": 3
   },
   "file_extension": ".py",
   "mimetype": "text/x-python",
   "name": "python",
   "nbconvert_exporter": "python",
   "pygments_lexer": "ipython3",
   "version": "3.9.12"
  }
 },
 "nbformat": 4,
 "nbformat_minor": 2
}
